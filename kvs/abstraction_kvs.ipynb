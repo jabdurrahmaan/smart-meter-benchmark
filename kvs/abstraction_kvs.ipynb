{
 "cells": [
  {
   "cell_type": "markdown",
   "id": "2b353da1-7652-42f5-8078-cb3939221f9e",
   "metadata": {
    "jp-MarkdownHeadingCollapsed": true,
    "tags": []
   },
   "source": [
    "# Abstracted Python Commands for Aerospike"
   ]
  },
  {
   "cell_type": "markdown",
   "id": "7de7cb9d-bfaf-4b52-9a43-c2c784a03ee7",
   "metadata": {
    "jp-MarkdownHeadingCollapsed": true
   },
   "source": [
    "## Prerequisites"
   ]
  },
  {
   "cell_type": "markdown",
   "id": "16d4f7ca-226f-4733-bbd0-ad529068e01c",
   "metadata": {},
   "source": [
    "- Create an Aerospike instance by following the installation instructions, such as running an instance on a docker container.\n",
    "- Retrieve information about your host URL and the name of your collection, e.g. a multi-map.\n",
    "- Install and import the library aerospike and json."
   ]
  },
  {
   "cell_type": "code",
   "execution_count": 69,
   "id": "7ff923ae-9b0e-41a3-9242-b33eed23515a",
   "metadata": {},
   "outputs": [
    {
     "name": "stdout",
     "output_type": "stream",
     "text": [
      "Requirement already satisfied: aerospike in /Users/jafarabdurrahmaan/opt/anaconda3/lib/python3.9/site-packages (11.1.0)\n",
      "\n",
      "\u001b[1m[\u001b[0m\u001b[34;49mnotice\u001b[0m\u001b[1;39;49m]\u001b[0m\u001b[39;49m A new release of pip is available: \u001b[0m\u001b[31;49m23.1.2\u001b[0m\u001b[39;49m -> \u001b[0m\u001b[32;49m23.2\u001b[0m\n",
      "\u001b[1m[\u001b[0m\u001b[34;49mnotice\u001b[0m\u001b[1;39;49m]\u001b[0m\u001b[39;49m To update, run: \u001b[0m\u001b[32;49mpip install --upgrade pip\u001b[0m\n"
     ]
    }
   ],
   "source": [
    "!pip install aerospike"
   ]
  },
  {
   "cell_type": "code",
   "execution_count": 70,
   "id": "80ef66df-9500-428a-9b09-a2f813bff159",
   "metadata": {},
   "outputs": [],
   "source": [
    "import json\n",
    "import aerospike"
   ]
  },
  {
   "cell_type": "markdown",
   "id": "67f83e7e-ecc2-4e67-8f9e-0dacec12ad10",
   "metadata": {
    "jp-MarkdownHeadingCollapsed": true,
    "tags": []
   },
   "source": [
    "## Python Class for Aerospike"
   ]
  },
  {
   "cell_type": "code",
   "execution_count": 101,
   "id": "c09f461f-4cb9-4e5b-a190-e811b37a98bd",
   "metadata": {},
   "outputs": [],
   "source": [
    "import aerospike\n",
    "import json\n",
    "import time\n",
    "\n",
    "class AerospikeClient:\n",
    "    def __init__(self, host, port, namespace, set_name):\n",
    "        self.config = {\"hosts\": [(host, port)]}\n",
    "        self.namespace = namespace\n",
    "        self.set_name = set_name\n",
    "\n",
    "    def connect(self):\n",
    "        self.client = aerospike.client(self.config).connect()\n",
    "\n",
    "    def disconnect(self):\n",
    "        self.client.close()\n",
    "\n",
    "    def insert_data(self, json_file):\n",
    "        # Open the JSON file\n",
    "        with open(json_file, \"r\") as file:\n",
    "            json_data = json.load(file)\n",
    "\n",
    "        # Iterate over each item in the JSON data\n",
    "        for item in json_data:\n",
    "            # Extract the field values\n",
    "            id = item[\"id\"]\n",
    "            lclid = item[\"LCLid\"]\n",
    "            day = item[\"day\"]\n",
    "            energy_median = float(item[\"energy_median\"])\n",
    "            energy_mean = float(item[\"energy_mean\"])\n",
    "            energy_max = float(item[\"energy_max\"])\n",
    "            energy_count = float(item[\"energy_count\"])\n",
    "            energy_std = float(item[\"energy_std\"])\n",
    "            energy_sum = float(item[\"energy_sum\"])\n",
    "            energy_min = float(item[\"energy_min\"])\n",
    "\n",
    "            # Define the Aerospike key using the \"id\" field as the primary key\n",
    "            key = (self.namespace, self.set_name, id)\n",
    "\n",
    "            # Set an Aerospike bin with the bin name \"energy\" and put the record_dict\n",
    "            bins = {\n",
    "                \"energy_mm\": {\n",
    "                    \"id\": id,\n",
    "                    \"lclid\": lclid,\n",
    "                    \"day\": day,\n",
    "                    \"energy_median\": energy_median,\n",
    "                    \"energy_mean\": energy_mean,\n",
    "                    \"energy_max\": energy_max,\n",
    "                    \"energy_count\": energy_count,\n",
    "                    \"energy_std\": energy_std,\n",
    "                    \"energy_sum\": energy_sum,\n",
    "                    \"energy_min\": energy_min,\n",
    "                }\n",
    "            }\n",
    "\n",
    "            # Create the write policy\n",
    "            write_policy = {\"key\": aerospike.POLICY_KEY_SEND}\n",
    "\n",
    "            # Write the record to Aerospike\n",
    "            try:\n",
    "                self.client.put(key=key, bins=bins, policy=write_policy)\n",
    "            except aerospike.exception.AerospikeError as e:\n",
    "                print(f\"Create failed for Record with id: {id}\\nError: {e.msg}, {e.code}\")\n",
    "\n",
    "    def query_data(self, primary_keys):\n",
    "        for pk in primary_keys:\n",
    "            key = (self.namespace, self.set_name, pk)\n",
    "            try:\n",
    "                _, _, record = self.client.get(key)\n",
    "                energy = record[\"energy_mm\"]\n",
    "                print(f\"PK: {pk}, Energy: {energy}\")\n",
    "            except aerospike.exception.RecordNotFound:\n",
    "                print(f\"No record found for PK: {pk}\")"
   ]
  },
  {
   "cell_type": "markdown",
   "id": "ac120dcf-1b34-430d-bfb5-e6adcc754c75",
   "metadata": {
    "jp-MarkdownHeadingCollapsed": true
   },
   "source": [
    "## Exemplary Usage"
   ]
  },
  {
   "cell_type": "code",
   "execution_count": 107,
   "id": "f35ee8ec-dfc3-4494-986f-b7790716576d",
   "metadata": {},
   "outputs": [],
   "source": [
    "aerospike_client = AerospikeClient(\"localhost\", 3000, \"test\", \"energy_mm\")\n",
    "aerospike_client.connect()"
   ]
  },
  {
   "cell_type": "code",
   "execution_count": null,
   "id": "37cdbbed-161b-4be0-a904-0335d1382ae3",
   "metadata": {},
   "outputs": [],
   "source": [
    "aerospike_client.insert_data(\"/Users/jafarabdurrahmaan/Dropbox/00_Uni/Masterthesis/A_Thesis/1_Components/13_Benchmark_Study_Components/3_KVS/CosmosDB/iter2.2/daily_dataset_small_kv.json\")"
   ]
  },
  {
   "cell_type": "code",
   "execution_count": null,
   "id": "a47a2a34-74f7-45e4-9922-46d0c0c62aaa",
   "metadata": {},
   "outputs": [],
   "source": [
    "record = aerospike_client.query_data(\"MAC000131_2011-12-15\")\n",
    "print(record)"
   ]
  },
  {
   "cell_type": "markdown",
   "id": "a8e9955f-30c2-41a4-a0f1-35631d8aafcf",
   "metadata": {
    "tags": []
   },
   "source": [
    "# Abstracted Python Commands for CosmosDB"
   ]
  },
  {
   "cell_type": "markdown",
   "id": "aaf14910-6473-4c48-88fd-f008b8447ee8",
   "metadata": {
    "jp-MarkdownHeadingCollapsed": true
   },
   "source": [
    "## Prerequisites"
   ]
  },
  {
   "cell_type": "markdown",
   "id": "abc4ba70-17fc-4d29-9bc0-dc4262207046",
   "metadata": {},
   "source": [
    "- Create a CosmosDB account in Microsoft Azure.\n",
    "- Retrieve information about your endpoint and your key to establish a client to CosmosDB.\n",
    "- Retrieve information about your database name and container name you have created via the web interface in your CosmosDB account in Azure.\n",
    "- Install the library azure-cosmos and import the libraries CosmosClient and json."
   ]
  },
  {
   "cell_type": "code",
   "execution_count": 1,
   "id": "cf5832a8-3409-4661-98f8-648c1cdb2fed",
   "metadata": {},
   "outputs": [
    {
     "name": "stdout",
     "output_type": "stream",
     "text": [
      "Requirement already satisfied: azure-cosmos in /Users/jafarabdurrahmaan/opt/anaconda3/lib/python3.9/site-packages (4.4.0)\n",
      "Requirement already satisfied: azure-core<2.0.0,>=1.23.0 in /Users/jafarabdurrahmaan/opt/anaconda3/lib/python3.9/site-packages (from azure-cosmos) (1.27.1)\n",
      "Requirement already satisfied: requests>=2.18.4 in /Users/jafarabdurrahmaan/opt/anaconda3/lib/python3.9/site-packages (from azure-core<2.0.0,>=1.23.0->azure-cosmos) (2.26.0)\n",
      "Requirement already satisfied: six>=1.11.0 in /Users/jafarabdurrahmaan/opt/anaconda3/lib/python3.9/site-packages (from azure-core<2.0.0,>=1.23.0->azure-cosmos) (1.16.0)\n",
      "Requirement already satisfied: typing-extensions>=4.3.0 in /Users/jafarabdurrahmaan/opt/anaconda3/lib/python3.9/site-packages (from azure-core<2.0.0,>=1.23.0->azure-cosmos) (4.6.3)\n",
      "Requirement already satisfied: urllib3<1.27,>=1.21.1 in /Users/jafarabdurrahmaan/opt/anaconda3/lib/python3.9/site-packages (from requests>=2.18.4->azure-core<2.0.0,>=1.23.0->azure-cosmos) (1.26.16)\n",
      "Requirement already satisfied: certifi>=2017.4.17 in /Users/jafarabdurrahmaan/opt/anaconda3/lib/python3.9/site-packages (from requests>=2.18.4->azure-core<2.0.0,>=1.23.0->azure-cosmos) (2021.10.8)\n",
      "Requirement already satisfied: charset-normalizer~=2.0.0 in /Users/jafarabdurrahmaan/opt/anaconda3/lib/python3.9/site-packages (from requests>=2.18.4->azure-core<2.0.0,>=1.23.0->azure-cosmos) (2.0.4)\n",
      "Requirement already satisfied: idna<4,>=2.5 in /Users/jafarabdurrahmaan/opt/anaconda3/lib/python3.9/site-packages (from requests>=2.18.4->azure-core<2.0.0,>=1.23.0->azure-cosmos) (3.2)\n",
      "\n",
      "\u001b[1m[\u001b[0m\u001b[34;49mnotice\u001b[0m\u001b[1;39;49m]\u001b[0m\u001b[39;49m A new release of pip is available: \u001b[0m\u001b[31;49m23.1.2\u001b[0m\u001b[39;49m -> \u001b[0m\u001b[32;49m23.2\u001b[0m\n",
      "\u001b[1m[\u001b[0m\u001b[34;49mnotice\u001b[0m\u001b[1;39;49m]\u001b[0m\u001b[39;49m To update, run: \u001b[0m\u001b[32;49mpip install --upgrade pip\u001b[0m\n"
     ]
    }
   ],
   "source": [
    "!pip install azure-cosmos"
   ]
  },
  {
   "cell_type": "code",
   "execution_count": 14,
   "id": "c843be1e-a778-449a-8630-8c4c71ab8c81",
   "metadata": {},
   "outputs": [],
   "source": [
    "import json\n",
    "from azure.cosmos import CosmosClient"
   ]
  },
  {
   "cell_type": "markdown",
   "id": "fa00b5c5-5c95-4426-b57b-b229a0e7b34e",
   "metadata": {
    "jp-MarkdownHeadingCollapsed": true
   },
   "source": [
    "## Python Class for CosmosDB"
   ]
  },
  {
   "cell_type": "code",
   "execution_count": 66,
   "id": "3523277d-9e50-4c8a-8581-95151f637817",
   "metadata": {},
   "outputs": [],
   "source": [
    "class CosmosDBClient:\n",
    "    def __init__(self, endpoint, key, database_name, container_name):\n",
    "        self.client = CosmosClient(endpoint, key)\n",
    "        self.database_name = database_name\n",
    "        self.container_name = container_name\n",
    "        \n",
    "    def disconnect(self):\n",
    "        self.client.close()\n",
    "    \n",
    "    def insert_data(self, json_file, container_item):\n",
    "        \"\"\"Specify the path to your json file with json_file and the item names eventually named in the container with container_item\"\"\"\n",
    "        database = self.client.get_database_client(self.database_name)\n",
    "        container = database.get_container_client(self.container_name)\n",
    "\n",
    "        with open(json_file, \"r\") as file:\n",
    "            json_data = json.load(file)\n",
    "\n",
    "        for item in json_data:\n",
    "            item_data = {key: item[key] for key in container_item}\n",
    "            item_data[\"partitionKey\"] = \"default\"\n",
    "\n",
    "            container.create_item(item_data)\n",
    "\n",
    "    def query_data(self, query):\n",
    "        \"\"\"Specify your query and pass them into this function.\"\"\"\n",
    "        items = list(container.query_items(query=query, enable_cross_partition_query=True))\n",
    "        return items"
   ]
  },
  {
   "cell_type": "markdown",
   "id": "5e1d63a7-9e9c-4429-b812-f76b63a71d6f",
   "metadata": {
    "jp-MarkdownHeadingCollapsed": true
   },
   "source": [
    "## Exemplary Usage"
   ]
  },
  {
   "cell_type": "code",
   "execution_count": 67,
   "id": "2667e88e-17a8-43f7-adae-f08a6a733b42",
   "metadata": {},
   "outputs": [],
   "source": [
    "endpoint = \"https://smart-meter-benchmark.documents.azure.com:443/\"\n",
    "key = \"HvrYXT5hnZmhRNJf2vJdXRy7Ms4YSKQE6lP77MAw4AES7N7sXLopbTyy1LoXYeBwRLgKEGms3S0JACDbKq9F3Q==;\"\n",
    "database_name = \"smart-meter-benchmark_mm\"\n",
    "container_name = \"energy_mm\"\n",
    "\n",
    "client = CosmosDBClient(endpoint, key, database_name, container_name)"
   ]
  },
  {
   "cell_type": "code",
   "execution_count": 62,
   "id": "dd2e00a9-8e9b-44ac-a61c-408d2a5fbdbf",
   "metadata": {},
   "outputs": [],
   "source": [
    "json_file = \"/Users/jafarabdurrahmaan/Dropbox/00_Uni/Masterthesis/A_Thesis/1_Components/13_Benchmark_Study_Components/3_KVS/CosmosDB/iter2.2/daily_dataset_small_kv.json\"\n",
    "\n",
    "container_item = [\n",
    "    \"id\",\n",
    "    \"LCLid\",\n",
    "    \"day\",\n",
    "    \"energy_median\",\n",
    "    \"energy_mean\",\n",
    "    \"energy_max\",\n",
    "    \"energy_count\",\n",
    "    \"energy_std\",\n",
    "    \"energy_sum\",\n",
    "    \"energy_min\"\n",
    "]\n",
    "\n",
    "\n",
    "client.insert_data(json_file=json_file, container_item=container_item)"
   ]
  },
  {
   "cell_type": "code",
   "execution_count": 68,
   "id": "b9129a63-4506-4baf-91da-45cf277b6f18",
   "metadata": {},
   "outputs": [
    {
     "data": {
      "text/plain": [
       "[{'id': 'MAC000131_2011-12-15',\n",
       "  'LCLid': 'MAC000131',\n",
       "  'day': '2011-12-15',\n",
       "  'energy_median': 0.485,\n",
       "  'energy_mean': 0.4320454545454545,\n",
       "  'energy_max': 0.868,\n",
       "  'energy_count': 22,\n",
       "  'energy_std': 0.2391457967876753,\n",
       "  'energy_sum': 9.505,\n",
       "  'energy_min': 0.072,\n",
       "  'partitionKey': 'default',\n",
       "  '_rid': 'C68OAMGhsOYBAAAAAAAAAA==',\n",
       "  '_self': 'dbs/C68OAA==/colls/C68OAMGhsOY=/docs/C68OAMGhsOYBAAAAAAAAAA==/',\n",
       "  '_etag': '\"02002a2c-0000-1000-0000-64b7e4f80000\"',\n",
       "  '_attachments': 'attachments/',\n",
       "  '_ts': 1689773304}]"
      ]
     },
     "execution_count": 68,
     "metadata": {},
     "output_type": "execute_result"
    }
   ],
   "source": [
    "query = \"SELECT * FROM c WHERE c.id = 'MAC000131_2011-12-15'\"\n",
    "\n",
    "client.query_data(query)"
   ]
  },
  {
   "cell_type": "markdown",
   "id": "27bfb930-6945-4404-8e97-f12d9d6b2a89",
   "metadata": {
    "tags": []
   },
   "source": [
    "# Abstracted Python Commands for Hazelcast"
   ]
  },
  {
   "cell_type": "markdown",
   "id": "5b4c8712-286f-45cf-b4eb-8e83f08848a6",
   "metadata": {
    "jp-MarkdownHeadingCollapsed": true
   },
   "source": [
    "## Prerequisites"
   ]
  },
  {
   "cell_type": "markdown",
   "id": "f51a79c3-5771-4bef-8d10-5024cf401ff7",
   "metadata": {},
   "source": [
    "- Create a Hazelcast instance following the instructions for installation.\n",
    "- Retrieve information about the URL to your host and the name of your collection, such as your multimap.\n",
    "- Install the library hazelcast and import it as well as the json library."
   ]
  },
  {
   "cell_type": "code",
   "execution_count": 1,
   "id": "d46f5326-4aae-4469-a5b2-58ffbbd43282",
   "metadata": {},
   "outputs": [
    {
     "name": "stdout",
     "output_type": "stream",
     "text": [
      "\u001b[33mWARNING: The directory '/Users/jafarabdurrahmaan/Library/Caches/pip' or its parent directory is not owned or is not writable by the current user. The cache has been disabled. Check the permissions and owner of that directory. If executing pip with sudo, you should use sudo's -H flag.\u001b[0m\u001b[33m\n",
      "\u001b[0mCollecting hazelcast\n",
      "  Downloading hazelcast-0.1.0-py3-none-any.whl (1.3 kB)\n",
      "Installing collected packages: hazelcast\n",
      "Successfully installed hazelcast-0.1.0\n",
      "\u001b[33mWARNING: Running pip as the 'root' user can result in broken permissions and conflicting behaviour with the system package manager. It is recommended to use a virtual environment instead: https://pip.pypa.io/warnings/venv\u001b[0m\u001b[33m\n",
      "\u001b[0m"
     ]
    }
   ],
   "source": [
    "!pip install hazelcast"
   ]
  },
  {
   "cell_type": "code",
   "execution_count": 2,
   "id": "69fb3eb8-5d5d-488c-b627-a2c634fe4845",
   "metadata": {},
   "outputs": [],
   "source": [
    "import hazelcast\n",
    "import json"
   ]
  },
  {
   "cell_type": "markdown",
   "id": "3e165473-8d95-4285-aec4-eb21f9596211",
   "metadata": {
    "jp-MarkdownHeadingCollapsed": true
   },
   "source": [
    "## Python Class for Hazelcast"
   ]
  },
  {
   "cell_type": "code",
   "execution_count": 137,
   "id": "21462dd4-049e-4546-859a-773f11a3f24c",
   "metadata": {},
   "outputs": [],
   "source": [
    "class HazelcastClient:\n",
    "    def __init__(self, cluster_members, multi_map_name):\n",
    "        self.client = hazelcast.HazelcastClient(cluster_members)\n",
    "        self.multi_map = self.client.get_multi_map(multi_map_name)\n",
    "        \n",
    "    def disconnect(self):\n",
    "        self.client.shutdown()\n",
    "\n",
    "    def insert_data(self, json_file, multi_map_name):\n",
    "        with open(json_file, 'r') as file:\n",
    "            data = json.load(file)\n",
    "            \n",
    "        multi_map = self.client.get_multi_map(multi_map_name)\n",
    "\n",
    "        for item in data:\n",
    "            key = item['id']\n",
    "            values = [\n",
    "                item['LCLid'],\n",
    "                item['day'],\n",
    "                item['energy_median'],\n",
    "                item['energy_mean'],\n",
    "                item['energy_max'],\n",
    "                item['energy_count'],\n",
    "                item['energy_std'],\n",
    "                item['energy_sum'],\n",
    "                item['energy_min']\n",
    "            ]\n",
    "            multi_map.put_all({key: values})\n",
    "            \n",
    "    def query_values(self, keys):\n",
    "        for key in keys:\n",
    "            values_future = self.multi_map.get(key)\n",
    "            values = values_future.result()\n",
    "            print(f\"Values for key '{key}': {values}\")"
   ]
  },
  {
   "cell_type": "markdown",
   "id": "a07ca603-6485-4a52-9abd-55e7a0c8fc5e",
   "metadata": {
    "jp-MarkdownHeadingCollapsed": true
   },
   "source": [
    "## Exemplary Usage"
   ]
  },
  {
   "cell_type": "code",
   "execution_count": null,
   "id": "d89e5e06-eae6-4c19-ab83-f96c14f39dfe",
   "metadata": {},
   "outputs": [],
   "source": [
    "cluster_members = [\"127.0.0.1:5701\", \"127.0.0.1:5702\"]\n",
    "multi_map_name = \"smart-meter-benchmark_mm\"\n",
    "hazelcast_client = HazelcastClient(cluster_members, multi_map_name)"
   ]
  },
  {
   "cell_type": "code",
   "execution_count": null,
   "id": "da62a121-5796-46dc-a448-8fd99048d8c8",
   "metadata": {},
   "outputs": [],
   "source": [
    "hazelcast_client.insert_data('/Users/jafarabdurrahmaan/Dropbox/00_Uni/Masterthesis/A_Thesis/1_Components/13_Benchmark_Study_Components/3_KVS/Hazelcast/iter2.2/daily_dataset_small_kv.json', \"smart-meter-benchmark_mm\")"
   ]
  },
  {
   "cell_type": "code",
   "execution_count": null,
   "id": "0996f93a-b56d-4ab2-9ac1-bf9284eb3a99",
   "metadata": {},
   "outputs": [],
   "source": [
    "keys = [\"MAC000131_2012-06-01\", \"MAC000131_2012-06-02\", \"MAC000131_2012-06-03\"]\n",
    "hazelcast_client.query_values(keys)"
   ]
  }
 ],
 "metadata": {
  "kernelspec": {
   "display_name": "Python 3 (ipykernel)",
   "language": "python",
   "name": "python3"
  },
  "language_info": {
   "codemirror_mode": {
    "name": "ipython",
    "version": 3
   },
   "file_extension": ".py",
   "mimetype": "text/x-python",
   "name": "python",
   "nbconvert_exporter": "python",
   "pygments_lexer": "ipython3",
   "version": "3.11.4"
  }
 },
 "nbformat": 4,
 "nbformat_minor": 5
}
