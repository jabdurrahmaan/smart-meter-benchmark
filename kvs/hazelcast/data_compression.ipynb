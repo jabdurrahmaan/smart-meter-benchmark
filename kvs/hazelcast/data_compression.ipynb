{
 "cells": [
  {
   "cell_type": "code",
   "execution_count": 1,
   "id": "3b08678c-abac-449c-b4fa-3452d6ed90b9",
   "metadata": {},
   "outputs": [],
   "source": [
    "import hazelcast\n",
    "import logging\n",
    "logging.basicConfig(level=logging.INFO)\n",
    "from hazelcast import HazelcastClient\n",
    "import json\n",
    "import time\n",
    "import gzip"
   ]
  },
  {
   "cell_type": "markdown",
   "id": "9977ccd6-cf20-4f99-801f-06cc050d7837",
   "metadata": {},
   "source": [
    "# Create client connection"
   ]
  },
  {
   "cell_type": "code",
   "execution_count": 5,
   "id": "31df5e76-ceea-4908-8f27-f5ae7d8cff41",
   "metadata": {},
   "outputs": [
    {
     "name": "stderr",
     "output_type": "stream",
     "text": [
      "INFO:hazelcast.lifecycle:HazelcastClient 5.3.0 is STARTING\n",
      "INFO:hazelcast.lifecycle:HazelcastClient 5.3.0 is STARTED\n",
      "INFO:hazelcast.connection:Trying to connect to Address(host=127.0.0.1, port=5701)\n",
      "INFO:hazelcast.lifecycle:HazelcastClient 5.3.0 is CONNECTED\n",
      "INFO:hazelcast.connection:Authenticated with server Address(host=127.0.0.1, port=5701):64d6a794-babf-4b5e-9798-90b31ccf0584, server version: 5.2.4, local address: Address(host=127.0.0.1, port=54417)\n",
      "INFO:hazelcast.cluster:\n",
      "\n",
      "Members [1] {\n",
      "\tMember [127.0.0.1]:5701 - 64d6a794-babf-4b5e-9798-90b31ccf0584\n",
      "}\n",
      "\n",
      "INFO:hazelcast.client:Client started\n"
     ]
    }
   ],
   "source": [
    "# Create client\n",
    "client = hazelcast.HazelcastClient(\n",
    "    cluster_members=[\"127.0.0.1:5701\", \"127.0.0.1:5702\", ])\n",
    "\n",
    "# Connect to the Hazelcast cluster\n",
    "client = HazelcastClient()"
   ]
  },
  {
   "cell_type": "markdown",
   "id": "5560d45f-43a8-4a69-a292-f7677b022237",
   "metadata": {},
   "source": [
    "# Specify map"
   ]
  },
  {
   "cell_type": "code",
   "execution_count": null,
   "id": "3f5c5483-d805-4490-81fa-bccd34d59414",
   "metadata": {},
   "outputs": [],
   "source": [
    "map_name = \"smart-meter-benchmark\"\n",
    "my_map = client.get_map(map_name)"
   ]
  },
  {
   "cell_type": "markdown",
   "id": "7d37220d-dcbd-4f19-9e4f-041435f7d50a",
   "metadata": {},
   "source": [
    "# Data Compression"
   ]
  },
  {
   "cell_type": "code",
   "execution_count": 61,
   "id": "5f728fea-9600-4241-9214-8061999d3779",
   "metadata": {},
   "outputs": [],
   "source": [
    "def compress_csv_file(input_file, output_file):\n",
    "    with open(input_file, 'rb') as f_in, gzip.open(output_file, 'wb') as f_out:\n",
    "        f_out.writelines(f_in)\n",
    "\n",
    "input_file = 'daily_dataset_small.json'\n",
    "output_file = 'daily_dataset_small.gz'\n",
    "compress_csv_file(input_file, output_file)"
   ]
  },
  {
   "cell_type": "markdown",
   "id": "50c1d8ed-fdc3-421e-b4dd-0c728cdfb1b6",
   "metadata": {},
   "source": [
    "# Data Insertion"
   ]
  },
  {
   "cell_type": "code",
   "execution_count": 65,
   "id": "ab8825c1-a431-435d-8c89-498462517593",
   "metadata": {},
   "outputs": [
    {
     "name": "stderr",
     "output_type": "stream",
     "text": [
      "INFO:hazelcast.lifecycle:HazelcastClient 5.3.0 is STARTING\n",
      "INFO:hazelcast.lifecycle:HazelcastClient 5.3.0 is STARTED\n",
      "INFO:hazelcast.connection:Trying to connect to Address(host=127.0.0.1, port=5701)\n",
      "INFO:hazelcast.lifecycle:HazelcastClient 5.3.0 is CONNECTED\n",
      "INFO:hazelcast.connection:Authenticated with server Address(host=127.0.0.1, port=5701):64d6a794-babf-4b5e-9798-90b31ccf0584, server version: 5.2.4, local address: Address(host=127.0.0.1, port=58911)\n",
      "INFO:hazelcast.cluster:\n",
      "\n",
      "Members [1] {\n",
      "\tMember [127.0.0.1]:5701 - 64d6a794-babf-4b5e-9798-90b31ccf0584\n",
      "}\n",
      "\n",
      "INFO:hazelcast.client:Client started\n",
      "INFO:hazelcast.lifecycle:HazelcastClient 5.3.0 is SHUTTING_DOWN\n",
      "INFO:hazelcast.connection:Removed connection to Address(host=127.0.0.1, port=5701):64d6a794-babf-4b5e-9798-90b31ccf0584, connection: Connection(id=0, live=False, remote_address=Address(host=127.0.0.1, port=5701))\n",
      "INFO:hazelcast.lifecycle:HazelcastClient 5.3.0 is DISCONNECTED\n",
      "INFO:hazelcast.lifecycle:HazelcastClient 5.3.0 is SHUTDOWN\n"
     ]
    },
    {
     "name": "stdout",
     "output_type": "stream",
     "text": [
      "Ingestion time: 0.47696471214294434 seconds\n"
     ]
    }
   ],
   "source": [
    "# Specify path\n",
    "gzip_file_path = \"/Users/jafarabdurrahmaan/Dropbox/00_Uni/Masterthesis/A_Thesis/1_Components/13_Benchmark_Study_Components/3_KVS/Hazelcast/iter2/daily_dataset_small.gz\"\n",
    "\n",
    "# Start measuring time\n",
    "start_time = time.time()\n",
    "\n",
    "# Insert data\n",
    "with gzip.open(gzip_file_path, \"rt\") as file:\n",
    "    file_content = file.read()\n",
    "    file_content = file_content.rstrip(',')\n",
    "    json_data = eval(file_content)\n",
    "    for item in json_data:\n",
    "        key = item[0]\n",
    "        value = item[1]\n",
    "        my_map.put(key, value)\n",
    "\n",
    "# Stop measuring time\n",
    "end_time = time.time()\n",
    "\n",
    "# Calculate ingestion time\n",
    "ingestion_time = end_time - start_time\n",
    "\n",
    "# Print ingestion time\n",
    "print(\"Ingestion time:\", ingestion_time, \"seconds\")\n",
    "\n",
    "# Close client\n",
    "client.shutdown()\n"
   ]
  },
  {
   "cell_type": "markdown",
   "id": "409c8bcd-1c7b-4ce3-adf5-621302b7f836",
   "metadata": {},
   "source": [
    "# Simple Retrieval"
   ]
  },
  {
   "cell_type": "markdown",
   "id": "90ae144b-6fb2-442b-8557-b3943ca044ab",
   "metadata": {},
   "source": [
    "## First Query Workload"
   ]
  },
  {
   "cell_type": "code",
   "execution_count": 74,
   "id": "94d0723d-6c2c-421c-9652-0aa4d8506c9c",
   "metadata": {},
   "outputs": [
    {
     "name": "stderr",
     "output_type": "stream",
     "text": [
      "INFO:hazelcast.lifecycle:HazelcastClient 5.3.0 is STARTING\n",
      "INFO:hazelcast.lifecycle:HazelcastClient 5.3.0 is STARTED\n",
      "INFO:hazelcast.connection:Trying to connect to Address(host=127.0.0.1, port=5701)\n",
      "INFO:hazelcast.lifecycle:HazelcastClient 5.3.0 is CONNECTED\n",
      "INFO:hazelcast.connection:Authenticated with server Address(host=127.0.0.1, port=5701):64d6a794-babf-4b5e-9798-90b31ccf0584, server version: 5.2.4, local address: Address(host=127.0.0.1, port=58987)\n",
      "INFO:hazelcast.cluster:\n",
      "\n",
      "Members [1] {\n",
      "\tMember [127.0.0.1]:5701 - 64d6a794-babf-4b5e-9798-90b31ccf0584\n",
      "}\n",
      "\n",
      "INFO:hazelcast.client:Client started\n",
      "INFO:hazelcast.lifecycle:HazelcastClient 5.3.0 is SHUTTING_DOWN\n",
      "INFO:hazelcast.connection:Removed connection to Address(host=127.0.0.1, port=5701):64d6a794-babf-4b5e-9798-90b31ccf0584, connection: Connection(id=0, live=False, remote_address=Address(host=127.0.0.1, port=5701))\n",
      "INFO:hazelcast.lifecycle:HazelcastClient 5.3.0 is DISCONNECTED\n",
      "INFO:hazelcast.lifecycle:HazelcastClient 5.3.0 is SHUTDOWN\n"
     ]
    },
    {
     "name": "stdout",
     "output_type": "stream",
     "text": [
      "Key: MAC000131_2012-06-01, Value: 5.775\n",
      "Key: MAC000131_2012-06-02, Value: 5.459\n",
      "Key: MAC000131_2012-06-03, Value: 6.481\n",
      "Query execution time: 1.1782646179199219 milliseconds\n"
     ]
    }
   ],
   "source": [
    "# Specify keys\n",
    "keys = [\"MAC000131_2012-06-01\", \"MAC000131_2012-06-02\", \"MAC000131_2012-06-03\"]\n",
    "\n",
    "# Create dictionary to store values\n",
    "values = {}\n",
    "\n",
    "# Start measuring time\n",
    "start_time = time.time()\n",
    "\n",
    "# Retrieve values\n",
    "for key in keys:\n",
    "    future = my_map.get(key)\n",
    "    values[key] = future.result()\n",
    "\n",
    "# Stop measuring time\n",
    "end_time = time.time()\n",
    "\n",
    "# Calculate execution time\n",
    "execution_time = end_time - start_time\n",
    "\n",
    "# Print values\n",
    "for key, value in values.items():\n",
    "    print(f\"Key: {key}, Value: {value}\")\n",
    "\n",
    "# Print execution time\n",
    "print(\"Query execution time:\", execution_time*1000, \"milliseconds\")\n",
    "\n",
    "# Close client\n",
    "client.shutdown()"
   ]
  },
  {
   "cell_type": "markdown",
   "id": "a98fc641-487d-4267-9e57-378baa84132e",
   "metadata": {},
   "source": [
    "## Second Query Workload"
   ]
  },
  {
   "cell_type": "code",
   "execution_count": 71,
   "id": "b92e260b-5d5f-43e0-afec-a52289116a37",
   "metadata": {},
   "outputs": [
    {
     "name": "stderr",
     "output_type": "stream",
     "text": [
      "INFO:hazelcast.lifecycle:HazelcastClient 5.3.0 is STARTING\n",
      "INFO:hazelcast.lifecycle:HazelcastClient 5.3.0 is STARTED\n",
      "INFO:hazelcast.connection:Trying to connect to Address(host=127.0.0.1, port=5701)\n",
      "INFO:hazelcast.lifecycle:HazelcastClient 5.3.0 is CONNECTED\n",
      "INFO:hazelcast.connection:Authenticated with server Address(host=127.0.0.1, port=5701):64d6a794-babf-4b5e-9798-90b31ccf0584, server version: 5.2.4, local address: Address(host=127.0.0.1, port=58984)\n",
      "INFO:hazelcast.cluster:\n",
      "\n",
      "Members [1] {\n",
      "\tMember [127.0.0.1]:5701 - 64d6a794-babf-4b5e-9798-90b31ccf0584\n",
      "}\n",
      "\n",
      "INFO:hazelcast.client:Client started\n",
      "INFO:hazelcast.lifecycle:HazelcastClient 5.3.0 is SHUTTING_DOWN\n",
      "INFO:hazelcast.connection:Removed connection to Address(host=127.0.0.1, port=5701):64d6a794-babf-4b5e-9798-90b31ccf0584, connection: Connection(id=0, live=False, remote_address=Address(host=127.0.0.1, port=5701))\n",
      "INFO:hazelcast.lifecycle:HazelcastClient 5.3.0 is DISCONNECTED\n",
      "INFO:hazelcast.lifecycle:HazelcastClient 5.3.0 is SHUTDOWN\n"
     ]
    },
    {
     "name": "stdout",
     "output_type": "stream",
     "text": [
      "Key: MAC000131_2012-06-01, Value: 5.775\n",
      "Key: MAC000131_2012-06-02, Value: 5.459\n",
      "Key: MAC000131_2012-06-03, Value: 6.481\n",
      "Query execution time: 1.2979507446289062 milliseconds\n"
     ]
    }
   ],
   "source": [
    "# Specify keys\n",
    "keys = [\"MAC000131_2012-06-01\", \"MAC000131_2012-06-02\", \"MAC000131_2012-06-03\"]\n",
    "\n",
    "# Create dictionary to store values\n",
    "values = {}\n",
    "\n",
    "# Start measuring time\n",
    "start_time = time.time()\n",
    "\n",
    "# Retrieve values\n",
    "for key in keys:\n",
    "    future = my_map.get(key)\n",
    "    values[key] = future.result()\n",
    "\n",
    "# Stop measuring time\n",
    "end_time = time.time()\n",
    "\n",
    "# Calculate execution time\n",
    "execution_time = end_time - start_time\n",
    "\n",
    "# Print values\n",
    "for key, value in values.items():\n",
    "    print(f\"Key: {key}, Value: {value}\")\n",
    "\n",
    "# Print execution time\n",
    "print(\"Query execution time:\", execution_time*1000, \"milliseconds\")\n",
    "\n",
    "# Close client\n",
    "client.shutdown()"
   ]
  },
  {
   "cell_type": "markdown",
   "id": "844b30c8-6acd-4fd9-83d1-62642b816123",
   "metadata": {},
   "source": [
    "## Third Query Workload"
   ]
  },
  {
   "cell_type": "code",
   "execution_count": 70,
   "id": "994dd1dd-7a29-428d-ae2a-fb2578c6d2a0",
   "metadata": {},
   "outputs": [
    {
     "name": "stderr",
     "output_type": "stream",
     "text": [
      "INFO:hazelcast.lifecycle:HazelcastClient 5.3.0 is STARTING\n",
      "INFO:hazelcast.lifecycle:HazelcastClient 5.3.0 is STARTED\n",
      "INFO:hazelcast.connection:Trying to connect to Address(host=127.0.0.1, port=5701)\n",
      "INFO:hazelcast.lifecycle:HazelcastClient 5.3.0 is CONNECTED\n",
      "INFO:hazelcast.connection:Authenticated with server Address(host=127.0.0.1, port=5701):64d6a794-babf-4b5e-9798-90b31ccf0584, server version: 5.2.4, local address: Address(host=127.0.0.1, port=58979)\n",
      "INFO:hazelcast.cluster:\n",
      "\n",
      "Members [1] {\n",
      "\tMember [127.0.0.1]:5701 - 64d6a794-babf-4b5e-9798-90b31ccf0584\n",
      "}\n",
      "\n",
      "INFO:hazelcast.client:Client started\n",
      "INFO:hazelcast.lifecycle:HazelcastClient 5.3.0 is SHUTTING_DOWN\n",
      "INFO:hazelcast.connection:Removed connection to Address(host=127.0.0.1, port=5701):64d6a794-babf-4b5e-9798-90b31ccf0584, connection: Connection(id=0, live=False, remote_address=Address(host=127.0.0.1, port=5701))\n",
      "INFO:hazelcast.lifecycle:HazelcastClient 5.3.0 is DISCONNECTED\n",
      "INFO:hazelcast.lifecycle:HazelcastClient 5.3.0 is SHUTDOWN\n"
     ]
    },
    {
     "name": "stdout",
     "output_type": "stream",
     "text": [
      "Key: MAC000131_2012-06-01, Value: 5.775\n",
      "Key: MAC000131_2012-06-02, Value: 5.459\n",
      "Key: MAC000131_2012-06-03, Value: 6.481\n",
      "Query execution time: 1.744985580444336 milliseconds\n"
     ]
    }
   ],
   "source": [
    "# Specify keys\n",
    "keys = [\"MAC000131_2012-06-01\", \"MAC000131_2012-06-02\", \"MAC000131_2012-06-03\"]\n",
    "\n",
    "# Create dictionary to store values\n",
    "values = {}\n",
    "\n",
    "# Start measuring time\n",
    "start_time = time.time()\n",
    "\n",
    "# Retrieve values\n",
    "for key in keys:\n",
    "    future = my_map.get(key)\n",
    "    values[key] = future.result()\n",
    "\n",
    "# Stop measuring time\n",
    "end_time = time.time()\n",
    "\n",
    "# Calculate execution time\n",
    "execution_time = end_time - start_time\n",
    "\n",
    "# Print values\n",
    "for key, value in values.items():\n",
    "    print(f\"Key: {key}, Value: {value}\")\n",
    "\n",
    "# Print execution time\n",
    "print(\"Query execution time:\", execution_time*1000, \"milliseconds\")\n",
    "\n",
    "# Close client\n",
    "client.shutdown()"
   ]
  },
  {
   "cell_type": "markdown",
   "id": "10f0631b-11ed-4708-b901-ed75f4b20192",
   "metadata": {},
   "source": [
    "## Overall Query Execution Time for Simple Retrieval"
   ]
  },
  {
   "cell_type": "code",
   "execution_count": 75,
   "id": "59cf6dbc-c686-4d4b-8581-035df0792316",
   "metadata": {},
   "outputs": [
    {
     "name": "stdout",
     "output_type": "stream",
     "text": [
      "Average Query Execution Time: 1.4100000000000001 milliseconds\n"
     ]
    }
   ],
   "source": [
    "print(f\"Average Query Execution Time: {((1.18+1.3+1.75)/3)} milliseconds\")"
   ]
  }
 ],
 "metadata": {
  "kernelspec": {
   "display_name": "Python 3 (ipykernel)",
   "language": "python",
   "name": "python3"
  },
  "language_info": {
   "codemirror_mode": {
    "name": "ipython",
    "version": 3
   },
   "file_extension": ".py",
   "mimetype": "text/x-python",
   "name": "python",
   "nbconvert_exporter": "python",
   "pygments_lexer": "ipython3",
   "version": "3.9.7"
  }
 },
 "nbformat": 4,
 "nbformat_minor": 5
}
