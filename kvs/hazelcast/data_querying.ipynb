{
 "cells": [
  {
   "cell_type": "markdown",
   "id": "8e4e6f80-b23e-49b7-9893-7d8c9f2cb1cf",
   "metadata": {},
   "source": [
    "# Import libraries"
   ]
  },
  {
   "cell_type": "code",
   "execution_count": 1,
   "id": "b13abf26-d141-47ee-8d8f-0265462b03a3",
   "metadata": {},
   "outputs": [],
   "source": [
    "import hazelcast\n",
    "import logging\n",
    "logging.basicConfig(level=logging.INFO)\n",
    "from hazelcast import HazelcastClient\n",
    "import time"
   ]
  },
  {
   "cell_type": "markdown",
   "id": "a5428154-ae0c-4786-a05c-22416249032a",
   "metadata": {},
   "source": [
    "# Create client connection"
   ]
  },
  {
   "cell_type": "code",
   "execution_count": 5,
   "id": "927f2516-3887-4da7-bf81-f7c5060478c9",
   "metadata": {},
   "outputs": [
    {
     "name": "stderr",
     "output_type": "stream",
     "text": [
      "INFO:hazelcast.lifecycle:HazelcastClient 5.3.0 is STARTING\n",
      "INFO:hazelcast.lifecycle:HazelcastClient 5.3.0 is STARTED\n",
      "INFO:hazelcast.connection:Trying to connect to Address(host=127.0.0.1, port=5701)\n",
      "INFO:hazelcast.lifecycle:HazelcastClient 5.3.0 is CONNECTED\n",
      "INFO:hazelcast.connection:Authenticated with server Address(host=127.0.0.1, port=5701):64d6a794-babf-4b5e-9798-90b31ccf0584, server version: 5.2.4, local address: Address(host=127.0.0.1, port=54417)\n",
      "INFO:hazelcast.cluster:\n",
      "\n",
      "Members [1] {\n",
      "\tMember [127.0.0.1]:5701 - 64d6a794-babf-4b5e-9798-90b31ccf0584\n",
      "}\n",
      "\n",
      "INFO:hazelcast.client:Client started\n"
     ]
    }
   ],
   "source": [
    "# Create client\n",
    "client = hazelcast.HazelcastClient(\n",
    "    cluster_members=[\"127.0.0.1:5701\", \"127.0.0.1:5702\", ])\n",
    "\n",
    "# Connect to the Hazelcast cluster\n",
    "client = HazelcastClient()"
   ]
  },
  {
   "cell_type": "markdown",
   "id": "c47aa71e-4258-43a2-8c2a-4fad8a5d1660",
   "metadata": {},
   "source": [
    "# Specify map"
   ]
  },
  {
   "cell_type": "code",
   "execution_count": null,
   "id": "09890d36-1f56-4cf0-a48a-4d319c20cc74",
   "metadata": {},
   "outputs": [],
   "source": [
    "multi_map = client.get_multi_map(\"smart-meter-benchmark_mm\")"
   ]
  },
  {
   "cell_type": "markdown",
   "id": "b3d0270c-2a07-4c56-bb84-bf52cbabfbf0",
   "metadata": {},
   "source": [
    "# Simple Retrieval"
   ]
  },
  {
   "cell_type": "markdown",
   "id": "85471563-669a-447c-9bb4-b5ff015d5cf8",
   "metadata": {},
   "source": [
    "## First query workload"
   ]
  },
  {
   "cell_type": "code",
   "execution_count": 21,
   "id": "144cf3bb-eb57-438f-9e11-60ea5d79f997",
   "metadata": {},
   "outputs": [
    {
     "name": "stdout",
     "output_type": "stream",
     "text": [
      "Values for key 'MAC000131_2012-06-01': [48, 0.1105, 0.312, 'MAC000131', 0.0550555449697384, '2012-06-01', 0.1203124999999999, 5.774999999999998, 0.064]\n",
      "Values for key 'MAC000131_2012-06-02': [48, 0.0545717328369064, 5.459000000000001, 0.065, 0.299, 'MAC000131', 0.1137291666666667, '2012-06-02', 0.092]\n",
      "Values for key 'MAC000131_2012-06-03': [48, 0.1165, 'MAC000131', '2012-06-03', 0.1350208333333333, 0.7829999999999999, 0.1098601605491568, 6.481000000000001, 0.064]\n",
      "Query execution time: 5.22613525390625 milliseconds\n"
     ]
    }
   ],
   "source": [
    "# Specify keys for query\n",
    "keys = [\"MAC000131_2012-06-01\", \"MAC000131_2012-06-02\", \"MAC000131_2012-06-03\"]\n",
    "\n",
    "# Start measuring time\n",
    "start_time = time.time()\n",
    "\n",
    "# Iterate over keys and retrieve values\n",
    "for key in keys:\n",
    "    values_future = multi_map.get(key)\n",
    "    values = values_future.result()\n",
    "    print(f\"Values for key '{key}': {values}\")\n",
    "\n",
    "# Stop measuring time\n",
    "end_time = time.time()\n",
    "\n",
    "# Calculate execution time\n",
    "execution_time = end_time - start_time\n",
    "\n",
    "# Print query execution time\n",
    "print(\"Query execution time:\", execution_time*1000, \"milliseconds\")\n",
    "\n",
    "# Close client\n",
    "client.shutdown()"
   ]
  },
  {
   "cell_type": "markdown",
   "id": "f562f9b4-d5e9-40ac-83fe-8743dc309934",
   "metadata": {},
   "source": [
    "## Second query workload"
   ]
  },
  {
   "cell_type": "code",
   "execution_count": 22,
   "id": "eb1b551b-e8dc-4f7f-8ac1-3f56703eea2c",
   "metadata": {},
   "outputs": [
    {
     "name": "stdout",
     "output_type": "stream",
     "text": [
      "Values for key 'MAC000131_2012-06-01': [48, 0.1105, 0.312, 'MAC000131', 0.0550555449697384, '2012-06-01', 0.1203124999999999, 5.774999999999998, 0.064]\n",
      "Values for key 'MAC000131_2012-06-02': [48, 0.0545717328369064, 5.459000000000001, 0.065, 0.299, 'MAC000131', 0.1137291666666667, '2012-06-02', 0.092]\n",
      "Values for key 'MAC000131_2012-06-03': [48, 0.1165, 'MAC000131', '2012-06-03', 0.1350208333333333, 0.7829999999999999, 0.1098601605491568, 6.481000000000001, 0.064]\n",
      "Query execution time: 3.0100345611572266 milliseconds\n"
     ]
    }
   ],
   "source": [
    "# Specify keys for query\n",
    "keys = [\"MAC000131_2012-06-01\", \"MAC000131_2012-06-02\", \"MAC000131_2012-06-03\"]\n",
    "\n",
    "# Start measuring time\n",
    "start_time = time.time()\n",
    "\n",
    "# Iterate over keys and retrieve values\n",
    "for key in keys:\n",
    "    values_future = multi_map.get(key)\n",
    "    values = values_future.result()\n",
    "    print(f\"Values for key '{key}': {values}\")\n",
    "\n",
    "# Stop measuring time\n",
    "end_time = time.time()\n",
    "\n",
    "# Calculate execution time\n",
    "execution_time = end_time - start_time\n",
    "\n",
    "# Print query execution time\n",
    "print(\"Query execution time:\", execution_time*1000, \"milliseconds\")\n",
    "\n",
    "# Close client\n",
    "client.shutdown()"
   ]
  },
  {
   "cell_type": "markdown",
   "id": "c7d5be97-926f-47e5-aaca-b30259fd9278",
   "metadata": {},
   "source": [
    "## Third query workload"
   ]
  },
  {
   "cell_type": "code",
   "execution_count": 23,
   "id": "b266d963-bdd0-4aca-a28d-f677527961c1",
   "metadata": {},
   "outputs": [
    {
     "name": "stdout",
     "output_type": "stream",
     "text": [
      "Values for key 'MAC000131_2012-06-01': [48, 0.1105, 0.312, 'MAC000131', 0.0550555449697384, '2012-06-01', 0.1203124999999999, 5.774999999999998, 0.064]\n",
      "Values for key 'MAC000131_2012-06-02': [48, 0.0545717328369064, 5.459000000000001, 0.065, 0.299, 'MAC000131', 0.1137291666666667, '2012-06-02', 0.092]\n",
      "Values for key 'MAC000131_2012-06-03': [48, 0.1165, 'MAC000131', '2012-06-03', 0.1350208333333333, 0.7829999999999999, 0.1098601605491568, 6.481000000000001, 0.064]\n",
      "Query execution time: 2.988100051879883 milliseconds\n"
     ]
    }
   ],
   "source": [
    "# Specify keys for query\n",
    "keys = [\"MAC000131_2012-06-01\", \"MAC000131_2012-06-02\", \"MAC000131_2012-06-03\"]\n",
    "\n",
    "# Start measuring time\n",
    "start_time = time.time()\n",
    "\n",
    "# Iterate over keys and retrieve values\n",
    "for key in keys:\n",
    "    values_future = multi_map.get(key)\n",
    "    values = values_future.result()\n",
    "    print(f\"Values for key '{key}': {values}\")\n",
    "\n",
    "# Stop measuring time\n",
    "end_time = time.time()\n",
    "\n",
    "# Calculate execution time\n",
    "execution_time = end_time - start_time\n",
    "\n",
    "# Print query execution time\n",
    "print(\"Query execution time:\", execution_time*1000, \"milliseconds\")\n",
    "\n",
    "# Close client\n",
    "client.shutdown()"
   ]
  },
  {
   "cell_type": "markdown",
   "id": "12191d57-6a3f-491a-b0aa-c1619f419944",
   "metadata": {},
   "source": [
    "## Overall Query Execution Time for Simple Retrieval"
   ]
  },
  {
   "cell_type": "code",
   "execution_count": 24,
   "id": "37b756a6-2d6f-49e9-b3ab-e64a1ad3f463",
   "metadata": {},
   "outputs": [
    {
     "name": "stdout",
     "output_type": "stream",
     "text": [
      "Average Query Execution Time: 3.74 milliseconds\n"
     ]
    }
   ],
   "source": [
    "print(f\"Average Query Execution Time: {((5.22+3.01+2.99)/3)} milliseconds\")"
   ]
  }
 ],
 "metadata": {
  "kernelspec": {
   "display_name": "Python 3 (ipykernel)",
   "language": "python",
   "name": "python3"
  },
  "language_info": {
   "codemirror_mode": {
    "name": "ipython",
    "version": 3
   },
   "file_extension": ".py",
   "mimetype": "text/x-python",
   "name": "python",
   "nbconvert_exporter": "python",
   "pygments_lexer": "ipython3",
   "version": "3.9.7"
  }
 },
 "nbformat": 4,
 "nbformat_minor": 5
}
