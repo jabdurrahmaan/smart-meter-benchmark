{
 "cells": [
  {
   "cell_type": "markdown",
   "id": "5d1bffcf-6df0-4219-b9bc-2fd487461b4e",
   "metadata": {},
   "source": [
    "# Import libraries"
   ]
  },
  {
   "cell_type": "code",
   "execution_count": 1,
   "id": "88a1bb7b-4e98-4ba3-93f7-d4c6a2a972ce",
   "metadata": {},
   "outputs": [],
   "source": [
    "import aerospike\n",
    "import json\n",
    "import time"
   ]
  },
  {
   "cell_type": "markdown",
   "id": "5c793e55-d23a-4f89-ab58-b3d1eca8ee15",
   "metadata": {},
   "source": [
    "# Create client connection"
   ]
  },
  {
   "cell_type": "code",
   "execution_count": 2,
   "id": "88edb1b5-489b-438a-b793-f344a0975c53",
   "metadata": {},
   "outputs": [],
   "source": [
    "# Set Aerospike host config\n",
    "config = {\"hosts\": [(\"localhost\", 3000)]}\n",
    "\n",
    "# Create the Aerospike client and connect\n",
    "client = aerospike.client(config).connect()"
   ]
  },
  {
   "cell_type": "code",
   "execution_count": 4,
   "id": "7261866e-fb7d-47e7-b55c-58d7cadbf29e",
   "metadata": {},
   "outputs": [
    {
     "name": "stdout",
     "output_type": "stream",
     "text": [
      "Data insertion took: 5.724733114242554 seconds\n"
     ]
    }
   ],
   "source": [
    "import aerospike\n",
    "import json\n",
    "import time\n",
    "\n",
    "# Set Aerospike host config\n",
    "config = {\"hosts\": [(\"localhost\", 3000)]}\n",
    "\n",
    "# Create the Aerospike client and connect\n",
    "client = aerospike.client(config).connect()\n",
    "\n",
    "# Aerospike namespace and set to be used for the Aerospike key\n",
    "namespace = \"test\"\n",
    "as_set = \"energy\"\n",
    "\n",
    "# Open json file\n",
    "json_file = open(\"/Users/jafarabdurrahmaan/Dropbox/00_Uni/Masterthesis/A_Thesis/1_Components/13_Benchmark_Study_Components/3_KVS/CosmosDB/iter2.2/daily_dataset_small_kv.json\", \"r\")\n",
    "\n",
    "# Load json data\n",
    "json_data = json.load(json_file)\n",
    "\n",
    "# Measure start of execution time\n",
    "start_time = time.time()\n",
    "\n",
    "# Iterate over each item in json file\n",
    "for item in json_data:\n",
    "    id = item[\"id\"]\n",
    "    lclid = item[\"LCLid\"]\n",
    "    day = item[\"day\"]\n",
    "    energy_median = float(item[\"energy_median\"])\n",
    "    energy_mean = float(item[\"energy_mean\"])\n",
    "    energy_max = float(item[\"energy_max\"])\n",
    "    energy_count = float(item[\"energy_count\"])\n",
    "    energy_std = float(item[\"energy_std\"])\n",
    "    energy_sum = float(item[\"energy_sum\"])\n",
    "    energy_min = float(item[\"energy_min\"])\n",
    "\n",
    "    key = (namespace, as_set, id)\n",
    "\n",
    "    bins = {\n",
    "        \"energy_mm\": {\n",
    "            \"id\": id,\n",
    "            \"lclid\": lclid,\n",
    "            \"day\": day,\n",
    "            \"energy_median\": energy_median,\n",
    "            \"energy_mean\": energy_mean,\n",
    "            \"energy_max\": energy_max,\n",
    "            \"energy_count\": energy_count,\n",
    "            \"energy_std\": energy_std,\n",
    "            \"energy_sum\": energy_sum,\n",
    "            \"energy_min\": energy_min,\n",
    "        }\n",
    "    }\n",
    "\n",
    "    write_policy = {\"key\": aerospike.POLICY_KEY_SEND}\n",
    "\n",
    "    try:\n",
    "        client.put(key=key, bins=bins, policy=write_policy)\n",
    "    except aerospike.exception.AerospikeError as e:\n",
    "        print(f\"Create failed for Record with id: {id}\\nError: {e.msg}, {e.code}\")\n",
    "\n",
    "# Close json file\n",
    "json_file.close()\n",
    "\n",
    "# Measure insertion time\n",
    "elapsed_time = time.time() - start_time\n",
    "print(f\"Data insertion took: {elapsed_time} seconds\")\n",
    "\n",
    "# Close client\n",
    "client.close()"
   ]
  },
  {
   "cell_type": "markdown",
   "id": "c27bbb64-ebbd-47da-b72b-0436126b967d",
   "metadata": {},
   "source": [
    "# Simple Retrieval"
   ]
  },
  {
   "cell_type": "markdown",
   "id": "a2297ceb-2fb3-4525-a594-9b7a59f6ce4b",
   "metadata": {},
   "source": [
    "## First Query Workload"
   ]
  },
  {
   "cell_type": "code",
   "execution_count": 31,
   "id": "de951e4a-425a-40c1-9de1-f67aff82e62e",
   "metadata": {},
   "outputs": [
    {
     "name": "stdout",
     "output_type": "stream",
     "text": [
      "PK: MAC000131_2012-06-01, Energy: {'day': '2012-06-01', 'energy_count': 48.0, 'energy_max': 0.312, 'energy_mean': 0.1203124999999999, 'energy_median': 0.1105, 'energy_min': 0.064, 'energy_std': 0.0550555449697384, 'energy_sum': 5.774999999999998, 'id': 'MAC000131_2012-06-01', 'lclid': 'MAC000131'}\n",
      "PK: MAC000131_2012-06-02, Energy: {'day': '2012-06-02', 'energy_count': 48.0, 'energy_max': 0.299, 'energy_mean': 0.1137291666666667, 'energy_median': 0.092, 'energy_min': 0.065, 'energy_std': 0.0545717328369064, 'energy_sum': 5.459000000000001, 'id': 'MAC000131_2012-06-02', 'lclid': 'MAC000131'}\n",
      "PK: MAC000131_2012-06-03, Energy: {'day': '2012-06-03', 'energy_count': 48.0, 'energy_max': 0.7829999999999999, 'energy_mean': 0.1350208333333333, 'energy_median': 0.1165, 'energy_min': 0.064, 'energy_std': 0.1098601605491568, 'energy_sum': 6.481000000000001, 'id': 'MAC000131_2012-06-03', 'lclid': 'MAC000131'}\n",
      "Query Execution Time: 4.29 milliseconds\n"
     ]
    }
   ],
   "source": [
    "import aerospike\n",
    "import json\n",
    "import time\n",
    "\n",
    "# Set Aerospike host config\n",
    "config = {\"hosts\": [(\"localhost\", 3000)]}\n",
    "\n",
    "# Create the Aerospike client and connect\n",
    "client = aerospike.client(config).connect()\n",
    "\n",
    "# Aerospike namespace and set to be used for the Aerospike key\n",
    "namespace = \"test\"\n",
    "as_set = \"energy\"\n",
    "\n",
    "# Primary keys to query\n",
    "primary_keys = ['MAC000131_2012-06-01', 'MAC000131_2012-06-02', 'MAC000131_2012-06-03']\n",
    "\n",
    "# Measure start of execution time\n",
    "start_time = time.time()\n",
    "\n",
    "# Query and retrieve the records\n",
    "for pk in primary_keys:\n",
    "    key = (namespace, as_set, pk)\n",
    "\n",
    "    try:\n",
    "        _, _, record = client.get(key)\n",
    "        energy = record[\"energy_mm\"]\n",
    "        print(f\"PK: {pk}, Energy: {energy}\")\n",
    "\n",
    "    except aerospike.exception.RecordNotFound:\n",
    "        print(f\"No record found for PK: {pk}\")\n",
    "\n",
    "# Measure stop of execution time\n",
    "end_time = time.time()\n",
    "\n",
    "# Measure query execution time\n",
    "execution_time = (end_time - start_time) * 1000\n",
    "\n",
    "# Print the execution time\n",
    "print(f\"Query Execution Time: {execution_time:.2f} milliseconds\")\n",
    "\n",
    "# Close client\n",
    "client.close()"
   ]
  },
  {
   "cell_type": "markdown",
   "id": "92b09bc9-6db8-4eb4-8841-d28a8d1ba87a",
   "metadata": {},
   "source": [
    "## Second Query Workload"
   ]
  },
  {
   "cell_type": "code",
   "execution_count": 34,
   "id": "dd99e631-2510-4ce8-b018-9da393b766d9",
   "metadata": {},
   "outputs": [
    {
     "name": "stdout",
     "output_type": "stream",
     "text": [
      "PK: MAC000131_2012-06-01, Energy: {'day': '2012-06-01', 'energy_count': 48.0, 'energy_max': 0.312, 'energy_mean': 0.1203124999999999, 'energy_median': 0.1105, 'energy_min': 0.064, 'energy_std': 0.0550555449697384, 'energy_sum': 5.774999999999998, 'id': 'MAC000131_2012-06-01', 'lclid': 'MAC000131'}\n",
      "PK: MAC000131_2012-06-02, Energy: {'day': '2012-06-02', 'energy_count': 48.0, 'energy_max': 0.299, 'energy_mean': 0.1137291666666667, 'energy_median': 0.092, 'energy_min': 0.065, 'energy_std': 0.0545717328369064, 'energy_sum': 5.459000000000001, 'id': 'MAC000131_2012-06-02', 'lclid': 'MAC000131'}\n",
      "PK: MAC000131_2012-06-03, Energy: {'day': '2012-06-03', 'energy_count': 48.0, 'energy_max': 0.7829999999999999, 'energy_mean': 0.1350208333333333, 'energy_median': 0.1165, 'energy_min': 0.064, 'energy_std': 0.1098601605491568, 'energy_sum': 6.481000000000001, 'id': 'MAC000131_2012-06-03', 'lclid': 'MAC000131'}\n",
      "Query Execution Time: 4.01 milliseconds\n"
     ]
    }
   ],
   "source": [
    "import aerospike\n",
    "import json\n",
    "import time\n",
    "\n",
    "# Set Aerospike host config\n",
    "config = {\"hosts\": [(\"localhost\", 3000)]}\n",
    "\n",
    "# Create the Aerospike client and connect\n",
    "client = aerospike.client(config).connect()\n",
    "\n",
    "# Aerospike namespace and set to be used for the Aerospike key\n",
    "namespace = \"test\"\n",
    "as_set = \"energy\"\n",
    "\n",
    "# Primary keys to query\n",
    "primary_keys = ['MAC000131_2012-06-01', 'MAC000131_2012-06-02', 'MAC000131_2012-06-03']\n",
    "\n",
    "# Measure start of execution time\n",
    "start_time = time.time()\n",
    "\n",
    "# Query and retrieve the records\n",
    "for pk in primary_keys:\n",
    "    key = (namespace, as_set, pk)\n",
    "\n",
    "    try:\n",
    "        _, _, record = client.get(key)\n",
    "        energy = record[\"energy_mm\"]\n",
    "        print(f\"PK: {pk}, Energy: {energy}\")\n",
    "\n",
    "    except aerospike.exception.RecordNotFound:\n",
    "        print(f\"No record found for PK: {pk}\")\n",
    "\n",
    "# Measure stop of execution time\n",
    "end_time = time.time()\n",
    "\n",
    "# Measure query execution time\n",
    "execution_time = (end_time - start_time) * 1000\n",
    "\n",
    "# Print the execution time\n",
    "print(f\"Query Execution Time: {execution_time:.2f} milliseconds\")\n",
    "\n",
    "# Close client\n",
    "client.close()"
   ]
  },
  {
   "cell_type": "markdown",
   "id": "325323d7-f89f-4243-89e2-e6ea8977cb76",
   "metadata": {},
   "source": [
    "## Third Query Workload"
   ]
  },
  {
   "cell_type": "code",
   "execution_count": 36,
   "id": "944a99f4-250b-4379-a2a9-3c8413e26fb7",
   "metadata": {},
   "outputs": [
    {
     "name": "stdout",
     "output_type": "stream",
     "text": [
      "PK: MAC000131_2012-06-01, Energy: {'day': '2012-06-01', 'energy_count': 48.0, 'energy_max': 0.312, 'energy_mean': 0.1203124999999999, 'energy_median': 0.1105, 'energy_min': 0.064, 'energy_std': 0.0550555449697384, 'energy_sum': 5.774999999999998, 'id': 'MAC000131_2012-06-01', 'lclid': 'MAC000131'}\n",
      "PK: MAC000131_2012-06-02, Energy: {'day': '2012-06-02', 'energy_count': 48.0, 'energy_max': 0.299, 'energy_mean': 0.1137291666666667, 'energy_median': 0.092, 'energy_min': 0.065, 'energy_std': 0.0545717328369064, 'energy_sum': 5.459000000000001, 'id': 'MAC000131_2012-06-02', 'lclid': 'MAC000131'}\n",
      "PK: MAC000131_2012-06-03, Energy: {'day': '2012-06-03', 'energy_count': 48.0, 'energy_max': 0.7829999999999999, 'energy_mean': 0.1350208333333333, 'energy_median': 0.1165, 'energy_min': 0.064, 'energy_std': 0.1098601605491568, 'energy_sum': 6.481000000000001, 'id': 'MAC000131_2012-06-03', 'lclid': 'MAC000131'}\n",
      "Query Execution Time: 3.82 milliseconds\n"
     ]
    }
   ],
   "source": [
    "import aerospike\n",
    "import json\n",
    "import time\n",
    "\n",
    "# Set Aerospike host config\n",
    "config = {\"hosts\": [(\"localhost\", 3000)]}\n",
    "\n",
    "# Create the Aerospike client and connect\n",
    "client = aerospike.client(config).connect()\n",
    "\n",
    "# Aerospike namespace and set to be used for the Aerospike key\n",
    "namespace = \"test\"\n",
    "as_set = \"energy\"\n",
    "\n",
    "# Primary keys to query\n",
    "primary_keys = ['MAC000131_2012-06-01', 'MAC000131_2012-06-02', 'MAC000131_2012-06-03']\n",
    "\n",
    "# Measure start of execution time\n",
    "start_time = time.time()\n",
    "\n",
    "# Query and retrieve the records\n",
    "for pk in primary_keys:\n",
    "    key = (namespace, as_set, pk)\n",
    "\n",
    "    try:\n",
    "        _, _, record = client.get(key)\n",
    "        energy = record[\"energy_mm\"]\n",
    "        print(f\"PK: {pk}, Energy: {energy}\")\n",
    "\n",
    "    except aerospike.exception.RecordNotFound:\n",
    "        print(f\"No record found for PK: {pk}\")\n",
    "\n",
    "# Measure stop of execution time\n",
    "end_time = time.time()\n",
    "\n",
    "# Measure query execution time\n",
    "execution_time = (end_time - start_time) * 1000\n",
    "\n",
    "# Print the execution time\n",
    "print(f\"Query Execution Time: {execution_time:.2f} milliseconds\")\n",
    "\n",
    "# Close client\n",
    "client.close()"
   ]
  },
  {
   "cell_type": "markdown",
   "id": "02cb96c2-8edb-4fda-9963-0e008c59d0ae",
   "metadata": {},
   "source": [
    "## Overall Query Execution Time - Simple Retrieval"
   ]
  },
  {
   "cell_type": "code",
   "execution_count": 37,
   "id": "2969e28d-7997-4b39-ae09-50a154ad2e70",
   "metadata": {},
   "outputs": [
    {
     "name": "stdout",
     "output_type": "stream",
     "text": [
      "Average Query Execution Time: 4.04 milliseconds\n"
     ]
    }
   ],
   "source": [
    "print(f\"Average Query Execution Time: {((4.29+4.01+3.82)/3)} milliseconds\")"
   ]
  },
  {
   "cell_type": "code",
   "execution_count": null,
   "id": "48c23a00-2d1e-4715-9676-29d9ec56e4d5",
   "metadata": {},
   "outputs": [],
   "source": []
  }
 ],
 "metadata": {
  "kernelspec": {
   "display_name": "Python 3 (ipykernel)",
   "language": "python",
   "name": "python3"
  },
  "language_info": {
   "codemirror_mode": {
    "name": "ipython",
    "version": 3
   },
   "file_extension": ".py",
   "mimetype": "text/x-python",
   "name": "python",
   "nbconvert_exporter": "python",
   "pygments_lexer": "ipython3",
   "version": "3.9.7"
  }
 },
 "nbformat": 4,
 "nbformat_minor": 5
}
