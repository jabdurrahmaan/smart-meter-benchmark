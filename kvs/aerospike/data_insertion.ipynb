{
 "cells": [
  {
   "cell_type": "markdown",
   "id": "5d1bffcf-6df0-4219-b9bc-2fd487461b4e",
   "metadata": {},
   "source": [
    "# Import libraries"
   ]
  },
  {
   "cell_type": "code",
   "execution_count": 1,
   "id": "88a1bb7b-4e98-4ba3-93f7-d4c6a2a972ce",
   "metadata": {},
   "outputs": [],
   "source": [
    "import aerospike\n",
    "import json\n",
    "import time"
   ]
  },
  {
   "cell_type": "markdown",
   "id": "5c793e55-d23a-4f89-ab58-b3d1eca8ee15",
   "metadata": {},
   "source": [
    "# Create client connection"
   ]
  },
  {
   "cell_type": "code",
   "execution_count": 3,
   "id": "88edb1b5-489b-438a-b793-f344a0975c53",
   "metadata": {},
   "outputs": [],
   "source": [
    "# Set Aerospike host config\n",
    "config = {\"hosts\": [(\"localhost\", 3000)]}\n",
    "\n",
    "# Create the Aerospike client and connect\n",
    "client = aerospike.client(config).connect()"
   ]
  },
  {
   "cell_type": "markdown",
   "id": "3ece0194-657c-4e38-a2c3-7d42d1c4db89",
   "metadata": {},
   "source": [
    "# Data Insertion"
   ]
  },
  {
   "cell_type": "code",
   "execution_count": 5,
   "id": "2565b1b2-7b42-4cc6-9a6e-c20a9c96a0b5",
   "metadata": {},
   "outputs": [
    {
     "name": "stdout",
     "output_type": "stream",
     "text": [
      "Data insertion took: 4.7667152881622314 seconds\n"
     ]
    }
   ],
   "source": [
    "# Specify Aerospike namespace and set\n",
    "namespace = \"test\"\n",
    "as_set = \"energy_mm\"\n",
    "\n",
    "# Open json file\n",
    "json_file = open(\"/Users/jafarabdurrahmaan/Dropbox/00_Uni/Masterthesis/A_Thesis/1_Components/13_Benchmark_Study_Components/3_KVS/CosmosDB/iter2.2/daily_dataset_small_kv.json\", \"r\")\n",
    "\n",
    "# Load json data\n",
    "json_data = json.load(json_file)\n",
    "\n",
    "# Measure start of execution time\n",
    "start_time = time.time()\n",
    "\n",
    "# Iterate over each item in json file\n",
    "for item in json_data:\n",
    "    id = item[\"id\"]\n",
    "    lclid = item[\"LCLid\"]\n",
    "    day = item[\"day\"]\n",
    "    energy_median = float(item[\"energy_median\"])\n",
    "    energy_mean = float(item[\"energy_mean\"])\n",
    "    energy_max = float(item[\"energy_max\"])\n",
    "    energy_count = float(item[\"energy_count\"])\n",
    "    energy_std = float(item[\"energy_std\"])\n",
    "    energy_sum = float(item[\"energy_sum\"])\n",
    "    energy_min = float(item[\"energy_min\"])\n",
    "\n",
    "    key = (namespace, as_set, id)\n",
    "\n",
    "    bins = {\n",
    "        \"energy_mm\": {\n",
    "            \"id\": id,\n",
    "            \"lclid\": lclid,\n",
    "            \"day\": day,\n",
    "            \"energy_median\": energy_median,\n",
    "            \"energy_mean\": energy_mean,\n",
    "            \"energy_max\": energy_max,\n",
    "            \"energy_count\": energy_count,\n",
    "            \"energy_std\": energy_std,\n",
    "            \"energy_sum\": energy_sum,\n",
    "            \"energy_min\": energy_min,\n",
    "        }\n",
    "    }\n",
    "\n",
    "    write_policy = {\"key\": aerospike.POLICY_KEY_SEND}\n",
    "\n",
    "    try:\n",
    "        client.put(key=key, bins=bins, policy=write_policy)\n",
    "    except aerospike.exception.AerospikeError as e:\n",
    "        print(f\"Create failed for Record with id: {id}\\nError: {e.msg}, {e.code}\")\n",
    "\n",
    "# Close json file\n",
    "json_file.close()\n",
    "\n",
    "# Measure insertion time\n",
    "elapsed_time = time.time() - start_time\n",
    "print(f\"Data insertion took: {elapsed_time} seconds\")\n",
    "\n",
    "# Close client\n",
    "client.close()"
   ]
  },
  {
   "cell_type": "markdown",
   "id": "c27bbb64-ebbd-47da-b72b-0436126b967d",
   "metadata": {},
   "source": [
    "Simple Retrieval 1"
   ]
  },
  {
   "cell_type": "code",
   "execution_count": 14,
   "id": "de951e4a-425a-40c1-9de1-f67aff82e62e",
   "metadata": {},
   "outputs": [
    {
     "name": "stdout",
     "output_type": "stream",
     "text": [
      "PK: MAC000131_2012-06-01, Energy: {'day': '2012-06-01', 'energy_count': 48.0, 'energy_max': 0.312, 'energy_mean': 0.1203124999999999, 'energy_median': 0.1105, 'energy_min': 0.064, 'energy_std': 0.0550555449697384, 'energy_sum': 5.774999999999998, 'id': 'MAC000131_2012-06-01', 'lclid': 'MAC000131'}\n",
      "PK: MAC000131_2012-06-02, Energy: {'day': '2012-06-02', 'energy_count': 48.0, 'energy_max': 0.299, 'energy_mean': 0.1137291666666667, 'energy_median': 0.092, 'energy_min': 0.065, 'energy_std': 0.0545717328369064, 'energy_sum': 5.459000000000001, 'id': 'MAC000131_2012-06-02', 'lclid': 'MAC000131'}\n",
      "PK: MAC000131_2012-06-03, Energy: {'day': '2012-06-03', 'energy_count': 48.0, 'energy_max': 0.7829999999999999, 'energy_mean': 0.1350208333333333, 'energy_median': 0.1165, 'energy_min': 0.064, 'energy_std': 0.1098601605491568, 'energy_sum': 6.481000000000001, 'id': 'MAC000131_2012-06-03', 'lclid': 'MAC000131'}\n",
      "Query Execution Time: 6.64 milliseconds\n"
     ]
    }
   ],
   "source": [
    "import aerospike\n",
    "import time\n",
    "\n",
    "# Set Aerospike host config\n",
    "config = {\"hosts\": [(\"localhost\", 3000)]}\n",
    "\n",
    "# Create the Aerospike client and connect\n",
    "client = aerospike.client(config).connect()\n",
    "\n",
    "# Aerospike namespace and set to be used for the Aerospike key\n",
    "namespace = \"test\"\n",
    "as_set = \"energy_mm\"\n",
    "\n",
    "# Primary keys to query\n",
    "primary_keys = ['MAC000131_2012-06-01', 'MAC000131_2012-06-02', 'MAC000131_2012-06-03']\n",
    "\n",
    "# Start measuring time\n",
    "start_time = time.time()\n",
    "\n",
    "# Query and retrieve the records\n",
    "for pk in primary_keys:\n",
    "    # Define the Aerospike key using the primary key\n",
    "    key = (namespace, as_set, pk)\n",
    "\n",
    "    try:\n",
    "        # Retrieve the record using the key\n",
    "        _, _, record = client.get(key)\n",
    "\n",
    "        # Access the \"energy\" bin from the record\n",
    "        energy = record[\"energy_mm\"]\n",
    "\n",
    "        # Print the query result\n",
    "        print(f\"PK: {pk}, Energy: {energy}\")\n",
    "\n",
    "    except aerospike.exception.RecordNotFound:\n",
    "        print(f\"No record found for PK: {pk}\")\n",
    "\n",
    "# Stop measuring time\n",
    "end_time = time.time()\n",
    "\n",
    "# Calculate execution time in milliseconds\n",
    "execution_time = (end_time - start_time) * 1000\n",
    "\n",
    "# Print the execution time\n",
    "print(f\"Query Execution Time: {execution_time:.2f} milliseconds\")\n",
    "\n",
    "# Disconnect from Aerospike\n",
    "client.close()"
   ]
  },
  {
   "cell_type": "markdown",
   "id": "92b09bc9-6db8-4eb4-8841-d28a8d1ba87a",
   "metadata": {},
   "source": [
    "Simple Retrieval 2"
   ]
  },
  {
   "cell_type": "code",
   "execution_count": 15,
   "id": "dd99e631-2510-4ce8-b018-9da393b766d9",
   "metadata": {},
   "outputs": [
    {
     "name": "stdout",
     "output_type": "stream",
     "text": [
      "PK: MAC000131_2012-06-01, Energy: {'day': '2012-06-01', 'energy_count': 48.0, 'energy_max': 0.312, 'energy_mean': 0.1203124999999999, 'energy_median': 0.1105, 'energy_min': 0.064, 'energy_std': 0.0550555449697384, 'energy_sum': 5.774999999999998, 'id': 'MAC000131_2012-06-01', 'lclid': 'MAC000131'}\n",
      "PK: MAC000131_2012-06-02, Energy: {'day': '2012-06-02', 'energy_count': 48.0, 'energy_max': 0.299, 'energy_mean': 0.1137291666666667, 'energy_median': 0.092, 'energy_min': 0.065, 'energy_std': 0.0545717328369064, 'energy_sum': 5.459000000000001, 'id': 'MAC000131_2012-06-02', 'lclid': 'MAC000131'}\n",
      "PK: MAC000131_2012-06-03, Energy: {'day': '2012-06-03', 'energy_count': 48.0, 'energy_max': 0.7829999999999999, 'energy_mean': 0.1350208333333333, 'energy_median': 0.1165, 'energy_min': 0.064, 'energy_std': 0.1098601605491568, 'energy_sum': 6.481000000000001, 'id': 'MAC000131_2012-06-03', 'lclid': 'MAC000131'}\n",
      "Query Execution Time: 13.66 milliseconds\n"
     ]
    }
   ],
   "source": [
    "import aerospike\n",
    "import time\n",
    "\n",
    "# Set Aerospike host config\n",
    "config = {\"hosts\": [(\"localhost\", 3000)]}\n",
    "\n",
    "# Create the Aerospike client and connect\n",
    "client = aerospike.client(config).connect()\n",
    "\n",
    "# Aerospike namespace and set to be used for the Aerospike key\n",
    "namespace = \"test\"\n",
    "as_set = \"energy_mm\"\n",
    "\n",
    "# Primary keys to query\n",
    "primary_keys = ['MAC000131_2012-06-01', 'MAC000131_2012-06-02', 'MAC000131_2012-06-03']\n",
    "\n",
    "# Start measuring time\n",
    "start_time = time.time()\n",
    "\n",
    "# Query and retrieve the records\n",
    "for pk in primary_keys:\n",
    "    # Define the Aerospike key using the primary key\n",
    "    key = (namespace, as_set, pk)\n",
    "\n",
    "    try:\n",
    "        # Retrieve the record using the key\n",
    "        _, _, record = client.get(key)\n",
    "\n",
    "        # Access the \"energy\" bin from the record\n",
    "        energy = record[\"energy_mm\"]\n",
    "\n",
    "        # Print the query result\n",
    "        print(f\"PK: {pk}, Energy: {energy}\")\n",
    "\n",
    "    except aerospike.exception.RecordNotFound:\n",
    "        print(f\"No record found for PK: {pk}\")\n",
    "\n",
    "# Stop measuring time\n",
    "end_time = time.time()\n",
    "\n",
    "# Calculate execution time in milliseconds\n",
    "execution_time = (end_time - start_time) * 1000\n",
    "\n",
    "# Print the execution time\n",
    "print(f\"Query Execution Time: {execution_time:.2f} milliseconds\")\n",
    "\n",
    "# Disconnect from Aerospike\n",
    "client.close()"
   ]
  },
  {
   "cell_type": "markdown",
   "id": "325323d7-f89f-4243-89e2-e6ea8977cb76",
   "metadata": {},
   "source": [
    "Simple Retrieval 3"
   ]
  },
  {
   "cell_type": "code",
   "execution_count": 16,
   "id": "944a99f4-250b-4379-a2a9-3c8413e26fb7",
   "metadata": {},
   "outputs": [
    {
     "name": "stdout",
     "output_type": "stream",
     "text": [
      "PK: MAC000131_2012-06-01, Energy: {'day': '2012-06-01', 'energy_count': 48.0, 'energy_max': 0.312, 'energy_mean': 0.1203124999999999, 'energy_median': 0.1105, 'energy_min': 0.064, 'energy_std': 0.0550555449697384, 'energy_sum': 5.774999999999998, 'id': 'MAC000131_2012-06-01', 'lclid': 'MAC000131'}\n",
      "PK: MAC000131_2012-06-02, Energy: {'day': '2012-06-02', 'energy_count': 48.0, 'energy_max': 0.299, 'energy_mean': 0.1137291666666667, 'energy_median': 0.092, 'energy_min': 0.065, 'energy_std': 0.0545717328369064, 'energy_sum': 5.459000000000001, 'id': 'MAC000131_2012-06-02', 'lclid': 'MAC000131'}\n",
      "PK: MAC000131_2012-06-03, Energy: {'day': '2012-06-03', 'energy_count': 48.0, 'energy_max': 0.7829999999999999, 'energy_mean': 0.1350208333333333, 'energy_median': 0.1165, 'energy_min': 0.064, 'energy_std': 0.1098601605491568, 'energy_sum': 6.481000000000001, 'id': 'MAC000131_2012-06-03', 'lclid': 'MAC000131'}\n",
      "Query Execution Time: 5.61 milliseconds\n"
     ]
    }
   ],
   "source": [
    "import aerospike\n",
    "import time\n",
    "\n",
    "# Set Aerospike host config\n",
    "config = {\"hosts\": [(\"localhost\", 3000)]}\n",
    "\n",
    "# Create the Aerospike client and connect\n",
    "client = aerospike.client(config).connect()\n",
    "\n",
    "# Aerospike namespace and set to be used for the Aerospike key\n",
    "namespace = \"test\"\n",
    "as_set = \"energy_mm\"\n",
    "\n",
    "# Primary keys to query\n",
    "primary_keys = ['MAC000131_2012-06-01', 'MAC000131_2012-06-02', 'MAC000131_2012-06-03']\n",
    "\n",
    "# Start measuring time\n",
    "start_time = time.time()\n",
    "\n",
    "# Query and retrieve the records\n",
    "for pk in primary_keys:\n",
    "    # Define the Aerospike key using the primary key\n",
    "    key = (namespace, as_set, pk)\n",
    "\n",
    "    try:\n",
    "        # Retrieve the record using the key\n",
    "        _, _, record = client.get(key)\n",
    "\n",
    "        # Access the \"energy\" bin from the record\n",
    "        energy = record[\"energy_mm\"]\n",
    "\n",
    "        # Print the query result\n",
    "        print(f\"PK: {pk}, Energy: {energy}\")\n",
    "\n",
    "    except aerospike.exception.RecordNotFound:\n",
    "        print(f\"No record found for PK: {pk}\")\n",
    "\n",
    "# Stop measuring time\n",
    "end_time = time.time()\n",
    "\n",
    "# Calculate execution time in milliseconds\n",
    "execution_time = (end_time - start_time) * 1000\n",
    "\n",
    "# Print the execution time\n",
    "print(f\"Query Execution Time: {execution_time:.2f} milliseconds\")\n",
    "\n",
    "# Disconnect from Aerospike\n",
    "client.close()"
   ]
  },
  {
   "cell_type": "code",
   "execution_count": 17,
   "id": "2969e28d-7997-4b39-ae09-50a154ad2e70",
   "metadata": {},
   "outputs": [
    {
     "name": "stdout",
     "output_type": "stream",
     "text": [
      "Average Query Execution Time: 8.636666666666667 milliseconds\n"
     ]
    }
   ],
   "source": [
    "print(f\"Average Query Execution Time: {((6.64+13.66+5.61)/3)} milliseconds\")"
   ]
  },
  {
   "cell_type": "markdown",
   "id": "381e54ff-0792-4d57-b90f-4ee5c5703088",
   "metadata": {},
   "source": [
    "Metadata"
   ]
  },
  {
   "cell_type": "code",
   "execution_count": null,
   "id": "b20cee83-b270-447c-a811-41eb757d2ac3",
   "metadata": {},
   "outputs": [],
   "source": [
    "import aerospike\n",
    "import time\n",
    "\n",
    "# Set Aerospike host config\n",
    "config = {\"hosts\": [(\"localhost\", 3000)]}\n",
    "\n",
    "# Create the Aerospike client and connect\n",
    "client = aerospike.client(config).connect()\n",
    "\n",
    "# Aerospike namespace and set to be used for the Aerospike key\n",
    "namespace = \"test\"\n",
    "as_set = \"energy_mm\"\n",
    "\n",
    "# Start measuring time\n",
    "start_time = time.time()\n",
    "\n",
    "# Query and retrieve all the records\n",
    "query = client.scan(namespace, as_set)\n",
    "\n",
    "# Execute the scan operation\n",
    "records = query.results()\n",
    "\n",
    "# Iterate over the retrieved records\n",
    "for _, _, record in records:\n",
    "    # Access the \"energy\" bin from the record\n",
    "    energy = record[\"energy_mm\"]\n",
    "\n",
    "    # Extract the primary key from the record\n",
    "    primary_key = energy[\"id\"]\n",
    "\n",
    "    # Print the primary key\n",
    "    print(f\"PK: {primary_key}\")\n",
    "\n",
    "# Stop measuring time\n",
    "end_time = time.time()\n",
    "\n",
    "# Calculate execution time in milliseconds\n",
    "execution_time = (end_time - start_time) * 1000\n",
    "\n",
    "# Print the execution time\n",
    "print(f\"Query Execution Time: {execution_time:.2f} milliseconds\")\n",
    "\n",
    "# Disconnect from Aerospike\n",
    "client.close()"
   ]
  },
  {
   "cell_type": "code",
   "execution_count": null,
   "id": "66380623-cdbc-4974-9b14-24a4c0a5768f",
   "metadata": {},
   "outputs": [],
   "source": []
  }
 ],
 "metadata": {
  "kernelspec": {
   "display_name": "Python 3 (ipykernel)",
   "language": "python",
   "name": "python3"
  },
  "language_info": {
   "codemirror_mode": {
    "name": "ipython",
    "version": 3
   },
   "file_extension": ".py",
   "mimetype": "text/x-python",
   "name": "python",
   "nbconvert_exporter": "python",
   "pygments_lexer": "ipython3",
   "version": "3.9.7"
  }
 },
 "nbformat": 4,
 "nbformat_minor": 5
}
