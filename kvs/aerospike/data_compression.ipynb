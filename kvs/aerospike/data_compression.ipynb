{
 "cells": [
  {
   "cell_type": "markdown",
   "id": "a1de38dc-e4f4-411d-92fa-951d54a4fc08",
   "metadata": {},
   "source": [
    "# Import libraries"
   ]
  },
  {
   "cell_type": "code",
   "execution_count": 52,
   "id": "88a1bb7b-4e98-4ba3-93f7-d4c6a2a972ce",
   "metadata": {},
   "outputs": [],
   "source": [
    "import aerospike\n",
    "import json\n",
    "import gzip\n",
    "import time"
   ]
  },
  {
   "cell_type": "markdown",
   "id": "dfbdd9a7-6493-49ba-93e6-f78ba10ccc67",
   "metadata": {},
   "source": [
    "# Compress data"
   ]
  },
  {
   "cell_type": "code",
   "execution_count": 1,
   "id": "e8d0ddc9-e2fa-44c8-874c-090a505a5087",
   "metadata": {},
   "outputs": [],
   "source": [
    "# Read the JSON data from the file\n",
    "json_file = \"daily_dataset_small_kv.json\"\n",
    "with open(json_file, \"r\") as file:\n",
    "    json_data = json.load(file)\n",
    "\n",
    "# Specify the output gzip file\n",
    "gzip_file = \"daily_dataset_small_kv.json.gz\"\n",
    "\n",
    "# Compress the JSON data into a gzip file\n",
    "with gzip.open(gzip_file, \"wt\", encoding=\"utf-8\") as file:\n",
    "    json.dump(json_data, file)"
   ]
  },
  {
   "cell_type": "code",
   "execution_count": 53,
   "id": "db0288f8-8f4b-42fe-9fc7-8e2b727feda3",
   "metadata": {},
   "outputs": [],
   "source": [
    "config = {\n",
    "    'hosts': [\n",
    "        ( '127.0.0.1', 3000 )\n",
    "    ],\n",
    "    'policies': {\n",
    "        'timeout': 1000 # milliseconds\n",
    "    }\n",
    "}"
   ]
  },
  {
   "cell_type": "markdown",
   "id": "26f90b17-c334-4fe5-9b17-94fa32e718cb",
   "metadata": {},
   "source": [
    "# Create client connection"
   ]
  },
  {
   "cell_type": "code",
   "execution_count": 3,
   "id": "88edb1b5-489b-438a-b793-f344a0975c53",
   "metadata": {},
   "outputs": [],
   "source": [
    "# Set Aerospike host configuration\n",
    "config = {\"hosts\": [(\"localhost\", 3000)]}\n",
    "\n",
    "# Create the Aerospike client\n",
    "client = aerospike.client(config).connect()"
   ]
  },
  {
   "cell_type": "markdown",
   "id": "08d0ac95-f636-4f99-bd88-0049e75e9461",
   "metadata": {},
   "source": [
    "# Data Insertion"
   ]
  },
  {
   "cell_type": "code",
   "execution_count": 4,
   "id": "2565b1b2-7b42-4cc6-9a6e-c20a9c96a0b5",
   "metadata": {},
   "outputs": [
    {
     "name": "stdout",
     "output_type": "stream",
     "text": [
      "Data insertion took: 3.3095030784606934 seconds\n"
     ]
    }
   ],
   "source": [
    "# Specify Aerospike namespace and set\n",
    "namespace = \"test\"\n",
    "as_set = \"energy_c\"\n",
    "\n",
    "# Open zipped file\n",
    "json_file = gzip.open(\"/Users/jafarabdurrahmaan/Dropbox/00_Uni/Masterthesis/A_Thesis/1_Components/13_Benchmark_Study_Components/3_KVS/Aerospike/iter2/daily_dataset_small_kv.json.gz\", \"rt\")\n",
    "\n",
    "# Load json data\n",
    "json_data = json.load(json_file)\n",
    "\n",
    "# Measure start of execution time\n",
    "start_time = time.time()\n",
    "\n",
    "# Iterate over the two items in json data\n",
    "for item in json_data:\n",
    "    id = item[\"id\"]\n",
    "    energy_sum = float(item[\"energy_sum\"])\n",
    "\n",
    "    key = (namespace, as_set, id)\n",
    "\n",
    "    bins = {\n",
    "        \"energy\": {\n",
    "            \"id\": id,\n",
    "            \"energy_sum\": energy_sum\n",
    "        }\n",
    "    }\n",
    "\n",
    "    write_policy = {\"key\": aerospike.POLICY_KEY_SEND}\n",
    "\n",
    "    try:\n",
    "        client.put(key=key, bins=bins, policy=write_policy)\n",
    "        \n",
    "    except aerospike.exception.AerospikeError as e:\n",
    "        print(f\"Create failed for Record with id: {id}\\nError: {e.msg}, {e.code}\")\n",
    "\n",
    "# Close json file\n",
    "json_file.close()\n",
    "\n",
    "# Measure query execution time\n",
    "elapsed_time = time.time() - start_time\n",
    "print(f\"Data insertion took: {elapsed_time} seconds\")\n",
    "\n",
    "# Close client\n",
    "client.close()"
   ]
  },
  {
   "cell_type": "markdown",
   "id": "c27bbb64-ebbd-47da-b72b-0436126b967d",
   "metadata": {},
   "source": [
    "# Simple Retrieval"
   ]
  },
  {
   "cell_type": "markdown",
   "id": "b6c54475-2b19-4f63-804e-db081db9b22d",
   "metadata": {},
   "source": [
    "## First Query Workload"
   ]
  },
  {
   "cell_type": "code",
   "execution_count": 18,
   "id": "de951e4a-425a-40c1-9de1-f67aff82e62e",
   "metadata": {},
   "outputs": [
    {
     "name": "stdout",
     "output_type": "stream",
     "text": [
      "PK: MAC000131_2012-06-01, Energy: {'energy_sum': 5.774999999999998, 'id': 'MAC000131_2012-06-01'}\n",
      "PK: MAC000131_2012-06-02, Energy: {'energy_sum': 5.459000000000001, 'id': 'MAC000131_2012-06-02'}\n",
      "PK: MAC000131_2012-06-03, Energy: {'energy_sum': 6.481000000000001, 'id': 'MAC000131_2012-06-03'}\n",
      "Query Execution Time: 5.00 milliseconds\n"
     ]
    }
   ],
   "source": [
    "# Primary keys to query\n",
    "primary_keys = ['MAC000131_2012-06-01', 'MAC000131_2012-06-02', 'MAC000131_2012-06-03']\n",
    "\n",
    "# Measure start of execution time\n",
    "start_time = time.time()\n",
    "\n",
    "# Query and retrieve the records\n",
    "for pk in primary_keys:\n",
    "    key = (namespace, as_set, pk)\n",
    "\n",
    "    try:\n",
    "        _, _, record = client.get(key)\n",
    "        energy = record[\"energy\"]\n",
    "        print(f\"PK: {pk}, Energy: {energy}\")\n",
    "\n",
    "    except aerospike.exception.RecordNotFound:\n",
    "        print(f\"No record found for PK: {pk}\")\n",
    "\n",
    "# Measure stop of execution time\n",
    "end_time = time.time()\n",
    "\n",
    "# Calculate execution time\n",
    "execution_time = (end_time - start_time) * 1000\n",
    "\n",
    "# Print the execution time\n",
    "print(f\"Query Execution Time: {execution_time:.2f} milliseconds\")\n",
    "\n",
    "# Close client\n",
    "client.close()"
   ]
  },
  {
   "cell_type": "markdown",
   "id": "92b09bc9-6db8-4eb4-8841-d28a8d1ba87a",
   "metadata": {},
   "source": [
    "## Second Query Workload"
   ]
  },
  {
   "cell_type": "code",
   "execution_count": 20,
   "id": "dd99e631-2510-4ce8-b018-9da393b766d9",
   "metadata": {},
   "outputs": [
    {
     "name": "stdout",
     "output_type": "stream",
     "text": [
      "PK: MAC000131_2012-06-01, Energy: {'energy_sum': 5.774999999999998, 'id': 'MAC000131_2012-06-01'}\n",
      "PK: MAC000131_2012-06-02, Energy: {'energy_sum': 5.459000000000001, 'id': 'MAC000131_2012-06-02'}\n",
      "PK: MAC000131_2012-06-03, Energy: {'energy_sum': 6.481000000000001, 'id': 'MAC000131_2012-06-03'}\n",
      "Query Execution Time: 5.30 milliseconds\n"
     ]
    }
   ],
   "source": [
    "# Primary keys to query\n",
    "primary_keys = ['MAC000131_2012-06-01', 'MAC000131_2012-06-02', 'MAC000131_2012-06-03']\n",
    "\n",
    "# Measure start of execution time\n",
    "start_time = time.time()\n",
    "\n",
    "# Query and retrieve the records\n",
    "for pk in primary_keys:\n",
    "    key = (namespace, as_set, pk)\n",
    "\n",
    "    try:\n",
    "        _, _, record = client.get(key)\n",
    "        energy = record[\"energy\"]\n",
    "        print(f\"PK: {pk}, Energy: {energy}\")\n",
    "\n",
    "    except aerospike.exception.RecordNotFound:\n",
    "        print(f\"No record found for PK: {pk}\")\n",
    "\n",
    "# Measure stop of execution time\n",
    "end_time = time.time()\n",
    "\n",
    "# Calculate execution time\n",
    "execution_time = (end_time - start_time) * 1000\n",
    "\n",
    "# Print the execution time\n",
    "print(f\"Query Execution Time: {execution_time:.2f} milliseconds\")\n",
    "\n",
    "# Close client\n",
    "client.close()"
   ]
  },
  {
   "cell_type": "markdown",
   "id": "325323d7-f89f-4243-89e2-e6ea8977cb76",
   "metadata": {},
   "source": [
    "## Third Query Workload"
   ]
  },
  {
   "cell_type": "code",
   "execution_count": 21,
   "id": "944a99f4-250b-4379-a2a9-3c8413e26fb7",
   "metadata": {},
   "outputs": [
    {
     "name": "stdout",
     "output_type": "stream",
     "text": [
      "PK: MAC000131_2012-06-01, Energy: {'energy_sum': 5.774999999999998, 'id': 'MAC000131_2012-06-01'}\n",
      "PK: MAC000131_2012-06-02, Energy: {'energy_sum': 5.459000000000001, 'id': 'MAC000131_2012-06-02'}\n",
      "PK: MAC000131_2012-06-03, Energy: {'energy_sum': 6.481000000000001, 'id': 'MAC000131_2012-06-03'}\n",
      "Query Execution Time: 5.68 milliseconds\n"
     ]
    }
   ],
   "source": [
    "# Primary keys to query\n",
    "primary_keys = ['MAC000131_2012-06-01', 'MAC000131_2012-06-02', 'MAC000131_2012-06-03']\n",
    "\n",
    "# Measure start of execution time\n",
    "start_time = time.time()\n",
    "\n",
    "# Query and retrieve the records\n",
    "for pk in primary_keys:\n",
    "    key = (namespace, as_set, pk)\n",
    "\n",
    "    try:\n",
    "        _, _, record = client.get(key)\n",
    "        energy = record[\"energy\"]\n",
    "        print(f\"PK: {pk}, Energy: {energy}\")\n",
    "\n",
    "    except aerospike.exception.RecordNotFound:\n",
    "        print(f\"No record found for PK: {pk}\")\n",
    "\n",
    "# Measure stop of execution time\n",
    "end_time = time.time()\n",
    "\n",
    "# Calculate execution time\n",
    "execution_time = (end_time - start_time) * 1000\n",
    "\n",
    "# Print the execution time\n",
    "print(f\"Query Execution Time: {execution_time:.2f} milliseconds\")\n",
    "\n",
    "# Close client\n",
    "client.close()"
   ]
  },
  {
   "cell_type": "markdown",
   "id": "147ef238-2dcf-437a-8f56-4e15498a5fb4",
   "metadata": {},
   "source": [
    "## Overall Query Execution Time for Simple Retrieval"
   ]
  },
  {
   "cell_type": "code",
   "execution_count": 22,
   "id": "2969e28d-7997-4b39-ae09-50a154ad2e70",
   "metadata": {},
   "outputs": [
    {
     "name": "stdout",
     "output_type": "stream",
     "text": [
      "Average Query Execution Time: 5.326666666666667 seconds\n"
     ]
    }
   ],
   "source": [
    "print(f\"Average Query Execution Time: {((5.30+5.68+5.00)/3)} seconds\")"
   ]
  }
 ],
 "metadata": {
  "kernelspec": {
   "display_name": "Python 3 (ipykernel)",
   "language": "python",
   "name": "python3"
  },
  "language_info": {
   "codemirror_mode": {
    "name": "ipython",
    "version": 3
   },
   "file_extension": ".py",
   "mimetype": "text/x-python",
   "name": "python",
   "nbconvert_exporter": "python",
   "pygments_lexer": "ipython3",
   "version": "3.9.7"
  }
 },
 "nbformat": 4,
 "nbformat_minor": 5
}
