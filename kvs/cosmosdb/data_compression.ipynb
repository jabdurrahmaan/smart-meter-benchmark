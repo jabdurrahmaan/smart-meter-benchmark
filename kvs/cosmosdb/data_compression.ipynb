{
 "cells": [
  {
   "cell_type": "markdown",
   "id": "70af302e-4661-4696-8a5d-784bfd52af2f",
   "metadata": {},
   "source": [
    "# Import libraries"
   ]
  },
  {
   "cell_type": "code",
   "execution_count": 52,
   "id": "8b70ce22-884e-4ba2-ab96-0a2ef634818b",
   "metadata": {},
   "outputs": [],
   "source": [
    "import pandas as pd\n",
    "import random\n",
    "import gzip\n",
    "import csv\n",
    "import time\n",
    "from azure.cosmos import CosmosClient, PartitionKey, exceptions"
   ]
  },
  {
   "cell_type": "markdown",
   "id": "c3e9a929-0efb-43a3-bd29-33967bef5fcf",
   "metadata": {},
   "source": [
    "# Compress data"
   ]
  },
  {
   "cell_type": "code",
   "execution_count": 22,
   "id": "f0532bda-3e68-4cd3-89ba-5672086b978d",
   "metadata": {},
   "outputs": [],
   "source": [
    "# Prepare csv file\n",
    "df = pd.read_csv('https://raw.githubusercontent.com/jabdurrahmaan/smart-meter-benchmark/main/datasets/daily_dataset_small.csv')\n",
    "\n",
    "# Generate random values for id\n",
    "random_values = [''.join(random.choices('0123456789abcdefghijklmnopqrstuvwxyz', k=5)) for _ in range(len(df))]\n",
    "df['id'] = random_values\n",
    "\n",
    "# Save csv locally\n",
    "df.to_csv('/Users/jafarabdurrahmaan/Dropbox/00_Uni/Masterthesis/A_Thesis/1_Components/13_Benchmark_Study_Components/3_KVS/CosmosDB/iter2/daily_dataset_small_c.csv', index=False)"
   ]
  },
  {
   "cell_type": "code",
   "execution_count": 23,
   "id": "c4ac2467-746b-4652-a39a-51ecea631727",
   "metadata": {},
   "outputs": [],
   "source": [
    "def compress_csv_file(input_file, output_file):\n",
    "    with open(input_file, 'rb') as f_in, gzip.open(output_file, 'wb') as f_out:\n",
    "        f_out.writelines(f_in)\n",
    "\n",
    "input_file = 'daily_dataset_small_c.csv'\n",
    "output_file = 'daily_dataset_small_c.gz'\n",
    "compress_csv_file(input_file, output_file)"
   ]
  },
  {
   "cell_type": "markdown",
   "id": "14b7f225-0c12-4075-93bf-77eac445fcf1",
   "metadata": {},
   "source": [
    "# Create client connection"
   ]
  },
  {
   "cell_type": "code",
   "execution_count": 19,
   "id": "8ed373ed-275c-4f9d-8faa-6744d710e5fd",
   "metadata": {},
   "outputs": [],
   "source": [
    "endpoint = \"https://smart-meter-benchmark.documents.azure.com:443/\"\n",
    "key = \"HvrYXT5hnZmhRNJf2vJdXRy7Ms4YSKQE6lP77MAw4AES7N7sXLopbTyy1LoXYeBwRLgKEGms3S0JACDbKq9F3Q==;\"\n",
    "client = CosmosClient(endpoint, key)"
   ]
  },
  {
   "cell_type": "markdown",
   "id": "8da306f8-2c66-4c05-a71b-3828c99813d8",
   "metadata": {},
   "source": [
    "# Create database and container"
   ]
  },
  {
   "cell_type": "code",
   "execution_count": 26,
   "id": "fb0f4566-f9be-4581-a09d-2c955e335e16",
   "metadata": {},
   "outputs": [
    {
     "name": "stdout",
     "output_type": "stream",
     "text": [
      "Container already exists.\n",
      "Container already exists.\n"
     ]
    }
   ],
   "source": [
    "database_name = \"smart-meter-benchmark_c\"\n",
    "\n",
    "try:\n",
    "    database = client.create_database(id=database_name)\n",
    "    print(f\"Database created: {database.id}\")\n",
    "except exceptions.CosmosResourceExistsError:\n",
    "    database = client.get_database_client(database=database_name)\n",
    "    print(\"Container already exists.\")\n",
    "    \n",
    "\n",
    "container_id = \"energy_c\"\n",
    "partition_key_path = \"/id_c\"\n",
    "\n",
    "try:\n",
    "    partition_key = PartitionKey(path=partition_key_path)\n",
    "    container = database.create_container(\n",
    "        id=container_id,\n",
    "        partition_key=partition_key,\n",
    "        offer_throughput=400,\n",
    "    )\n",
    "    print(f\"Container created: {container.id}\")\n",
    "except exceptions.CosmosResourceExistsError:\n",
    "    print(\"Container already exists.\")"
   ]
  },
  {
   "cell_type": "markdown",
   "id": "57feb4ab-7e11-4252-8141-5e072d3410da",
   "metadata": {},
   "source": [
    "# Data insertion"
   ]
  },
  {
   "cell_type": "code",
   "execution_count": 25,
   "id": "9d261498-6410-4977-b114-4341ab52c8d5",
   "metadata": {},
   "outputs": [
    {
     "name": "stdout",
     "output_type": "stream",
     "text": [
      "Data insertion took 215.95 seconds\n"
     ]
    }
   ],
   "source": [
    "# Read gzip data\n",
    "csv_file = \"/Users/jafarabdurrahmaan/Dropbox/00_Uni/Masterthesis/A_Thesis/1_Components/13_Benchmark_Study_Components/3_KVS/CosmosDB/iter2/daily_dataset_small_c.gz\"\n",
    "\n",
    "# Start measuring time\n",
    "start_time = time.time()  \n",
    "\n",
    "# Insert items into container\n",
    "with gzip.open(csv_file, \"rt\") as file:\n",
    "    reader = csv.DictReader(file)\n",
    "    for row in reader:\n",
    "        item = {\n",
    "            \"id\": row[\"id\"],\n",
    "            \"LCLid\": row[\"LCLid\"],\n",
    "            \"day\": row[\"day\"],\n",
    "            \"energy_median\": float(row[\"energy_median\"]),\n",
    "            \"energy_mean\": float(row[\"energy_mean\"]),\n",
    "            \"energy_max\": float(row[\"energy_max\"]),\n",
    "            \"energy_count\": int(row[\"energy_count\"]),\n",
    "            \"energy_std\": float(row[\"energy_std\"]),\n",
    "            \"energy_sum\": float(row[\"energy_sum\"]),\n",
    "            \"energy_min\": float(row[\"energy_min\"]),\n",
    "            \"partitionKey\": row[\"id\"]\n",
    "        }\n",
    "\n",
    "        container.create_item(item)\n",
    "\n",
    "# Stop measuring time\n",
    "end_time = time.time()  \n",
    "\n",
    "# Calculate execution time\n",
    "execution_time = end_time - start_time\n",
    "print(f\"Data insertion took {execution_time:.2f} seconds\")"
   ]
  },
  {
   "cell_type": "markdown",
   "id": "db3d853f-f3fb-426d-adc0-aedf8e58836e",
   "metadata": {},
   "source": [
    "# Simple Retrieval"
   ]
  },
  {
   "cell_type": "markdown",
   "id": "2b3ba682-c15c-416c-995f-d1ad829c37d3",
   "metadata": {},
   "source": [
    "## First Query Workload"
   ]
  },
  {
   "cell_type": "code",
   "execution_count": 30,
   "id": "0b0eb3cd-9f72-4d3a-aa30-5467d63f1029",
   "metadata": {},
   "outputs": [
    {
     "name": "stdout",
     "output_type": "stream",
     "text": [
      "{'energy_min': 0.064, 'energy_max': 0.312}\n",
      "{'energy_min': 0.065, 'energy_max': 0.299}\n",
      "{'energy_min': 0.064, 'energy_max': 0.7829999999999999}\n",
      "{'energy_min': 0.066, 'energy_max': 1.1619999}\n",
      "{'energy_min': 0.065, 'energy_max': 0.742}\n",
      "Query took 0.05 seconds\n"
     ]
    }
   ],
   "source": [
    "# Specify database and container\n",
    "database_name = \"smart-meter-benchmark_c\"\n",
    "container_name = \"energy_c\"\n",
    "database = client.get_database_client(database_name)\n",
    "container = database.get_container_client(container_name)\n",
    "\n",
    "# Define query\n",
    "query = \"SELECT c.energy_min, c.energy_max FROM c WHERE c.LCLid = 'MAC000131' AND c.day >= '2012-06-01' AND c.day <= '2013-06-01'\"\n",
    "\n",
    "# Start measuring time\n",
    "start_time = time.time()\n",
    "\n",
    "# Execute query\n",
    "try:\n",
    "    items = list(container.query_items(query, enable_cross_partition_query=True))\n",
    "    count = 0\n",
    "    for item in items:\n",
    "        print(item)\n",
    "        count += 1\n",
    "        if count >= 5:\n",
    "            break\n",
    "except exceptions.CosmosHttpResponseError as e:\n",
    "    print(\"Error. {0}: {1}\".format(e.status_code, e.message))\n",
    "    \n",
    "# Stop measuring time\n",
    "end_time = time.time()  \n",
    "\n",
    "# Calculate execution time\n",
    "execution_time = end_time - start_time\n",
    "print(f\"Query took {execution_time:.2f} seconds\")"
   ]
  },
  {
   "cell_type": "markdown",
   "id": "c6b84346-454f-4e68-bced-3dbe31224249",
   "metadata": {},
   "source": [
    "## Second Query Workload"
   ]
  },
  {
   "cell_type": "code",
   "execution_count": 28,
   "id": "f084458d-6304-4027-843b-03c721e28fe2",
   "metadata": {},
   "outputs": [
    {
     "name": "stdout",
     "output_type": "stream",
     "text": [
      "{'energy_min': 0.064, 'energy_max': 0.312}\n",
      "{'energy_min': 0.065, 'energy_max': 0.299}\n",
      "{'energy_min': 0.064, 'energy_max': 0.7829999999999999}\n",
      "{'energy_min': 0.066, 'energy_max': 1.1619999}\n",
      "{'energy_min': 0.065, 'energy_max': 0.742}\n",
      "Query took 0.04 seconds\n"
     ]
    }
   ],
   "source": [
    "# Specify database and container\n",
    "database_name = \"smart-meter-benchmark_c\"\n",
    "container_name = \"energy_c\"\n",
    "database = client.get_database_client(database_name)\n",
    "container = database.get_container_client(container_name)\n",
    "\n",
    "# Define query\n",
    "query = \"SELECT c.energy_min, c.energy_max FROM c WHERE c.LCLid = 'MAC000131' AND c.day >= '2012-06-01' AND c.day <= '2013-06-01'\"\n",
    "\n",
    "# Start measuring time\n",
    "start_time = time.time()\n",
    "\n",
    "# Execute query\n",
    "try:\n",
    "    items = list(container.query_items(query, enable_cross_partition_query=True))\n",
    "    count = 0\n",
    "    for item in items:\n",
    "        print(item)\n",
    "        count += 1\n",
    "        if count >= 5:\n",
    "            break\n",
    "except exceptions.CosmosHttpResponseError as e:\n",
    "    print(\"Error. {0}: {1}\".format(e.status_code, e.message))\n",
    "    \n",
    "# Stop measuring time\n",
    "end_time = time.time()  \n",
    "\n",
    "# Calculate execution time\n",
    "execution_time = end_time - start_time\n",
    "print(f\"Query took {execution_time:.2f} seconds\")"
   ]
  },
  {
   "cell_type": "markdown",
   "id": "cb8f8ded-0473-4bc5-99c8-c1276ed2fff4",
   "metadata": {},
   "source": [
    "## Third Query Workload"
   ]
  },
  {
   "cell_type": "code",
   "execution_count": 29,
   "id": "a2910f41-9909-4f18-a0b2-6b1141ed72f1",
   "metadata": {},
   "outputs": [
    {
     "name": "stdout",
     "output_type": "stream",
     "text": [
      "{'energy_min': 0.064, 'energy_max': 0.312}\n",
      "{'energy_min': 0.065, 'energy_max': 0.299}\n",
      "{'energy_min': 0.064, 'energy_max': 0.7829999999999999}\n",
      "{'energy_min': 0.066, 'energy_max': 1.1619999}\n",
      "{'energy_min': 0.065, 'energy_max': 0.742}\n",
      "Query took 0.06 seconds\n"
     ]
    }
   ],
   "source": [
    "# Specify database and container\n",
    "database_name = \"smart-meter-benchmark_c\"\n",
    "container_name = \"energy_c\"\n",
    "database = client.get_database_client(database_name)\n",
    "container = database.get_container_client(container_name)\n",
    "\n",
    "# Define query\n",
    "query = \"SELECT c.energy_min, c.energy_max FROM c WHERE c.LCLid = 'MAC000131' AND c.day >= '2012-06-01' AND c.day <= '2013-06-01'\"\n",
    "\n",
    "# Start measuring time\n",
    "start_time = time.time()\n",
    "\n",
    "# Execute query\n",
    "try:\n",
    "    items = list(container.query_items(query, enable_cross_partition_query=True))\n",
    "    count = 0\n",
    "    for item in items:\n",
    "        print(item)\n",
    "        count += 1\n",
    "        if count >= 5:\n",
    "            break\n",
    "except exceptions.CosmosHttpResponseError as e:\n",
    "    print(\"Error. {0}: {1}\".format(e.status_code, e.message))\n",
    "    \n",
    "# Stop measuring time\n",
    "end_time = time.time()  \n",
    "\n",
    "# Calculate execution time\n",
    "execution_time = end_time - start_time\n",
    "print(f\"Query took {execution_time:.2f} seconds\")"
   ]
  },
  {
   "cell_type": "markdown",
   "id": "1ce26019-7a45-4043-b178-c9c08150252b",
   "metadata": {},
   "source": [
    "## Overall Query Execution Time for Simple Retrieval"
   ]
  },
  {
   "cell_type": "code",
   "execution_count": 31,
   "id": "37a7f785-f795-442b-9b6d-24b9e00a99ef",
   "metadata": {},
   "outputs": [
    {
     "name": "stdout",
     "output_type": "stream",
     "text": [
      "Average Query Execution Time: 49.99999999999999 milliseconds\n"
     ]
    }
   ],
   "source": [
    "print(f\"Average Query Execution Time: {((0.05+0.04+0.06)/3)*1000} milliseconds\")"
   ]
  }
 ],
 "metadata": {
  "kernelspec": {
   "display_name": "Python 3 (ipykernel)",
   "language": "python",
   "name": "python3"
  },
  "language_info": {
   "codemirror_mode": {
    "name": "ipython",
    "version": 3
   },
   "file_extension": ".py",
   "mimetype": "text/x-python",
   "name": "python",
   "nbconvert_exporter": "python",
   "pygments_lexer": "ipython3",
   "version": "3.9.7"
  }
 },
 "nbformat": 4,
 "nbformat_minor": 5
}
