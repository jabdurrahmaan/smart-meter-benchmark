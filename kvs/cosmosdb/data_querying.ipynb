{
 "cells": [
  {
   "cell_type": "markdown",
   "id": "6f21d9b5-8faf-4e57-864e-a634b3a3eeb0",
   "metadata": {},
   "source": [
    "# Import libraries"
   ]
  },
  {
   "cell_type": "code",
   "execution_count": null,
   "id": "30d5375e-b71c-478d-8f31-c7060deba3a6",
   "metadata": {},
   "outputs": [],
   "source": [
    "from azure.cosmos import CosmosClient, PartitionKey, exceptions\n",
    "import json\n",
    "import time"
   ]
  },
  {
   "cell_type": "markdown",
   "id": "7161a2ce-be8e-43db-a643-a4620d661068",
   "metadata": {},
   "source": [
    "# Access database and container"
   ]
  },
  {
   "cell_type": "code",
   "execution_count": null,
   "id": "52ce9277-aa53-48ec-abd5-222b2b2590f9",
   "metadata": {},
   "outputs": [],
   "source": [
    "database_name = \"smart-meter-benchmark_mm\"\n",
    "container_name = \"energy_mm\"\n",
    "database = client.get_database_client(database_name)\n",
    "container = database.get_container_client(container_name)"
   ]
  },
  {
   "cell_type": "markdown",
   "id": "56bd20a6-9370-4d92-91b9-ea352ba0517f",
   "metadata": {},
   "source": [
    "# Simple Retrieval"
   ]
  },
  {
   "cell_type": "markdown",
   "id": "94d8e521-3f82-44fe-83fb-784f173c6122",
   "metadata": {},
   "source": [
    "## First Query Workload"
   ]
  },
  {
   "cell_type": "code",
   "execution_count": 35,
   "id": "76b624a3-5ac0-4bf1-bd74-03b01e079cdd",
   "metadata": {},
   "outputs": [
    {
     "name": "stdout",
     "output_type": "stream",
     "text": [
      "{'id': 'MAC000131_2012-06-01', 'LCLid': 'MAC000131', 'day': '2012-06-01', 'energy_median': 0.1105, 'energy_mean': 0.1203124999999999, 'energy_max': 0.312, 'energy_count': 48, 'energy_std': 0.0550555449697384, 'energy_sum': 5.774999999999998, 'energy_min': 0.064, 'partitionKey': 'default', '_rid': '54UyAOuB2GiqAAAAAAAAAA==', '_self': 'dbs/54UyAA==/colls/54UyAOuB2Gg=/docs/54UyAOuB2GiqAAAAAAAAAA==/', '_etag': '\"33009d5d-0000-1000-0000-64a18f810000\"', '_attachments': 'attachments/', '_ts': 1688309633}\n",
      "{'id': 'MAC000131_2012-06-02', 'LCLid': 'MAC000131', 'day': '2012-06-02', 'energy_median': 0.092, 'energy_mean': 0.1137291666666667, 'energy_max': 0.299, 'energy_count': 48, 'energy_std': 0.0545717328369064, 'energy_sum': 5.459000000000001, 'energy_min': 0.065, 'partitionKey': 'default', '_rid': '54UyAOuB2GirAAAAAAAAAA==', '_self': 'dbs/54UyAA==/colls/54UyAOuB2Gg=/docs/54UyAOuB2GirAAAAAAAAAA==/', '_etag': '\"33009f5d-0000-1000-0000-64a18f810000\"', '_attachments': 'attachments/', '_ts': 1688309633}\n",
      "{'id': 'MAC000131_2012-06-03', 'LCLid': 'MAC000131', 'day': '2012-06-03', 'energy_median': 0.1165, 'energy_mean': 0.1350208333333333, 'energy_max': 0.7829999999999999, 'energy_count': 48, 'energy_std': 0.1098601605491568, 'energy_sum': 6.481000000000001, 'energy_min': 0.064, 'partitionKey': 'default', '_rid': '54UyAOuB2GisAAAAAAAAAA==', '_self': 'dbs/54UyAA==/colls/54UyAOuB2Gg=/docs/54UyAOuB2GisAAAAAAAAAA==/', '_etag': '\"3300a05d-0000-1000-0000-64a18f810000\"', '_attachments': 'attachments/', '_ts': 1688309633}\n",
      "Query took 0.05 seconds\n"
     ]
    }
   ],
   "source": [
    "# Specify keys for query\n",
    "keys = [\"MAC000131_2012-06-01\", \"MAC000131_2012-06-02\", \"MAC000131_2012-06-03\"]\n",
    "\n",
    "# Specify query\n",
    "conditions = \" OR \".join([f\"c.id = '{key}'\" for key in keys])\n",
    "query = f\"SELECT * FROM c WHERE {conditions}\"\n",
    "\n",
    "# Start measuring time\n",
    "start_time = time.time()\n",
    "\n",
    "# Execute query\n",
    "try:\n",
    "    items = list(container.query_items(query, enable_cross_partition_query=True))\n",
    "    for item in items:\n",
    "        print(item)\n",
    "        \n",
    "except exceptions.CosmosHttpResponseError as e:\n",
    "    print(f\"Error: {e.status_code} - {e.message}\")\n",
    "\n",
    "# Stop measuring time\n",
    "end_time = time.time()  \n",
    "\n",
    "# Calculate execution time\n",
    "execution_time = end_time - start_time\n",
    "print(f\"Query took {execution_time:.2f} seconds\")"
   ]
  },
  {
   "cell_type": "markdown",
   "id": "f9a68c23-3ae2-4c4f-b2de-c2d46ecdf4cd",
   "metadata": {},
   "source": [
    "## Second Query Workload"
   ]
  },
  {
   "cell_type": "code",
   "execution_count": 36,
   "id": "d718378c-ea01-4361-949f-abea4e47d5fc",
   "metadata": {},
   "outputs": [
    {
     "name": "stdout",
     "output_type": "stream",
     "text": [
      "{'id': 'MAC000131_2012-06-01', 'LCLid': 'MAC000131', 'day': '2012-06-01', 'energy_median': 0.1105, 'energy_mean': 0.1203124999999999, 'energy_max': 0.312, 'energy_count': 48, 'energy_std': 0.0550555449697384, 'energy_sum': 5.774999999999998, 'energy_min': 0.064, 'partitionKey': 'default', '_rid': '54UyAOuB2GiqAAAAAAAAAA==', '_self': 'dbs/54UyAA==/colls/54UyAOuB2Gg=/docs/54UyAOuB2GiqAAAAAAAAAA==/', '_etag': '\"33009d5d-0000-1000-0000-64a18f810000\"', '_attachments': 'attachments/', '_ts': 1688309633}\n",
      "{'id': 'MAC000131_2012-06-02', 'LCLid': 'MAC000131', 'day': '2012-06-02', 'energy_median': 0.092, 'energy_mean': 0.1137291666666667, 'energy_max': 0.299, 'energy_count': 48, 'energy_std': 0.0545717328369064, 'energy_sum': 5.459000000000001, 'energy_min': 0.065, 'partitionKey': 'default', '_rid': '54UyAOuB2GirAAAAAAAAAA==', '_self': 'dbs/54UyAA==/colls/54UyAOuB2Gg=/docs/54UyAOuB2GirAAAAAAAAAA==/', '_etag': '\"33009f5d-0000-1000-0000-64a18f810000\"', '_attachments': 'attachments/', '_ts': 1688309633}\n",
      "{'id': 'MAC000131_2012-06-03', 'LCLid': 'MAC000131', 'day': '2012-06-03', 'energy_median': 0.1165, 'energy_mean': 0.1350208333333333, 'energy_max': 0.7829999999999999, 'energy_count': 48, 'energy_std': 0.1098601605491568, 'energy_sum': 6.481000000000001, 'energy_min': 0.064, 'partitionKey': 'default', '_rid': '54UyAOuB2GisAAAAAAAAAA==', '_self': 'dbs/54UyAA==/colls/54UyAOuB2Gg=/docs/54UyAOuB2GisAAAAAAAAAA==/', '_etag': '\"3300a05d-0000-1000-0000-64a18f810000\"', '_attachments': 'attachments/', '_ts': 1688309633}\n",
      "Query took 0.05 seconds\n"
     ]
    }
   ],
   "source": [
    "# Specify keys for query\n",
    "keys = [\"MAC000131_2012-06-01\", \"MAC000131_2012-06-02\", \"MAC000131_2012-06-03\"]\n",
    "\n",
    "# Specify query\n",
    "conditions = \" OR \".join([f\"c.id = '{key}'\" for key in keys])\n",
    "query = f\"SELECT * FROM c WHERE {conditions}\"\n",
    "\n",
    "# Start measuring time\n",
    "start_time = time.time()\n",
    "\n",
    "# Execute query\n",
    "try:\n",
    "    items = list(container.query_items(query, enable_cross_partition_query=True))\n",
    "    for item in items:\n",
    "        print(item)\n",
    "        \n",
    "except exceptions.CosmosHttpResponseError as e:\n",
    "    print(f\"Error: {e.status_code} - {e.message}\")\n",
    "\n",
    "# Stop measuring time\n",
    "end_time = time.time()  \n",
    "\n",
    "# Calculate execution time\n",
    "execution_time = end_time - start_time\n",
    "print(f\"Query took {execution_time:.2f} seconds\")"
   ]
  },
  {
   "cell_type": "markdown",
   "id": "440615e3-ef40-4331-9f45-ea1b781b9593",
   "metadata": {},
   "source": [
    "## Third query workload"
   ]
  },
  {
   "cell_type": "code",
   "execution_count": 37,
   "id": "3d6812b9-9c52-45ef-a571-3d18554668a3",
   "metadata": {},
   "outputs": [
    {
     "name": "stdout",
     "output_type": "stream",
     "text": [
      "{'id': 'MAC000131_2012-06-01', 'LCLid': 'MAC000131', 'day': '2012-06-01', 'energy_median': 0.1105, 'energy_mean': 0.1203124999999999, 'energy_max': 0.312, 'energy_count': 48, 'energy_std': 0.0550555449697384, 'energy_sum': 5.774999999999998, 'energy_min': 0.064, 'partitionKey': 'default', '_rid': '54UyAOuB2GiqAAAAAAAAAA==', '_self': 'dbs/54UyAA==/colls/54UyAOuB2Gg=/docs/54UyAOuB2GiqAAAAAAAAAA==/', '_etag': '\"33009d5d-0000-1000-0000-64a18f810000\"', '_attachments': 'attachments/', '_ts': 1688309633}\n",
      "{'id': 'MAC000131_2012-06-02', 'LCLid': 'MAC000131', 'day': '2012-06-02', 'energy_median': 0.092, 'energy_mean': 0.1137291666666667, 'energy_max': 0.299, 'energy_count': 48, 'energy_std': 0.0545717328369064, 'energy_sum': 5.459000000000001, 'energy_min': 0.065, 'partitionKey': 'default', '_rid': '54UyAOuB2GirAAAAAAAAAA==', '_self': 'dbs/54UyAA==/colls/54UyAOuB2Gg=/docs/54UyAOuB2GirAAAAAAAAAA==/', '_etag': '\"33009f5d-0000-1000-0000-64a18f810000\"', '_attachments': 'attachments/', '_ts': 1688309633}\n",
      "{'id': 'MAC000131_2012-06-03', 'LCLid': 'MAC000131', 'day': '2012-06-03', 'energy_median': 0.1165, 'energy_mean': 0.1350208333333333, 'energy_max': 0.7829999999999999, 'energy_count': 48, 'energy_std': 0.1098601605491568, 'energy_sum': 6.481000000000001, 'energy_min': 0.064, 'partitionKey': 'default', '_rid': '54UyAOuB2GisAAAAAAAAAA==', '_self': 'dbs/54UyAA==/colls/54UyAOuB2Gg=/docs/54UyAOuB2GisAAAAAAAAAA==/', '_etag': '\"3300a05d-0000-1000-0000-64a18f810000\"', '_attachments': 'attachments/', '_ts': 1688309633}\n",
      "Query took 0.05 seconds\n"
     ]
    }
   ],
   "source": [
    "# Specify keys for query\n",
    "keys = [\"MAC000131_2012-06-01\", \"MAC000131_2012-06-02\", \"MAC000131_2012-06-03\"]\n",
    "\n",
    "# Specify query\n",
    "conditions = \" OR \".join([f\"c.id = '{key}'\" for key in keys])\n",
    "query = f\"SELECT * FROM c WHERE {conditions}\"\n",
    "\n",
    "# Start measuring time\n",
    "start_time = time.time()\n",
    "\n",
    "# Execute query\n",
    "try:\n",
    "    items = list(container.query_items(query, enable_cross_partition_query=True))\n",
    "    for item in items:\n",
    "        print(item)\n",
    "        \n",
    "except exceptions.CosmosHttpResponseError as e:\n",
    "    print(f\"Error: {e.status_code} - {e.message}\")\n",
    "\n",
    "# Stop measuring time\n",
    "end_time = time.time()  \n",
    "\n",
    "# Calculate execution time\n",
    "execution_time = end_time - start_time\n",
    "print(f\"Query took {execution_time:.2f} seconds\")"
   ]
  },
  {
   "cell_type": "markdown",
   "id": "3aa8cf66-9517-461e-ad65-6babc6f912ba",
   "metadata": {},
   "source": [
    "## Overall Query Execution Time for Simple Retrieval"
   ]
  },
  {
   "cell_type": "code",
   "execution_count": 38,
   "id": "69e64ba9-47b1-452c-84e8-19491d23f182",
   "metadata": {},
   "outputs": [
    {
     "name": "stdout",
     "output_type": "stream",
     "text": [
      "Average Query Execution Time: 50.00000000000001 milliseconds\n"
     ]
    }
   ],
   "source": [
    "print(f\"Average Query Execution Time: {((0.05+0.05+0.05)/3)*1000} milliseconds\")"
   ]
  },
  {
   "cell_type": "markdown",
   "id": "383dab7e-c11d-4e0a-9d75-d603086ee29a",
   "metadata": {},
   "source": [
    "# Metadata"
   ]
  },
  {
   "cell_type": "code",
   "execution_count": 28,
   "id": "42de4f0b-5080-41d2-b5d0-089c5d5d8372",
   "metadata": {},
   "outputs": [
    {
     "name": "stdout",
     "output_type": "stream",
     "text": [
      "{'id': 'MAC000131_2011-12-15', '_etag': '\"3300e45c-0000-1000-0000-64a18f790000\"', '_ts': 1688309625}\n",
      "{'id': 'MAC000131_2011-12-16', '_etag': '\"3300e55c-0000-1000-0000-64a18f790000\"', '_ts': 1688309625}\n",
      "{'id': 'MAC000131_2011-12-17', '_etag': '\"3300e65c-0000-1000-0000-64a18f790000\"', '_ts': 1688309625}\n",
      "{'id': 'MAC000131_2011-12-18', '_etag': '\"3300e75c-0000-1000-0000-64a18f790000\"', '_ts': 1688309625}\n",
      "{'id': 'MAC000131_2011-12-19', '_etag': '\"3300e95c-0000-1000-0000-64a18f790000\"', '_ts': 1688309625}\n",
      "{'id': 'MAC000131_2011-12-20', '_etag': '\"3300ea5c-0000-1000-0000-64a18f790000\"', '_ts': 1688309625}\n",
      "{'id': 'MAC000131_2011-12-21', '_etag': '\"3300eb5c-0000-1000-0000-64a18f790000\"', '_ts': 1688309625}\n",
      "{'id': 'MAC000131_2011-12-22', '_etag': '\"3300ec5c-0000-1000-0000-64a18f790000\"', '_ts': 1688309625}\n",
      "{'id': 'MAC000131_2011-12-23', '_etag': '\"3300ed5c-0000-1000-0000-64a18f790000\"', '_ts': 1688309625}\n",
      "{'id': 'MAC000131_2011-12-24', '_etag': '\"3300ee5c-0000-1000-0000-64a18f790000\"', '_ts': 1688309625}\n",
      "{'id': 'MAC000131_2011-12-25', '_etag': '\"3300ef5c-0000-1000-0000-64a18f790000\"', '_ts': 1688309625}\n",
      "{'id': 'MAC000131_2011-12-26', '_etag': '\"3300f15c-0000-1000-0000-64a18f790000\"', '_ts': 1688309625}\n",
      "{'id': 'MAC000131_2011-12-27', '_etag': '\"3300f35c-0000-1000-0000-64a18f790000\"', '_ts': 1688309625}\n",
      "{'id': 'MAC000131_2011-12-28', '_etag': '\"3300f45c-0000-1000-0000-64a18f790000\"', '_ts': 1688309625}\n",
      "{'id': 'MAC000131_2011-12-29', '_etag': '\"3300f55c-0000-1000-0000-64a18f790000\"', '_ts': 1688309625}\n",
      "{'id': 'MAC000131_2011-12-30', '_etag': '\"3300f65c-0000-1000-0000-64a18f7a0000\"', '_ts': 1688309626}\n",
      "{'id': 'MAC000131_2011-12-31', '_etag': '\"3300f75c-0000-1000-0000-64a18f7a0000\"', '_ts': 1688309626}\n",
      "{'id': 'MAC000131_2012-01-01', '_etag': '\"3300f85c-0000-1000-0000-64a18f7a0000\"', '_ts': 1688309626}\n",
      "{'id': 'MAC000131_2012-01-02', '_etag': '\"3300f95c-0000-1000-0000-64a18f7a0000\"', '_ts': 1688309626}\n",
      "{'id': 'MAC000131_2012-01-03', '_etag': '\"3300fb5c-0000-1000-0000-64a18f7a0000\"', '_ts': 1688309626}\n",
      "Query took 0.61 seconds\n"
     ]
    }
   ],
   "source": [
    "# Define query\n",
    "query = \"SELECT c.id, c._etag, c._ts FROM c WHERE c._ts > 1688200000\"\n",
    "\n",
    "# Start measuring time\n",
    "start_time = time.time()\n",
    "\n",
    "# Execute query\n",
    "try:\n",
    "    items = list(container.query_items(query, enable_cross_partition_query=True))\n",
    "    count = 0\n",
    "    for item in items:\n",
    "        print(item)\n",
    "        count += 1\n",
    "        if count >= 20:\n",
    "            break\n",
    "except exceptions.CosmosHttpResponseError as e:\n",
    "    print(\"Error. {0}: {1}\".format(e.status_code, e.message))\n",
    "    \n",
    "# Stop measuring time\n",
    "end_time = time.time()  \n",
    "\n",
    "# Calculate execution time\n",
    "execution_time = end_time - start_time\n",
    "print(f\"Query took {execution_time:.2f} seconds\")"
   ]
  }
 ],
 "metadata": {
  "kernelspec": {
   "display_name": "Python 3 (ipykernel)",
   "language": "python",
   "name": "python3"
  },
  "language_info": {
   "codemirror_mode": {
    "name": "ipython",
    "version": 3
   },
   "file_extension": ".py",
   "mimetype": "text/x-python",
   "name": "python",
   "nbconvert_exporter": "python",
   "pygments_lexer": "ipython3",
   "version": "3.9.7"
  }
 },
 "nbformat": 4,
 "nbformat_minor": 5
}
