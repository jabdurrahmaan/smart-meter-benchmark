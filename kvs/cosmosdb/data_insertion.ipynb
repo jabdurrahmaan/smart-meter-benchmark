{
 "cells": [
  {
   "cell_type": "markdown",
   "id": "84ab4fdf-50cb-4354-8d2b-b32c3e7f0db6",
   "metadata": {},
   "source": [
    "# Import libraries"
   ]
  },
  {
   "cell_type": "code",
   "execution_count": 12,
   "id": "f80df326-71c5-4778-b10f-141eeaa148e3",
   "metadata": {},
   "outputs": [],
   "source": [
    "from azure.cosmos import CosmosClient, PartitionKey, exceptions\n",
    "import json\n",
    "import time"
   ]
  },
  {
   "cell_type": "markdown",
   "id": "682dab55-964b-4faf-8fde-f4d28a003206",
   "metadata": {},
   "source": [
    "# Create client connection"
   ]
  },
  {
   "cell_type": "code",
   "execution_count": 13,
   "id": "30d09877-f56f-4fa9-ae76-246ec4c1011e",
   "metadata": {},
   "outputs": [],
   "source": [
    "endpoint = \"https://smart-meter-benchmark.documents.azure.com:443/\"\n",
    "key = \"HvrYXT5hnZmhRNJf2vJdXRy7Ms4YSKQE6lP77MAw4AES7N7sXLopbTyy1LoXYeBwRLgKEGms3S0JACDbKq9F3Q==;\"\n",
    "client = CosmosClient(endpoint, key)"
   ]
  },
  {
   "cell_type": "markdown",
   "id": "258638bb-6aca-44a3-b89f-d1dda87da7b4",
   "metadata": {},
   "source": [
    "# Create database and container"
   ]
  },
  {
   "cell_type": "code",
   "execution_count": 14,
   "id": "12f57261-fb02-4d2c-9855-11b16ba534a2",
   "metadata": {},
   "outputs": [],
   "source": [
    "database_name = \"smart-meter-benchmark_mm\"\n",
    "\n",
    "try:\n",
    "    database = client.create_database(id=database_name)\n",
    "except exceptions.CosmosResourceExistsError:\n",
    "    database = client.get_database_client(database=database_name)"
   ]
  },
  {
   "cell_type": "code",
   "execution_count": 15,
   "id": "c9ad419b-8a3f-4e17-a66c-3dfc0af40b01",
   "metadata": {},
   "outputs": [
    {
     "name": "stdout",
     "output_type": "stream",
     "text": [
      "Container created: energy_mm\n"
     ]
    }
   ],
   "source": [
    "container_id = \"energy_mm\"\n",
    "partition_key_path = \"/id_mm\"\n",
    "\n",
    "try:\n",
    "    partition_key = PartitionKey(path=partition_key_path)\n",
    "    container = database.create_container(\n",
    "        id=container_id,\n",
    "        partition_key=partition_key,\n",
    "        offer_throughput=400,\n",
    "    )\n",
    "    print(f\"Container created: {container.id}\")\n",
    "\n",
    "except exceptions.CosmosResourceExistsError:\n",
    "    print(\"Container already exists.\")"
   ]
  },
  {
   "cell_type": "markdown",
   "id": "f30fc5b1-bcee-42b1-828e-220b28107a1b",
   "metadata": {},
   "source": [
    "# Data Insertion"
   ]
  },
  {
   "cell_type": "code",
   "execution_count": 22,
   "id": "b640a499-4ae2-4081-8af4-02fde9f9a13f",
   "metadata": {},
   "outputs": [
    {
     "name": "stdout",
     "output_type": "stream",
     "text": [
      "Data insertion took 265.52 seconds\n"
     ]
    }
   ],
   "source": [
    "# Access the database and container\n",
    "database_name = \"smart-meter-benchmark_mm\"\n",
    "container_name = \"energy_mm\"\n",
    "database = client.get_database_client(database_name)\n",
    "container = database.get_container_client(container_name)\n",
    "\n",
    "# Read json data\n",
    "json_file = \"/Users/jafarabdurrahmaan/Dropbox/00_Uni/Masterthesis/A_Thesis/1_Components/13_Benchmark_Study_Components/3_KVS/CosmosDB/iter2.2/daily_dataset_small_kv.json\"\n",
    "\n",
    "# Start measuring time\n",
    "start_time = time.time()  \n",
    "\n",
    "#Iterate over json file\n",
    "with open(json_file, \"r\") as file:\n",
    "    json_data = json.load(file)\n",
    "    for item in json_data:\n",
    "        item_id = item[\"id\"]\n",
    "        lclid = item[\"LCLid\"]\n",
    "        day = item[\"day\"]\n",
    "        energy_median = float(item[\"energy_median\"])\n",
    "        energy_mean = float(item[\"energy_mean\"])\n",
    "        energy_max = float(item[\"energy_max\"])\n",
    "        energy_count = int(item[\"energy_count\"])\n",
    "        energy_std = float(item[\"energy_std\"])\n",
    "        energy_sum = float(item[\"energy_sum\"])\n",
    "        energy_min = float(item[\"energy_min\"])\n",
    "\n",
    "        container_item = {\n",
    "            \"id\": item_id,\n",
    "            \"LCLid\": lclid,\n",
    "            \"day\": day,\n",
    "            \"energy_median\": energy_median,\n",
    "            \"energy_mean\": energy_mean,\n",
    "            \"energy_max\": energy_max,\n",
    "            \"energy_count\": energy_count,\n",
    "            \"energy_std\": energy_std,\n",
    "            \"energy_sum\": energy_sum,\n",
    "            \"energy_min\": energy_min,\n",
    "            \"partitionKey\": \"default\"\n",
    "        }\n",
    "\n",
    "        container.create_item(container_item)\n",
    "\n",
    "# Stop measuring time\n",
    "end_time = time.time()\n",
    "\n",
    "# Calculate execution time\n",
    "execution_time = end_time - start_time\n",
    "print(f\"Data insertion took {execution_time:.2f} seconds\")"
   ]
  }
 ],
 "metadata": {
  "kernelspec": {
   "display_name": "Python 3 (ipykernel)",
   "language": "python",
   "name": "python3"
  },
  "language_info": {
   "codemirror_mode": {
    "name": "ipython",
    "version": 3
   },
   "file_extension": ".py",
   "mimetype": "text/x-python",
   "name": "python",
   "nbconvert_exporter": "python",
   "pygments_lexer": "ipython3",
   "version": "3.9.7"
  }
 },
 "nbformat": 4,
 "nbformat_minor": 5
}
