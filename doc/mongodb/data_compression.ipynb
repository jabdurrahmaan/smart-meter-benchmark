{
 "cells": [
  {
   "cell_type": "markdown",
   "id": "ebf1099b-9592-4dfc-a15f-ee8f5fbdf833",
   "metadata": {},
   "source": [
    "# Import libraries"
   ]
  },
  {
   "cell_type": "code",
   "execution_count": null,
   "id": "b2bd96aa-eb60-470e-82a1-7988519bd1e5",
   "metadata": {},
   "outputs": [],
   "source": [
    "from pymongo import MongoClient\n",
    "from datetime import datetime\n",
    "import json\n",
    "import gzip\n",
    "import time"
   ]
  },
  {
   "cell_type": "markdown",
   "id": "5b13c345-c168-4a06-9a24-66b3fcb382c4",
   "metadata": {},
   "source": [
    "# Data compression"
   ]
  },
  {
   "cell_type": "code",
   "execution_count": 1,
   "id": "167d6f37-3273-4f0d-a1b4-92b63dae18e0",
   "metadata": {},
   "outputs": [],
   "source": [
    "# Read json data\n",
    "json_file = \"/Users/jafarabdurrahmaan/Dropbox/00_Uni/Masterthesis/A_Thesis/1_Components/13_Benchmark_Study_Components/4_Document/MongoDB/iter2/daily_dataset_small.json\"\n",
    "with open(json_file, \"r\") as file:\n",
    "    json_data = json.load(file)\n",
    "\n",
    "gzip_file = \"daily_dataset_small.json.gz\"\n",
    "\n",
    "# Compress into gzip file\n",
    "with gzip.open(gzip_file, \"wt\", encoding=\"utf-8\") as file:\n",
    "    json.dump(json_data, file)"
   ]
  },
  {
   "cell_type": "markdown",
   "id": "f3067f0f-674f-4c94-9ed5-b7eb45a54126",
   "metadata": {},
   "source": [
    "# Create client connection"
   ]
  },
  {
   "cell_type": "code",
   "execution_count": 9,
   "id": "2824ecbd-31c6-4c28-b3ab-705f65e0239a",
   "metadata": {},
   "outputs": [],
   "source": [
    "client = MongoClient('mongodb://127.0.0.1:27017/')\n",
    "db = client['test']\n",
    "collection = db['smart-meter-benchmark_c']"
   ]
  },
  {
   "cell_type": "markdown",
   "id": "efc2b3ae-142e-4b3c-997f-6216d2339ca1",
   "metadata": {},
   "source": [
    "# Data Insertion"
   ]
  },
  {
   "cell_type": "code",
   "execution_count": 13,
   "id": "e01abaa7-b126-4207-aa74-51520a2f6cd1",
   "metadata": {},
   "outputs": [
    {
     "name": "stdout",
     "output_type": "stream",
     "text": [
      "Data insertion took: 0.09462404251098633 seconds\n"
     ]
    }
   ],
   "source": [
    "# Access the desired database and collection\n",
    "db = client.get_database(\"test\")\n",
    "collection = db.get_collection(\"smart-meter-benchmark_c\")\n",
    "\n",
    "# Start timer\n",
    "start_time = time.time()\n",
    "\n",
    "# Read file\n",
    "with gzip.open(\"/Users/jafarabdurrahmaan/Dropbox/00_Uni/Masterthesis/A_Thesis/1_Components/13_Benchmark_Study_Components/4_Document/MongoDB/iter2/daily_dataset_small.json.gz\", 'rt') as f:\n",
    "    data = json.load(f)\n",
    "\n",
    "# Specify data types\n",
    "for document in data:\n",
    "    day_str = document[\"day\"]\n",
    "    document[\"day\"] = datetime.strptime(day_str, \"%Y-%m-%d\")\n",
    "    document[\"energy_median\"] = float(document[\"energy_median\"])\n",
    "    document[\"energy_mean\"] = float(document[\"energy_mean\"])\n",
    "    document[\"energy_max\"] = float(document[\"energy_max\"])\n",
    "    document[\"energy_count\"] = int(document[\"energy_count\"])\n",
    "    document[\"energy_std\"] = float(document[\"energy_std\"])\n",
    "    document[\"energy_sum\"] = float(document[\"energy_sum\"])\n",
    "    document[\"energy_min\"] = float(document[\"energy_min\"])\n",
    "\n",
    "# End timer    \n",
    "end_time = time.time()\n",
    "\n",
    "# Calculate ingestion time\n",
    "execution_time = end_time - start_time\n",
    "    \n",
    "# Insert into collection\n",
    "collection.insert_many(data)\n",
    "\n",
    "# Print ingestion time\n",
    "print(f\"Data insertion took: {execution_time} seconds\")"
   ]
  },
  {
   "cell_type": "markdown",
   "id": "f2c3d5ae-642d-4b05-9901-43823e6f430c",
   "metadata": {},
   "source": [
    "# Simple Retrieval"
   ]
  },
  {
   "cell_type": "markdown",
   "id": "c5df9672-884d-4f83-8fca-ba03bc170cb3",
   "metadata": {},
   "source": [
    "## First Query Workload"
   ]
  },
  {
   "cell_type": "code",
   "execution_count": 21,
   "id": "98e82576-ee3f-456d-afcc-fd096105cf6b",
   "metadata": {},
   "outputs": [
    {
     "name": "stdout",
     "output_type": "stream",
     "text": [
      "energy_min: 0.064, energy_max: 0.312\n",
      "energy_min: 0.065, energy_max: 0.299\n",
      "energy_min: 0.064, energy_max: 0.7829999999999999\n",
      "energy_min: 0.066, energy_max: 1.1619999\n",
      "energy_min: 0.065, energy_max: 0.742\n",
      "Query execution time: 0.19788742065429688 milliseconds\n"
     ]
    }
   ],
   "source": [
    "# Convert to datetime\n",
    "start = datetime(2012, 6, 1)\n",
    "end = datetime(2013, 6, 1)\n",
    "\n",
    "# Specify query\n",
    "query = {\n",
    "    \"LCLid\": \"MAC000131\",\n",
    "    \"day\": {'$lt': end, '$gte': start}\n",
    "}\n",
    "\n",
    "# Start timer\n",
    "start_time = time.time()\n",
    "\n",
    "# Retrieve all documents\n",
    "result_cursor = collection.find(query, {\"energy_min\": 1, \"energy_max\": 1})\n",
    "\n",
    "# End timer\n",
    "end_time = time.time()\n",
    "\n",
    "# Calculate execution time\n",
    "execution_time = (end_time - start_time)*1000\n",
    "\n",
    "# Print values\n",
    "count = 0\n",
    "for document in result_cursor:\n",
    "    energy_min = document.get(\"energy_min\")\n",
    "    energy_max = document.get(\"energy_max\")\n",
    "    print(f\"energy_min: {energy_min}, energy_max: {energy_max}\")\n",
    "    count += 1\n",
    "    if count == 5:\n",
    "        break\n",
    "    \n",
    "# Print execution time\n",
    "print(f\"Query execution time: {execution_time} milliseconds\")"
   ]
  },
  {
   "cell_type": "markdown",
   "id": "8a686292-542e-4960-91c4-8f6cf934df93",
   "metadata": {},
   "source": [
    "## Second Query Workload"
   ]
  },
  {
   "cell_type": "code",
   "execution_count": 22,
   "id": "aec92d1c-3437-40a8-a9ae-b6887375de26",
   "metadata": {},
   "outputs": [
    {
     "name": "stdout",
     "output_type": "stream",
     "text": [
      "energy_min: 0.064, energy_max: 0.312\n",
      "energy_min: 0.065, energy_max: 0.299\n",
      "energy_min: 0.064, energy_max: 0.7829999999999999\n",
      "energy_min: 0.066, energy_max: 1.1619999\n",
      "energy_min: 0.065, energy_max: 0.742\n",
      "Query execution time: 0.18095970153808594 milliseconds\n"
     ]
    }
   ],
   "source": [
    "# Convert to datetime\n",
    "start = datetime(2012, 6, 1)\n",
    "end = datetime(2013, 6, 1)\n",
    "\n",
    "# Specify query\n",
    "query = {\n",
    "    \"LCLid\": \"MAC000131\",\n",
    "    \"day\": {'$lt': end, '$gte': start}\n",
    "}\n",
    "\n",
    "# Start timer\n",
    "start_time = time.time()\n",
    "\n",
    "# Retrieve all documents\n",
    "result_cursor = collection.find(query, {\"energy_min\": 1, \"energy_max\": 1})\n",
    "\n",
    "# End timer\n",
    "end_time = time.time()\n",
    "\n",
    "# Calculate execution time\n",
    "execution_time = (end_time - start_time)*1000\n",
    "\n",
    "# Print values\n",
    "count = 0\n",
    "for document in result_cursor:\n",
    "    energy_min = document.get(\"energy_min\")\n",
    "    energy_max = document.get(\"energy_max\")\n",
    "    print(f\"energy_min: {energy_min}, energy_max: {energy_max}\")\n",
    "    count += 1\n",
    "    if count == 5:\n",
    "        break\n",
    "    \n",
    "# Print execution time\n",
    "print(f\"Query execution time: {execution_time} milliseconds\")"
   ]
  },
  {
   "cell_type": "markdown",
   "id": "bbc2c484-0273-4c23-8f21-168a07278a72",
   "metadata": {},
   "source": [
    "## Third Query Workload"
   ]
  },
  {
   "cell_type": "code",
   "execution_count": 23,
   "id": "504fe798-6717-4fa8-92ef-dcac0d66df06",
   "metadata": {},
   "outputs": [
    {
     "name": "stdout",
     "output_type": "stream",
     "text": [
      "energy_min: 0.064, energy_max: 0.312\n",
      "energy_min: 0.065, energy_max: 0.299\n",
      "energy_min: 0.064, energy_max: 0.7829999999999999\n",
      "energy_min: 0.066, energy_max: 1.1619999\n",
      "energy_min: 0.065, energy_max: 0.742\n",
      "Query execution time: 0.15211105346679688 milliseconds\n"
     ]
    }
   ],
   "source": [
    "# Convert to datetime\n",
    "start = datetime(2012, 6, 1)\n",
    "end = datetime(2013, 6, 1)\n",
    "\n",
    "# Specify query\n",
    "query = {\n",
    "    \"LCLid\": \"MAC000131\",\n",
    "    \"day\": {'$lt': end, '$gte': start}\n",
    "}\n",
    "\n",
    "# Start timer\n",
    "start_time = time.time()\n",
    "\n",
    "# Retrieve all documents\n",
    "result_cursor = collection.find(query, {\"energy_min\": 1, \"energy_max\": 1})\n",
    "\n",
    "# End timer\n",
    "end_time = time.time()\n",
    "\n",
    "# Calculate execution time\n",
    "execution_time = (end_time - start_time)*1000\n",
    "\n",
    "# Print values\n",
    "count = 0\n",
    "for document in result_cursor:\n",
    "    energy_min = document.get(\"energy_min\")\n",
    "    energy_max = document.get(\"energy_max\")\n",
    "    print(f\"energy_min: {energy_min}, energy_max: {energy_max}\")\n",
    "    count += 1\n",
    "    if count == 5:\n",
    "        break\n",
    "    \n",
    "# Print execution time\n",
    "print(f\"Query execution time: {execution_time} milliseconds\")"
   ]
  },
  {
   "cell_type": "markdown",
   "id": "0f89b2d9-1256-47fe-bbeb-29e079d68bc6",
   "metadata": {},
   "source": [
    "## Overall Query Execution Time for Simple Retrieval"
   ]
  },
  {
   "cell_type": "code",
   "execution_count": 24,
   "id": "729af279-782a-4c64-914a-78122ca9b8cd",
   "metadata": {},
   "outputs": [
    {
     "name": "stdout",
     "output_type": "stream",
     "text": [
      "Average Query Execution Time: 0.17666666666666667 milliseconds\n"
     ]
    }
   ],
   "source": [
    "print(f\"Average Query Execution Time: {((0.2+0.18+0.15)/3)} milliseconds\")"
   ]
  },
  {
   "cell_type": "markdown",
   "id": "bfd19285-e9cd-4dec-8fda-97fdb73935bb",
   "metadata": {},
   "source": [
    "# Filter and Aggregation"
   ]
  },
  {
   "cell_type": "markdown",
   "id": "d8f69b07-6cd5-49dd-8f81-25f86bc58690",
   "metadata": {},
   "source": [
    "## First Query Workload"
   ]
  },
  {
   "cell_type": "code",
   "execution_count": 41,
   "id": "356e8333-08c7-4b9e-a92b-a848191f9f56",
   "metadata": {},
   "outputs": [
    {
     "name": "stdout",
     "output_type": "stream",
     "text": [
      "LCLid: MAC000131, Total Sum: 3691.9949997\n",
      "LCLid: MAC000132, Total Sum: 5258.8470011\n",
      "LCLid: MAC000221, Total Sum: 4917.5459997\n",
      "LCLid: MAC000228, Total Sum: 2707.6260003\n",
      "LCLid: MAC000234, Total Sum: 4213.725\n",
      "LCLid: MAC000235, Total Sum: 1528.1550001\n",
      "Query execution time: 13.033866882324219 milliseconds\n"
     ]
    }
   ],
   "source": [
    "# Convert to datetime\n",
    "start = datetime(2012, 6, 1)\n",
    "end = datetime(2013, 6, 2)\n",
    "\n",
    "# Specify query\n",
    "pipeline = [\n",
    "    {\n",
    "        '$match': {\n",
    "            'day': {'$lt': end, '$gte': start}\n",
    "        }\n",
    "    },\n",
    "    {\n",
    "        '$group': {\n",
    "            '_id': '$LCLid',\n",
    "            'totalSum': {\n",
    "                '$sum': '$energy_sum'\n",
    "            }\n",
    "        }\n",
    "    },\n",
    "    {\n",
    "        '$sort': {\n",
    "            '_id': 1\n",
    "        }\n",
    "    }\n",
    "]\n",
    "\n",
    "# Start timer\n",
    "start_time = time.time()\n",
    "\n",
    "# Execute query\n",
    "results = collection.aggregate(pipeline)\n",
    "\n",
    "# End timer\n",
    "end_time = time.time()\n",
    "\n",
    "# Calculate eecution time\n",
    "execution_time = (end_time - start_time) * 1000\n",
    "\n",
    "# Print results\n",
    "for result in results:\n",
    "    LCLid = result['_id']\n",
    "    totalSum = result['totalSum']\n",
    "    print(f\"LCLid: {LCLid}, Total Sum: {totalSum}\")\n",
    "\n",
    "# Print query execution time\n",
    "print(f\"Query execution time: {execution_time} milliseconds\")"
   ]
  },
  {
   "cell_type": "markdown",
   "id": "709b6a16-8cea-4c81-9b6b-53c663d5b621",
   "metadata": {},
   "source": [
    "## Second Query Workload"
   ]
  },
  {
   "cell_type": "code",
   "execution_count": 49,
   "id": "ca233b9b-b3b8-425b-98e0-412ba601022f",
   "metadata": {},
   "outputs": [
    {
     "name": "stdout",
     "output_type": "stream",
     "text": [
      "LCLid: MAC000131, Total Sum: 3691.9949997\n",
      "LCLid: MAC000132, Total Sum: 5258.8470011\n",
      "LCLid: MAC000221, Total Sum: 4917.5459997\n",
      "LCLid: MAC000228, Total Sum: 2707.6260003\n",
      "LCLid: MAC000234, Total Sum: 4213.725\n",
      "LCLid: MAC000235, Total Sum: 1528.1550001\n",
      "Query execution time: 8.449077606201172 milliseconds\n"
     ]
    }
   ],
   "source": [
    "# Convert to datetime\n",
    "start = datetime(2012, 6, 1)\n",
    "end = datetime(2013, 6, 2)\n",
    "\n",
    "# Specify query\n",
    "pipeline = [\n",
    "    {\n",
    "        '$match': {\n",
    "            'day': {'$lt': end, '$gte': start}\n",
    "        }\n",
    "    },\n",
    "    {\n",
    "        '$group': {\n",
    "            '_id': '$LCLid',\n",
    "            'totalSum': {\n",
    "                '$sum': '$energy_sum'\n",
    "            }\n",
    "        }\n",
    "    },\n",
    "    {\n",
    "        '$sort': {\n",
    "            '_id': 1\n",
    "        }\n",
    "    }\n",
    "]\n",
    "\n",
    "# Start timer\n",
    "start_time = time.time()\n",
    "\n",
    "# Execute query\n",
    "results = collection.aggregate(pipeline)\n",
    "\n",
    "# End timer\n",
    "end_time = time.time()\n",
    "\n",
    "# Calculate eecution time\n",
    "execution_time = (end_time - start_time) * 1000\n",
    "\n",
    "# Print results\n",
    "for result in results:\n",
    "    LCLid = result['_id']\n",
    "    totalSum = result['totalSum']\n",
    "    print(f\"LCLid: {LCLid}, Total Sum: {totalSum}\")\n",
    "\n",
    "# Print query execution time\n",
    "print(f\"Query execution time: {execution_time} milliseconds\")"
   ]
  },
  {
   "cell_type": "markdown",
   "id": "692d58c5-7782-41ea-9634-4db897e00f19",
   "metadata": {},
   "source": [
    "## Third Query Workload"
   ]
  },
  {
   "cell_type": "code",
   "execution_count": 54,
   "id": "889fb02d-a20f-4b97-bdc9-c2a3042eb303",
   "metadata": {},
   "outputs": [
    {
     "name": "stdout",
     "output_type": "stream",
     "text": [
      "LCLid: MAC000131, Total Sum: 3691.9949997\n",
      "LCLid: MAC000132, Total Sum: 5258.8470011\n",
      "LCLid: MAC000221, Total Sum: 4917.5459997\n",
      "LCLid: MAC000228, Total Sum: 2707.6260003\n",
      "LCLid: MAC000234, Total Sum: 4213.725\n",
      "LCLid: MAC000235, Total Sum: 1528.1550001\n",
      "Query execution time: 9.007930755615234 milliseconds\n"
     ]
    }
   ],
   "source": [
    "# Convert to datetime\n",
    "start = datetime(2012, 6, 1)\n",
    "end = datetime(2013, 6, 2)\n",
    "\n",
    "# Specify query\n",
    "pipeline = [\n",
    "    {\n",
    "        '$match': {\n",
    "            'day': {'$lt': end, '$gte': start}\n",
    "        }\n",
    "    },\n",
    "    {\n",
    "        '$group': {\n",
    "            '_id': '$LCLid',\n",
    "            'totalSum': {\n",
    "                '$sum': '$energy_sum'\n",
    "            }\n",
    "        }\n",
    "    },\n",
    "    {\n",
    "        '$sort': {\n",
    "            '_id': 1\n",
    "        }\n",
    "    }\n",
    "]\n",
    "\n",
    "# Start timer\n",
    "start_time = time.time()\n",
    "\n",
    "# Execute query\n",
    "results = collection.aggregate(pipeline)\n",
    "\n",
    "# End timer\n",
    "end_time = time.time()\n",
    "\n",
    "# Calculate eecution time\n",
    "execution_time = (end_time - start_time) * 1000\n",
    "\n",
    "# Print results\n",
    "for result in results:\n",
    "    LCLid = result['_id']\n",
    "    totalSum = result['totalSum']\n",
    "    print(f\"LCLid: {LCLid}, Total Sum: {totalSum}\")\n",
    "\n",
    "# Print query execution time\n",
    "print(f\"Query execution time: {execution_time} milliseconds\")"
   ]
  },
  {
   "cell_type": "markdown",
   "id": "86794283-9d59-4f43-aaeb-e6ab7b81a5cc",
   "metadata": {},
   "source": [
    "## Overall Query Execution Time for Filter and Aggregation"
   ]
  },
  {
   "cell_type": "code",
   "execution_count": 55,
   "id": "318fe751-aa69-4a65-9ebe-a9c0c970ef42",
   "metadata": {},
   "outputs": [
    {
     "name": "stdout",
     "output_type": "stream",
     "text": [
      "Average Query Execution Time: 10.15 milliseconds\n"
     ]
    }
   ],
   "source": [
    "print(f\"Average Query Execution Time: {((13+8.45+9)/3)} milliseconds\")"
   ]
  },
  {
   "cell_type": "markdown",
   "id": "cc250ec9-ee4a-4b84-8e32-1c6211877654",
   "metadata": {},
   "source": [
    "# Metadata"
   ]
  },
  {
   "cell_type": "code",
   "execution_count": 56,
   "id": "1585a419-6d99-4a58-87e3-2ecaad9b6fd8",
   "metadata": {},
   "outputs": [
    {
     "name": "stdout",
     "output_type": "stream",
     "text": [
      "Namespace of collection: test.smart-meter-benchmark_c\n",
      "Total size of collection in bytes: 964458\n",
      "Number of documents: 4871\n",
      "Average size of an object: 198\n",
      "Storage size of collection in bytes: 348160\n"
     ]
    }
   ],
   "source": [
    "# Build the collStats command\n",
    "command = {\"collStats\": collection.name}\n",
    "\n",
    "# Execute the command on the database\n",
    "stats = db.command(command)\n",
    "\n",
    "# Print some statistics\n",
    "print(\"Namespace of collection:\", stats[\"ns\"])\n",
    "print(\"Total size of collection in bytes:\", stats[\"size\"])\n",
    "print(\"Number of documents:\", stats[\"count\"])\n",
    "print(\"Average size of an object:\", stats[\"avgObjSize\"])\n",
    "print(\"Storage size of collection in bytes:\", stats[\"storageSize\"])"
   ]
  }
 ],
 "metadata": {
  "kernelspec": {
   "display_name": "Python 3 (ipykernel)",
   "language": "python",
   "name": "python3"
  },
  "language_info": {
   "codemirror_mode": {
    "name": "ipython",
    "version": 3
   },
   "file_extension": ".py",
   "mimetype": "text/x-python",
   "name": "python",
   "nbconvert_exporter": "python",
   "pygments_lexer": "ipython3",
   "version": "3.9.7"
  }
 },
 "nbformat": 4,
 "nbformat_minor": 5
}
