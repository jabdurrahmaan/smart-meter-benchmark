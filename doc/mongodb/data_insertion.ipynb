{
 "cells": [
  {
   "cell_type": "markdown",
   "id": "8f191857-1312-4cd0-a912-d96c92463b72",
   "metadata": {},
   "source": [
    "# Import libraries"
   ]
  },
  {
   "cell_type": "code",
   "execution_count": 1,
   "id": "167d6f37-3273-4f0d-a1b4-92b63dae18e0",
   "metadata": {},
   "outputs": [
    {
     "name": "stdout",
     "output_type": "stream",
     "text": [
      "Collecting pymongo\n",
      "  Downloading pymongo-4.4.0-cp39-cp39-macosx_10_9_universal2.whl (512 kB)\n",
      "\u001b[K     |████████████████████████████████| 512 kB 2.6 MB/s eta 0:00:01\n",
      "\u001b[?25hCollecting dnspython<3.0.0,>=1.16.0\n",
      "  Downloading dnspython-2.3.0-py3-none-any.whl (283 kB)\n",
      "\u001b[K     |████████████████████████████████| 283 kB 10.5 MB/s eta 0:00:01\n",
      "\u001b[?25hInstalling collected packages: dnspython, pymongo\n",
      "Successfully installed dnspython-2.3.0 pymongo-4.4.0\n"
     ]
    }
   ],
   "source": [
    "!pip install pymongo\n",
    "from pymongo import MongoClient\n",
    "from datetime import datetime\n",
    "import json"
   ]
  },
  {
   "cell_type": "markdown",
   "id": "b954d84b-4950-4cd8-a435-e08404262d21",
   "metadata": {},
   "source": [
    "# Create client connection"
   ]
  },
  {
   "cell_type": "code",
   "execution_count": 38,
   "id": "2824ecbd-31c6-4c28-b3ab-705f65e0239a",
   "metadata": {},
   "outputs": [],
   "source": [
    "client = MongoClient('mongodb://127.0.0.1:27017/')\n",
    "db = client.get_database(\"test\")\n",
    "collection = db.get_collection(\"smart-meter-benchmark\")"
   ]
  },
  {
   "cell_type": "markdown",
   "id": "efc2b3ae-142e-4b3c-997f-6216d2339ca1",
   "metadata": {},
   "source": [
    "# Data Insertion"
   ]
  },
  {
   "cell_type": "code",
   "execution_count": 164,
   "id": "e01abaa7-b126-4207-aa74-51520a2f6cd1",
   "metadata": {},
   "outputs": [
    {
     "name": "stdout",
     "output_type": "stream",
     "text": [
      "Data insertion took: 0.5875246524810791 seconds\n"
     ]
    }
   ],
   "source": [
    "# Start timer\n",
    "start_time = time.time()\n",
    "\n",
    "# Read JSON file\n",
    "with open(\"/Users/jafarabdurrahmaan/Dropbox/00_Uni/Masterthesis/A_Thesis/1_Components/13_Benchmark_Study_Components/4_Document/MongoDB/iter2/daily_dataset_small.json\") as f:\n",
    "    data = json.load(f)\n",
    "\n",
    "# Convert \"day\" values to datetime objects\n",
    "for document in data:\n",
    "    day_str = document[\"day\"]\n",
    "    document[\"day\"] = datetime.strptime(day_str, \"%Y-%m-%d\")\n",
    "    document[\"energy_median\"] = float(document[\"energy_median\"])\n",
    "    document[\"energy_mean\"] = float(document[\"energy_mean\"])\n",
    "    document[\"energy_max\"] = float(document[\"energy_max\"])\n",
    "    document[\"energy_count\"] = int(document[\"energy_count\"])\n",
    "    document[\"energy_std\"] = float(document[\"energy_std\"])\n",
    "    document[\"energy_sum\"] = float(document[\"energy_sum\"])\n",
    "    document[\"energy_min\"] = float(document[\"energy_min\"])\n",
    "    \n",
    "# Insert data\n",
    "collection.insert_many(data)\n",
    "\n",
    "# End timer    \n",
    "end_time = time.time()\n",
    "\n",
    "# Measure execution time\n",
    "execution_time = (end_time - start_time)\n",
    "\n",
    "# Print ingestion time\n",
    "print(f\"Data insertion took: {execution_time} seconds\")"
   ]
  }
 ],
 "metadata": {
  "kernelspec": {
   "display_name": "Python 3 (ipykernel)",
   "language": "python",
   "name": "python3"
  },
  "language_info": {
   "codemirror_mode": {
    "name": "ipython",
    "version": 3
   },
   "file_extension": ".py",
   "mimetype": "text/x-python",
   "name": "python",
   "nbconvert_exporter": "python",
   "pygments_lexer": "ipython3",
   "version": "3.9.7"
  }
 },
 "nbformat": 4,
 "nbformat_minor": 5
}
