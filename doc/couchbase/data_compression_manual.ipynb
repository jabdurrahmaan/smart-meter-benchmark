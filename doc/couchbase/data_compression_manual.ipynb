{
 "cells": [
  {
   "cell_type": "code",
   "execution_count": 1,
   "id": "e422f3ac-f1a2-4215-97db-07dc1333b6bb",
   "metadata": {},
   "outputs": [],
   "source": [
    "import os\n",
    "os.environ['CONDA_DEFAULT_ENV'] = '/Users/jafarabdurrahmaan/opt/anaconda3/envs/venv'"
   ]
  },
  {
   "cell_type": "code",
   "execution_count": 2,
   "id": "d08f1211-6194-43ae-8d47-c04864537ac9",
   "metadata": {},
   "outputs": [
    {
     "name": "stdout",
     "output_type": "stream",
     "text": [
      "\n",
      "CommandNotFoundError: Your shell has not been properly configured to use 'conda activate'.\n",
      "To initialize your shell, run\n",
      "\n",
      "    $ conda init <SHELL_NAME>\n",
      "\n",
      "Currently supported shells are:\n",
      "  - bash\n",
      "  - fish\n",
      "  - tcsh\n",
      "  - xonsh\n",
      "  - zsh\n",
      "  - powershell\n",
      "\n",
      "See 'conda init --help' for more information and options.\n",
      "\n",
      "IMPORTANT: You may need to close and restart your shell after running 'conda init'.\n",
      "\n",
      "\n"
     ]
    }
   ],
   "source": [
    "!conda activate venv"
   ]
  },
  {
   "cell_type": "code",
   "execution_count": 3,
   "id": "7a3a461b-fe43-4ef9-a275-68fbc423b2f5",
   "metadata": {},
   "outputs": [
    {
     "name": "stdout",
     "output_type": "stream",
     "text": [
      "\n",
      "     active environment : None\n",
      "       user config file : /Users/jafarabdurrahmaan/.condarc\n",
      " populated config files : /Users/jafarabdurrahmaan/.condarc\n",
      "          conda version : 4.10.3\n",
      "    conda-build version : 3.21.5\n",
      "         python version : 3.9.7.final.0\n",
      "       virtual packages : __osx=10.16=0\n",
      "                          __unix=0=0\n",
      "                          __archspec=1=x86_64\n",
      "       base environment : /Users/jafarabdurrahmaan/opt/anaconda3  (writable)\n",
      "      conda av data dir : /Users/jafarabdurrahmaan/opt/anaconda3/etc/conda\n",
      "  conda av metadata url : None\n",
      "           channel URLs : https://conda.anaconda.org/conda-forge/osx-64\n",
      "                          https://conda.anaconda.org/conda-forge/noarch\n",
      "                          https://repo.anaconda.com/pkgs/main/osx-64\n",
      "                          https://repo.anaconda.com/pkgs/main/noarch\n",
      "                          https://repo.anaconda.com/pkgs/r/osx-64\n",
      "                          https://repo.anaconda.com/pkgs/r/noarch\n",
      "          package cache : /Users/jafarabdurrahmaan/opt/anaconda3/pkgs\n",
      "                          /Users/jafarabdurrahmaan/.conda/pkgs\n",
      "       envs directories : /Users/jafarabdurrahmaan/opt/anaconda3/envs\n",
      "                          /Users/jafarabdurrahmaan/.conda/envs\n",
      "               platform : osx-64\n",
      "             user-agent : conda/4.10.3 requests/2.26.0 CPython/3.9.7 Darwin/21.3.0 OSX/10.16\n",
      "                UID:GID : 0:0\n",
      "             netrc file : None\n",
      "           offline mode : False\n",
      "\n"
     ]
    }
   ],
   "source": [
    "!conda info"
   ]
  },
  {
   "cell_type": "code",
   "execution_count": 4,
   "id": "7d41631a-55a2-4013-996b-fe0027d2c046",
   "metadata": {},
   "outputs": [
    {
     "name": "stdout",
     "output_type": "stream",
     "text": [
      "\u001b[33mWARNING: The directory '/Users/jafarabdurrahmaan/Library/Caches/pip' or its parent directory is not owned or is not writable by the current user. The cache has been disabled. Check the permissions and owner of that directory. If executing pip with sudo, you should use sudo's -H flag.\u001b[0m\u001b[33m\n",
      "\u001b[0mRequirement already satisfied: couchbase in /Users/jafarabdurrahmaan/opt/anaconda3/envs/venv/lib/python3.11/site-packages (4.1.5)\n",
      "\u001b[33mWARNING: Running pip as the 'root' user can result in broken permissions and conflicting behaviour with the system package manager. It is recommended to use a virtual environment instead: https://pip.pypa.io/warnings/venv\u001b[0m\u001b[33m\n",
      "\u001b[0m"
     ]
    }
   ],
   "source": [
    "!pip install couchbase"
   ]
  },
  {
   "cell_type": "code",
   "execution_count": 5,
   "id": "c77205c3-ad35-4488-8608-f167080a0143",
   "metadata": {},
   "outputs": [],
   "source": [
    "import couchbase"
   ]
  },
  {
   "cell_type": "markdown",
   "id": "793dfbbc-83f5-4b46-8f4c-134abe201343",
   "metadata": {},
   "source": [
    "Insert data"
   ]
  },
  {
   "cell_type": "code",
   "execution_count": 6,
   "id": "3cd25135-b82e-47fc-b935-e5bbe656eb2e",
   "metadata": {},
   "outputs": [],
   "source": [
    "from couchbase.cluster import Cluster, ClusterOptions\n",
    "from couchbase.auth import PasswordAuthenticator\n",
    "from couchbase.options import ClusterOptions\n",
    "from datetime import datetime\n",
    "import gzip\n",
    "import json\n",
    "import time\n",
    "\n",
    "# Connect to the Couchbase cluster\n",
    "cluster = Cluster('couchbase://localhost', ClusterOptions(\n",
    "    authenticator=PasswordAuthenticator('smartmeterbenchmark', 'smartmeterbenchmark')\n",
    "))\n",
    "bucket = cluster.bucket(\"smartmeterbenchmark_c\")\n",
    "collection = bucket.default_collection()\n",
    "\n",
    "# Open the bucket\n",
    "\n",
    "# Get all document keys\n",
    "result = cluster.query('SELECT META().id AS id FROM smartmeterbenchmark_c')\n",
    "keys = [row['id'] for row in result]\n",
    "\n",
    "# Delete each document by key\n",
    "for key in keys:\n",
    "    collection.remove(key)"
   ]
  },
  {
   "cell_type": "code",
   "execution_count": 7,
   "id": "f4c41b17-7ef1-4114-bb8b-16e886ecac5d",
   "metadata": {},
   "outputs": [
    {
     "name": "stdout",
     "output_type": "stream",
     "text": [
      "Data inserted successfully.\n",
      "Data insertion took: 10.043436050415039 seconds.\n"
     ]
    }
   ],
   "source": [
    "from couchbase.cluster import Cluster, ClusterOptions\n",
    "from couchbase.auth import PasswordAuthenticator\n",
    "from couchbase.options import ClusterOptions\n",
    "from datetime import datetime\n",
    "import gzip\n",
    "import json\n",
    "import time\n",
    "\n",
    "# Connect to cluster\n",
    "cluster = Cluster.connect(\n",
    "    \"couchbase://localhost\",\n",
    "    ClusterOptions(PasswordAuthenticator(\"smartmeterbenchmark\", \"smartmeterbenchmark\")))\n",
    "\n",
    "# Access bucket and collection\n",
    "bucket = cluster.bucket(\"smartmeterbenchmark_c\")\n",
    "collection = bucket.default_collection()\n",
    "\n",
    "# Read JSON file\n",
    "with open(\"/Users/jafarabdurrahmaan/Dropbox/00_Uni/Masterthesis/A_Thesis/1_Components/13_Benchmark_Study_Components/4_Document/Couchbase/iter2/daily_dataset_small.json\") as f:\n",
    "    data = json.load(f)\n",
    "\n",
    "# Start timer\n",
    "start_time = time.time()\n",
    "\n",
    "# Insert each document into collection\n",
    "for document in data:\n",
    "    document[\"LCLid\"] = str(document[\"LCLid\"])\n",
    "    document[\"day\"] = datetime.strptime(document[\"day\"], \"%Y-%m-%d\").strftime(\"%Y-%m-%d\")\n",
    "    document[\"energy_median\"] = float(document[\"energy_median\"])\n",
    "    document[\"energy_mean\"] = float(document[\"energy_mean\"])\n",
    "    document[\"energy_max\"] = float(document[\"energy_max\"])\n",
    "    document[\"energy_count\"] = int(document[\"energy_count\"])\n",
    "    document[\"energy_std\"] = float(document[\"energy_std\"])\n",
    "    document[\"energy_sum\"] = float(document[\"energy_sum\"])\n",
    "    document[\"energy_min\"] = float(document[\"energy_min\"])\n",
    "\n",
    "    collection.insert(str(document[\"id\"]), document)\n",
    "\n",
    "# End timer\n",
    "end_time = time.time()\n",
    "\n",
    "# Calculate execution time\n",
    "execution_time = end_time - start_time\n",
    "\n",
    "print(\"Data inserted successfully.\")\n",
    "print(f\"Data insertion took: {execution_time} seconds.\")"
   ]
  },
  {
   "cell_type": "code",
   "execution_count": null,
   "id": "dde38ee3-63c8-4e35-b4d4-66f32a1e75c8",
   "metadata": {},
   "outputs": [],
   "source": [
    "#Create index first before using N1QL query\n",
    "from couchbase.exceptions import CouchbaseException\n",
    "\n",
    "try:\n",
    "    cluster.query_indexes().create_primary_index('smartmeterbenchmark_c')\n",
    "\n",
    "except CouchbaseException as ex:\n",
    "    import traceback\n",
    "    traceback.print_exc()"
   ]
  },
  {
   "cell_type": "markdown",
   "id": "e83eb14f-07fd-40f6-a0ee-a044d21831c5",
   "metadata": {},
   "source": [
    "Simple Retrieval 1"
   ]
  },
  {
   "cell_type": "code",
   "execution_count": 12,
   "id": "200d6b0d-1fc4-49fd-9ab7-1855a44a13a1",
   "metadata": {
    "scrolled": true
   },
   "outputs": [
    {
     "name": "stdout",
     "output_type": "stream",
     "text": [
      "energy_min: 0.064, energy_max: 0.312\n",
      "energy_min: 0.065, energy_max: 0.299\n",
      "energy_min: 0.064, energy_max: 0.7829999999999999\n",
      "energy_min: 0.066, energy_max: 1.1619999\n",
      "energy_min: 0.065, energy_max: 0.742\n",
      "Query execution time: 0.14591217041015625 milliseconds\n"
     ]
    }
   ],
   "source": [
    "# Define the N1QL query\n",
    "query = f\"SELECT energy_min, energy_max FROM `smartmeterbenchmark_c` WHERE LCLid = 'MAC000131' AND day >= '2012-06-01' AND day <= '2013-06-01' LIMIT 5\"\n",
    "\n",
    "start_time = time.time()\n",
    "\n",
    "# Execute the query\n",
    "result = cluster.query(query)\n",
    "\n",
    "end_time = time.time()\n",
    "execution_time = (end_time - start_time)*1000\n",
    "\n",
    "# Process the query results\n",
    "for row in result:\n",
    "    energy_min = row[\"energy_min\"]\n",
    "    energy_max = row[\"energy_max\"]\n",
    "    print(f\"energy_min: {energy_min}, energy_max: {energy_max}\")\n",
    "\n",
    "print(f\"Query execution time: {execution_time} milliseconds\")"
   ]
  },
  {
   "cell_type": "markdown",
   "id": "4111c982-756f-40e4-901e-01a6e2171a1d",
   "metadata": {},
   "source": [
    "Simple Retrieval 2"
   ]
  },
  {
   "cell_type": "code",
   "execution_count": 13,
   "id": "03ef6b34-85a6-4b83-9e80-ee9c94f740db",
   "metadata": {
    "scrolled": true
   },
   "outputs": [
    {
     "name": "stdout",
     "output_type": "stream",
     "text": [
      "energy_min: 0.064, energy_max: 0.312\n",
      "energy_min: 0.065, energy_max: 0.299\n",
      "energy_min: 0.064, energy_max: 0.7829999999999999\n",
      "energy_min: 0.066, energy_max: 1.1619999\n",
      "energy_min: 0.065, energy_max: 0.742\n",
      "Query execution time: 0.148773193359375 milliseconds\n"
     ]
    }
   ],
   "source": [
    "# Define the N1QL query\n",
    "query = f\"SELECT energy_min, energy_max FROM `smartmeterbenchmark_c` WHERE LCLid = 'MAC000131' AND day >= '2012-06-01' AND day <= '2013-06-01' LIMIT 5\"\n",
    "\n",
    "start_time = time.time()\n",
    "\n",
    "# Execute the query\n",
    "result = cluster.query(query)\n",
    "\n",
    "end_time = time.time()\n",
    "execution_time = (end_time - start_time)*1000\n",
    "\n",
    "# Process the query results\n",
    "for row in result:\n",
    "    energy_min = row[\"energy_min\"]\n",
    "    energy_max = row[\"energy_max\"]\n",
    "    print(f\"energy_min: {energy_min}, energy_max: {energy_max}\")\n",
    "\n",
    "print(f\"Query execution time: {execution_time} milliseconds\")"
   ]
  },
  {
   "cell_type": "markdown",
   "id": "75b1b4ef-5709-4a6e-80e1-6f82ebcdbcc2",
   "metadata": {},
   "source": [
    "Simple Retrieval 3"
   ]
  },
  {
   "cell_type": "code",
   "execution_count": 14,
   "id": "b6bcad76-e45a-4bc3-9d5b-00c7990825d0",
   "metadata": {},
   "outputs": [
    {
     "name": "stdout",
     "output_type": "stream",
     "text": [
      "energy_min: 0.064, energy_max: 0.312\n",
      "energy_min: 0.065, energy_max: 0.299\n",
      "energy_min: 0.064, energy_max: 0.7829999999999999\n",
      "energy_min: 0.066, energy_max: 1.1619999\n",
      "energy_min: 0.065, energy_max: 0.742\n",
      "Query execution time: 0.16307830810546875 milliseconds\n"
     ]
    }
   ],
   "source": [
    "# Define the N1QL query\n",
    "query = f\"SELECT energy_min, energy_max FROM `smartmeterbenchmark_c` WHERE LCLid = 'MAC000131' AND day >= '2012-06-01' AND day <= '2013-06-01' LIMIT 5\"\n",
    "\n",
    "start_time = time.time()\n",
    "\n",
    "# Execute the query\n",
    "result = cluster.query(query)\n",
    "\n",
    "end_time = time.time()\n",
    "execution_time = (end_time - start_time)*1000\n",
    "\n",
    "# Process the query results\n",
    "for row in result:\n",
    "    energy_min = row[\"energy_min\"]\n",
    "    energy_max = row[\"energy_max\"]\n",
    "    print(f\"energy_min: {energy_min}, energy_max: {energy_max}\")\n",
    "\n",
    "print(f\"Query execution time: {execution_time} milliseconds\")"
   ]
  },
  {
   "cell_type": "code",
   "execution_count": 16,
   "id": "2f7988b6-ec14-46fe-99cd-a33facb84a9a",
   "metadata": {
    "scrolled": true
   },
   "outputs": [
    {
     "name": "stdout",
     "output_type": "stream",
     "text": [
      "Average Query Execution Time: 0.15333333333333332 milliseconds\n"
     ]
    }
   ],
   "source": [
    "print(f\"Average Query Execution Time: {((0.15+0.15+0.16)/3)} milliseconds\")"
   ]
  },
  {
   "cell_type": "markdown",
   "id": "79a4e64d-c162-4e7b-95dc-e46552b38747",
   "metadata": {},
   "source": [
    "Filter and Aggregation 1"
   ]
  },
  {
   "cell_type": "code",
   "execution_count": 23,
   "id": "7c1d38a5-4d5b-4247-ab0b-0139506710f2",
   "metadata": {
    "scrolled": true
   },
   "outputs": [
    {
     "name": "stdout",
     "output_type": "stream",
     "text": [
      "LCLid: MAC000131, Sum of energy_sum: 3691.994999699999\n",
      "LCLid: MAC000132, Sum of energy_sum: 5258.847001099997\n",
      "LCLid: MAC000221, Sum of energy_sum: 4917.545999700001\n",
      "LCLid: MAC000228, Sum of energy_sum: 2707.6260002999993\n",
      "LCLid: MAC000234, Sum of energy_sum: 4213.725000000001\n",
      "LCLid: MAC000235, Sum of energy_sum: 1528.1550000999991\n",
      "Query execution time: 0.13589859008789062 milliseconds\n"
     ]
    }
   ],
   "source": [
    "# Define the N1QL query\n",
    "query = f\"SELECT LCLid, SUM(energy_sum) AS energy_sum FROM `smartmeterbenchmark_c` WHERE day >= '2012-06-01' AND day <= '2013-06-01' GROUP BY LCLid ORDER BY LCLid\"\n",
    "\n",
    "start_time = time.time()\n",
    "\n",
    "# Execute the query\n",
    "result = cluster.query(query)\n",
    "\n",
    "end_time = time.time()\n",
    "execution_time = (end_time - start_time)*1000\n",
    "\n",
    "# Process the query results\n",
    "for row in result:\n",
    "    LCLid = row[\"LCLid\"]\n",
    "    energy_sum = row[\"energy_sum\"]\n",
    "    print(f\"LCLid: {LCLid}, Sum of energy_sum: {energy_sum}\")\n",
    "\n",
    "print(f\"Query execution time: {execution_time} milliseconds\")"
   ]
  },
  {
   "cell_type": "markdown",
   "id": "7cd8b2b4-84fb-455a-a9c5-9849808d7a77",
   "metadata": {},
   "source": [
    "Filter and Aggregation 2"
   ]
  },
  {
   "cell_type": "code",
   "execution_count": 24,
   "id": "74eacf92-9b66-4656-9e7c-02ff62b8fc90",
   "metadata": {
    "scrolled": true
   },
   "outputs": [
    {
     "name": "stdout",
     "output_type": "stream",
     "text": [
      "LCLid: MAC000131, Sum of energy_sum: 3691.994999699999\n",
      "LCLid: MAC000132, Sum of energy_sum: 5258.847001099997\n",
      "LCLid: MAC000221, Sum of energy_sum: 4917.545999700001\n",
      "LCLid: MAC000228, Sum of energy_sum: 2707.6260002999993\n",
      "LCLid: MAC000234, Sum of energy_sum: 4213.725000000001\n",
      "LCLid: MAC000235, Sum of energy_sum: 1528.1550000999991\n",
      "Query execution time: 0.1518726348876953 milliseconds\n"
     ]
    }
   ],
   "source": [
    "# Define the N1QL query\n",
    "query = f\"SELECT LCLid, SUM(energy_sum) AS energy_sum FROM `smartmeterbenchmark_c` WHERE day >= '2012-06-01' AND day <= '2013-06-01' GROUP BY LCLid ORDER BY LCLid\"\n",
    "\n",
    "start_time = time.time()\n",
    "\n",
    "# Execute the query\n",
    "result = cluster.query(query)\n",
    "\n",
    "end_time = time.time()\n",
    "execution_time = (end_time - start_time)*1000\n",
    "\n",
    "# Process the query results\n",
    "for row in result:\n",
    "    LCLid = row[\"LCLid\"]\n",
    "    energy_sum = row[\"energy_sum\"]\n",
    "    print(f\"LCLid: {LCLid}, Sum of energy_sum: {energy_sum}\")\n",
    "\n",
    "print(f\"Query execution time: {execution_time} milliseconds\")"
   ]
  },
  {
   "cell_type": "markdown",
   "id": "e875bfd4-4e43-4795-b2fb-a15f4c6e9fe6",
   "metadata": {},
   "source": [
    "Filter and Aggregation 3"
   ]
  },
  {
   "cell_type": "code",
   "execution_count": 25,
   "id": "2f499c83-4c57-4b4a-b165-14f46cc101ef",
   "metadata": {
    "scrolled": true
   },
   "outputs": [
    {
     "name": "stdout",
     "output_type": "stream",
     "text": [
      "LCLid: MAC000131, Sum of energy_sum: 3691.994999699999\n",
      "LCLid: MAC000132, Sum of energy_sum: 5258.847001099997\n",
      "LCLid: MAC000221, Sum of energy_sum: 4917.545999700001\n",
      "LCLid: MAC000228, Sum of energy_sum: 2707.6260002999993\n",
      "LCLid: MAC000234, Sum of energy_sum: 4213.725000000001\n",
      "LCLid: MAC000235, Sum of energy_sum: 1528.1550000999991\n",
      "Query execution time: 0.13303756713867188 milliseconds\n"
     ]
    }
   ],
   "source": [
    "# Define the N1QL query\n",
    "query = f\"SELECT LCLid, SUM(energy_sum) AS energy_sum FROM `smartmeterbenchmark_c` WHERE day >= '2012-06-01' AND day <= '2013-06-01' GROUP BY LCLid ORDER BY LCLid\"\n",
    "\n",
    "start_time = time.time()\n",
    "\n",
    "# Execute the query\n",
    "result = cluster.query(query)\n",
    "\n",
    "end_time = time.time()\n",
    "execution_time = (end_time - start_time)*1000\n",
    "\n",
    "# Process the query results\n",
    "for row in result:\n",
    "    LCLid = row[\"LCLid\"]\n",
    "    energy_sum = row[\"energy_sum\"]\n",
    "    print(f\"LCLid: {LCLid}, Sum of energy_sum: {energy_sum}\")\n",
    "\n",
    "print(f\"Query execution time: {execution_time} milliseconds\")"
   ]
  },
  {
   "cell_type": "code",
   "execution_count": 27,
   "id": "e6355116-8574-4fe5-9ff3-1ff019c13b22",
   "metadata": {},
   "outputs": [
    {
     "name": "stdout",
     "output_type": "stream",
     "text": [
      "Average Query Execution Time: 0.14 milliseconds\n"
     ]
    }
   ],
   "source": [
    "print(f\"Average Query Execution Time: {((0.14+0.15+0.13)/3)} milliseconds\")"
   ]
  }
 ],
 "metadata": {
  "kernelspec": {
   "display_name": "Python 3 (ipykernel)",
   "language": "python",
   "name": "python3"
  },
  "language_info": {
   "codemirror_mode": {
    "name": "ipython",
    "version": 3
   },
   "file_extension": ".py",
   "mimetype": "text/x-python",
   "name": "python",
   "nbconvert_exporter": "python",
   "pygments_lexer": "ipython3",
   "version": "3.11.4"
  }
 },
 "nbformat": 4,
 "nbformat_minor": 5
}
