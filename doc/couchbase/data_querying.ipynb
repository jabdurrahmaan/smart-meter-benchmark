{
 "cells": [
  {
   "cell_type": "markdown",
   "id": "3eaaa828-e67c-4897-87a4-74d63bba390d",
   "metadata": {},
   "source": [
    "# Activate virtual environment"
   ]
  },
  {
   "cell_type": "code",
   "execution_count": 1,
   "id": "e422f3ac-f1a2-4215-97db-07dc1333b6bb",
   "metadata": {},
   "outputs": [],
   "source": [
    "import os\n",
    "os.environ['CONDA_DEFAULT_ENV'] = '/Users/jafarabdurrahmaan/opt/anaconda3/envs/venv'"
   ]
  },
  {
   "cell_type": "code",
   "execution_count": 2,
   "id": "d08f1211-6194-43ae-8d47-c04864537ac9",
   "metadata": {},
   "outputs": [
    {
     "name": "stdout",
     "output_type": "stream",
     "text": [
      "\n",
      "CommandNotFoundError: Your shell has not been properly configured to use 'conda activate'.\n",
      "To initialize your shell, run\n",
      "\n",
      "    $ conda init <SHELL_NAME>\n",
      "\n",
      "Currently supported shells are:\n",
      "  - bash\n",
      "  - fish\n",
      "  - tcsh\n",
      "  - xonsh\n",
      "  - zsh\n",
      "  - powershell\n",
      "\n",
      "See 'conda init --help' for more information and options.\n",
      "\n",
      "IMPORTANT: You may need to close and restart your shell after running 'conda init'.\n",
      "\n",
      "\n"
     ]
    }
   ],
   "source": [
    "!conda activate venv"
   ]
  },
  {
   "cell_type": "markdown",
   "id": "5371ab0d-2f9c-486d-9329-1837282601e0",
   "metadata": {},
   "source": [
    "# Import libraries"
   ]
  },
  {
   "cell_type": "code",
   "execution_count": 5,
   "id": "c77205c3-ad35-4488-8608-f167080a0143",
   "metadata": {},
   "outputs": [],
   "source": [
    "import couchbase\n",
    "from couchbase.cluster import Cluster, ClusterOptions\n",
    "from couchbase.auth import PasswordAuthenticator\n",
    "from couchbase.options import ClusterOptions\n",
    "from couchbase.exceptions import CouchbaseException\n",
    "import time"
   ]
  },
  {
   "cell_type": "markdown",
   "id": "793dfbbc-83f5-4b46-8f4c-134abe201343",
   "metadata": {},
   "source": [
    "# Cluster connection and index creation"
   ]
  },
  {
   "cell_type": "code",
   "execution_count": null,
   "id": "dde38ee3-63c8-4e35-b4d4-66f32a1e75c8",
   "metadata": {},
   "outputs": [],
   "source": [
    "# Connect to cluster\n",
    "cluster = Cluster.connect(\n",
    "    \"couchbase://localhost\",\n",
    "    ClusterOptions(PasswordAuthenticator(\"smartmeterbenchmark\", \"smartmeterbenchmark\")))\n",
    "\n",
    "# Create index before using N1QL query\n",
    "try:\n",
    "    cluster.query_indexes().create_primary_index('smartmeterbenchmark')\n",
    "\n",
    "except CouchbaseException as ex:\n",
    "    import traceback\n",
    "    traceback.print_exc()"
   ]
  },
  {
   "cell_type": "markdown",
   "id": "e83eb14f-07fd-40f6-a0ee-a044d21831c5",
   "metadata": {},
   "source": [
    "# Simple Retrieval"
   ]
  },
  {
   "cell_type": "markdown",
   "id": "c5404134-7b52-4071-8f56-ac45e30690ed",
   "metadata": {},
   "source": [
    "## First Query Workload"
   ]
  },
  {
   "cell_type": "code",
   "execution_count": 63,
   "id": "200d6b0d-1fc4-49fd-9ab7-1855a44a13a1",
   "metadata": {
    "scrolled": true
   },
   "outputs": [
    {
     "name": "stdout",
     "output_type": "stream",
     "text": [
      "energy_min: 0.064, energy_max: 0.312\n",
      "energy_min: 0.065, energy_max: 0.299\n",
      "energy_min: 0.064, energy_max: 0.7829999999999999\n",
      "energy_min: 0.066, energy_max: 1.1619999\n",
      "energy_min: 0.065, energy_max: 0.742\n",
      "Query execution time: 0.1437664031982422 milliseconds\n"
     ]
    }
   ],
   "source": [
    "# Define the N1QL query\n",
    "query = f\"SELECT energy_min, energy_max FROM `smartmeterbenchmark` WHERE LCLid = 'MAC000131' AND day >= '2012-06-01' AND day <= '2013-06-01' LIMIT 5\"\n",
    "\n",
    "# Start timer\n",
    "start_time = time.time()\n",
    "\n",
    "# Execute the query\n",
    "result = cluster.query(query)\n",
    "\n",
    "# End timer\n",
    "end_time = time.time()\n",
    "\n",
    "# Calculate execution time\n",
    "execution_time = (end_time - start_time)*1000\n",
    "\n",
    "# Print results\n",
    "for row in result:\n",
    "    energy_min = row[\"energy_min\"]\n",
    "    energy_max = row[\"energy_max\"]\n",
    "    print(f\"energy_min: {energy_min}, energy_max: {energy_max}\")\n",
    "\n",
    "# Print execution time\n",
    "print(f\"Query execution time: {execution_time} milliseconds\")"
   ]
  },
  {
   "cell_type": "markdown",
   "id": "4111c982-756f-40e4-901e-01a6e2171a1d",
   "metadata": {},
   "source": [
    "## Second Query Workload"
   ]
  },
  {
   "cell_type": "code",
   "execution_count": 64,
   "id": "03ef6b34-85a6-4b83-9e80-ee9c94f740db",
   "metadata": {
    "scrolled": true
   },
   "outputs": [
    {
     "name": "stdout",
     "output_type": "stream",
     "text": [
      "energy_min: 0.064, energy_max: 0.312\n",
      "energy_min: 0.065, energy_max: 0.299\n",
      "energy_min: 0.064, energy_max: 0.7829999999999999\n",
      "energy_min: 0.066, energy_max: 1.1619999\n",
      "energy_min: 0.065, energy_max: 0.742\n",
      "Query execution time: 0.23603439331054688 milliseconds\n"
     ]
    }
   ],
   "source": [
    "# Define the N1QL query\n",
    "query = f\"SELECT energy_min, energy_max FROM `smartmeterbenchmark` WHERE LCLid = 'MAC000131' AND day >= '2012-06-01' AND day <= '2013-06-01' LIMIT 5\"\n",
    "\n",
    "# Start timer\n",
    "start_time = time.time()\n",
    "\n",
    "# Execute the query\n",
    "result = cluster.query(query)\n",
    "\n",
    "# End timer\n",
    "end_time = time.time()\n",
    "\n",
    "# Calculate execution time\n",
    "execution_time = (end_time - start_time)*1000\n",
    "\n",
    "# Print results\n",
    "for row in result:\n",
    "    energy_min = row[\"energy_min\"]\n",
    "    energy_max = row[\"energy_max\"]\n",
    "    print(f\"energy_min: {energy_min}, energy_max: {energy_max}\")\n",
    "\n",
    "# Print execution time\n",
    "print(f\"Query execution time: {execution_time} milliseconds\")"
   ]
  },
  {
   "cell_type": "markdown",
   "id": "75b1b4ef-5709-4a6e-80e1-6f82ebcdbcc2",
   "metadata": {},
   "source": [
    "## Third Query Workload"
   ]
  },
  {
   "cell_type": "code",
   "execution_count": 65,
   "id": "b6bcad76-e45a-4bc3-9d5b-00c7990825d0",
   "metadata": {},
   "outputs": [
    {
     "name": "stdout",
     "output_type": "stream",
     "text": [
      "energy_min: 0.064, energy_max: 0.312\n",
      "energy_min: 0.065, energy_max: 0.299\n",
      "energy_min: 0.064, energy_max: 0.7829999999999999\n",
      "energy_min: 0.066, energy_max: 1.1619999\n",
      "energy_min: 0.065, energy_max: 0.742\n",
      "Query execution time: 0.16188621520996094 milliseconds\n"
     ]
    }
   ],
   "source": [
    "# Define the N1QL query\n",
    "query = f\"SELECT energy_min, energy_max FROM `smartmeterbenchmark` WHERE LCLid = 'MAC000131' AND day >= '2012-06-01' AND day <= '2013-06-01' LIMIT 5\"\n",
    "\n",
    "# Start timer\n",
    "start_time = time.time()\n",
    "\n",
    "# Execute the query\n",
    "result = cluster.query(query)\n",
    "\n",
    "# End timer\n",
    "end_time = time.time()\n",
    "\n",
    "# Calculate execution time\n",
    "execution_time = (end_time - start_time)*1000\n",
    "\n",
    "# Print results\n",
    "for row in result:\n",
    "    energy_min = row[\"energy_min\"]\n",
    "    energy_max = row[\"energy_max\"]\n",
    "    print(f\"energy_min: {energy_min}, energy_max: {energy_max}\")\n",
    "\n",
    "# Print execution time\n",
    "print(f\"Query execution time: {execution_time} milliseconds\")"
   ]
  },
  {
   "cell_type": "markdown",
   "id": "8fb9d903-201c-4366-8c76-e43f587c2b73",
   "metadata": {},
   "source": [
    "## Overall Query Execution Time for Simple Retrieval"
   ]
  },
  {
   "cell_type": "code",
   "execution_count": 83,
   "id": "2f7988b6-ec14-46fe-99cd-a33facb84a9a",
   "metadata": {
    "scrolled": true
   },
   "outputs": [
    {
     "name": "stdout",
     "output_type": "stream",
     "text": [
      "Average Query Execution Time: 0.18000000000000002 milliseconds\n"
     ]
    }
   ],
   "source": [
    "print(f\"Average Query Execution Time: {((0.14+0.24+0.16)/3)} milliseconds\")"
   ]
  },
  {
   "cell_type": "markdown",
   "id": "79a4e64d-c162-4e7b-95dc-e46552b38747",
   "metadata": {},
   "source": [
    "# Filter and Aggregation"
   ]
  },
  {
   "cell_type": "markdown",
   "id": "1913a113-f770-4608-896b-4f311de89cde",
   "metadata": {},
   "source": [
    "## First Query Workload"
   ]
  },
  {
   "cell_type": "code",
   "execution_count": 80,
   "id": "7c1d38a5-4d5b-4247-ab0b-0139506710f2",
   "metadata": {
    "scrolled": true
   },
   "outputs": [
    {
     "name": "stdout",
     "output_type": "stream",
     "text": [
      "LCLid: MAC000131, Sum of energy_sum: 3691.994999699999\n",
      "LCLid: MAC000132, Sum of energy_sum: 5258.847001099997\n",
      "LCLid: MAC000221, Sum of energy_sum: 4917.545999700001\n",
      "LCLid: MAC000228, Sum of energy_sum: 2707.6260002999993\n",
      "LCLid: MAC000234, Sum of energy_sum: 4213.725000000001\n",
      "LCLid: MAC000235, Sum of energy_sum: 1528.1550000999991\n",
      "Query execution time: 0.14519691467285156 milliseconds\n"
     ]
    }
   ],
   "source": [
    "# Define the N1QL query\n",
    "query = f\"SELECT LCLid, SUM(energy_sum) AS energy_sum FROM `smartmeterbenchmark` WHERE day >= '2012-06-01' AND day <= '2013-06-01' GROUP BY LCLid ORDER BY LCLid\"\n",
    "\n",
    "# Start timer\n",
    "start_time = time.time()\n",
    "\n",
    "# Execute query\n",
    "result = cluster.query(query)\n",
    "\n",
    "# End timer\n",
    "end_time = time.time()\n",
    "\n",
    "# Calculate execution time\n",
    "execution_time = (end_time - start_time)*1000\n",
    "\n",
    "# Print results\n",
    "for row in result:\n",
    "    LCLid = row[\"LCLid\"]\n",
    "    energy_sum = row[\"energy_sum\"]\n",
    "    print(f\"LCLid: {LCLid}, Sum of energy_sum: {energy_sum}\")\n",
    "\n",
    "# Print execution time\n",
    "print(f\"Query execution time: {execution_time} milliseconds\")"
   ]
  },
  {
   "cell_type": "markdown",
   "id": "7cd8b2b4-84fb-455a-a9c5-9849808d7a77",
   "metadata": {},
   "source": [
    "## Second Query Workload"
   ]
  },
  {
   "cell_type": "code",
   "execution_count": 81,
   "id": "74eacf92-9b66-4656-9e7c-02ff62b8fc90",
   "metadata": {
    "scrolled": true
   },
   "outputs": [
    {
     "name": "stdout",
     "output_type": "stream",
     "text": [
      "LCLid: MAC000131, Sum of energy_sum: 3691.994999699999\n",
      "LCLid: MAC000132, Sum of energy_sum: 5258.847001099997\n",
      "LCLid: MAC000221, Sum of energy_sum: 4917.545999700001\n",
      "LCLid: MAC000228, Sum of energy_sum: 2707.6260002999993\n",
      "LCLid: MAC000234, Sum of energy_sum: 4213.725000000001\n",
      "LCLid: MAC000235, Sum of energy_sum: 1528.1550000999991\n",
      "Query execution time: 0.14328956604003906 milliseconds\n"
     ]
    }
   ],
   "source": [
    "# Define the N1QL query\n",
    "query = f\"SELECT LCLid, SUM(energy_sum) AS energy_sum FROM `smartmeterbenchmark` WHERE day >= '2012-06-01' AND day <= '2013-06-01' GROUP BY LCLid ORDER BY LCLid\"\n",
    "\n",
    "# Start timer\n",
    "start_time = time.time()\n",
    "\n",
    "# Execute query\n",
    "result = cluster.query(query)\n",
    "\n",
    "# End timer\n",
    "end_time = time.time()\n",
    "\n",
    "# Calculate execution time\n",
    "execution_time = (end_time - start_time)*1000\n",
    "\n",
    "# Print results\n",
    "for row in result:\n",
    "    LCLid = row[\"LCLid\"]\n",
    "    energy_sum = row[\"energy_sum\"]\n",
    "    print(f\"LCLid: {LCLid}, Sum of energy_sum: {energy_sum}\")\n",
    "\n",
    "# Print execution time\n",
    "print(f\"Query execution time: {execution_time} milliseconds\")"
   ]
  },
  {
   "cell_type": "markdown",
   "id": "e875bfd4-4e43-4795-b2fb-a15f4c6e9fe6",
   "metadata": {},
   "source": [
    "## Third Query Workload"
   ]
  },
  {
   "cell_type": "code",
   "execution_count": 82,
   "id": "2f499c83-4c57-4b4a-b165-14f46cc101ef",
   "metadata": {
    "scrolled": true
   },
   "outputs": [
    {
     "name": "stdout",
     "output_type": "stream",
     "text": [
      "LCLid: MAC000131, Sum of energy_sum: 3691.994999699999\n",
      "LCLid: MAC000132, Sum of energy_sum: 5258.847001099997\n",
      "LCLid: MAC000221, Sum of energy_sum: 4917.545999700001\n",
      "LCLid: MAC000228, Sum of energy_sum: 2707.6260002999993\n",
      "LCLid: MAC000234, Sum of energy_sum: 4213.725000000001\n",
      "LCLid: MAC000235, Sum of energy_sum: 1528.1550000999991\n",
      "Query execution time: 0.15306472778320312 milliseconds\n"
     ]
    }
   ],
   "source": [
    "# Define the N1QL query\n",
    "query = f\"SELECT LCLid, SUM(energy_sum) AS energy_sum FROM `smartmeterbenchmark` WHERE day >= '2012-06-01' AND day <= '2013-06-01' GROUP BY LCLid ORDER BY LCLid\"\n",
    "\n",
    "# Start timer\n",
    "start_time = time.time()\n",
    "\n",
    "# Execute query\n",
    "result = cluster.query(query)\n",
    "\n",
    "# End timer\n",
    "end_time = time.time()\n",
    "\n",
    "# Calculate execution time\n",
    "execution_time = (end_time - start_time)*1000\n",
    "\n",
    "# Print results\n",
    "for row in result:\n",
    "    LCLid = row[\"LCLid\"]\n",
    "    energy_sum = row[\"energy_sum\"]\n",
    "    print(f\"LCLid: {LCLid}, Sum of energy_sum: {energy_sum}\")\n",
    "\n",
    "# Print execution time\n",
    "print(f\"Query execution time: {execution_time} milliseconds\")"
   ]
  },
  {
   "cell_type": "markdown",
   "id": "e953281c-df03-4a40-888a-f6ce3739d23c",
   "metadata": {},
   "source": [
    "## Overall Query Execution Time for Filter and Aggregation"
   ]
  },
  {
   "cell_type": "code",
   "execution_count": 84,
   "id": "e6355116-8574-4fe5-9ff3-1ff019c13b22",
   "metadata": {},
   "outputs": [
    {
     "name": "stdout",
     "output_type": "stream",
     "text": [
      "Average Query Execution Time: 0.1466666666666667 milliseconds\n"
     ]
    }
   ],
   "source": [
    "print(f\"Average Query Execution Time: {((0.15+0.14+0.15)/3)} milliseconds\")"
   ]
  },
  {
   "cell_type": "markdown",
   "id": "cb05f67a-e9ab-4feb-9a93-1f8c297a2878",
   "metadata": {},
   "source": [
    "# Metadata"
   ]
  },
  {
   "cell_type": "code",
   "execution_count": 96,
   "id": "b38c478b-1ec8-4e19-bb70-269a08e19412",
   "metadata": {},
   "outputs": [
    {
     "name": "stdout",
     "output_type": "stream",
     "text": [
      "{'$1': {'cas': 1688555078305906688, 'expiration': 0, 'flags': 33554432, 'id': 'MAC000131_2011-12-15', 'keyspace': 'default:smartmeterbenchmark', 'type': 'json'}}\n",
      "{'$1': {'cas': 1688555078330155008, 'expiration': 0, 'flags': 33554432, 'id': 'MAC000131_2011-12-16', 'keyspace': 'default:smartmeterbenchmark', 'type': 'json'}}\n",
      "{'$1': {'cas': 1688555078332907520, 'expiration': 0, 'flags': 33554432, 'id': 'MAC000131_2011-12-17', 'keyspace': 'default:smartmeterbenchmark', 'type': 'json'}}\n",
      "{'$1': {'cas': 1688555078346735616, 'expiration': 0, 'flags': 33554432, 'id': 'MAC000131_2011-12-18', 'keyspace': 'default:smartmeterbenchmark', 'type': 'json'}}\n",
      "{'$1': {'cas': 1688555078350602240, 'expiration': 0, 'flags': 33554432, 'id': 'MAC000131_2011-12-19', 'keyspace': 'default:smartmeterbenchmark', 'type': 'json'}}\n"
     ]
    }
   ],
   "source": [
    "# Define N1QL query\n",
    "query = f\"Select meta(smartmeterbenchmark) from smartmeterbenchmark LIMIT 5\"\n",
    "\n",
    "# Execute query\n",
    "result = cluster.query(query)\n",
    "\n",
    "# Print results\n",
    "for row in result:\n",
    "    print(row)"
   ]
  }
 ],
 "metadata": {
  "kernelspec": {
   "display_name": "Python 3 (ipykernel)",
   "language": "python",
   "name": "python3"
  },
  "language_info": {
   "codemirror_mode": {
    "name": "ipython",
    "version": 3
   },
   "file_extension": ".py",
   "mimetype": "text/x-python",
   "name": "python",
   "nbconvert_exporter": "python",
   "pygments_lexer": "ipython3",
   "version": "3.9.7"
  }
 },
 "nbformat": 4,
 "nbformat_minor": 5
}
