{
 "cells": [
  {
   "cell_type": "markdown",
   "id": "3eaaa828-e67c-4897-87a4-74d63bba390d",
   "metadata": {},
   "source": [
    "# Activate virtual environment"
   ]
  },
  {
   "cell_type": "code",
   "execution_count": 1,
   "id": "e422f3ac-f1a2-4215-97db-07dc1333b6bb",
   "metadata": {},
   "outputs": [],
   "source": [
    "import os\n",
    "os.environ['CONDA_DEFAULT_ENV'] = '/Users/jafarabdurrahmaan/opt/anaconda3/envs/venv'"
   ]
  },
  {
   "cell_type": "code",
   "execution_count": 2,
   "id": "d08f1211-6194-43ae-8d47-c04864537ac9",
   "metadata": {},
   "outputs": [
    {
     "name": "stdout",
     "output_type": "stream",
     "text": [
      "\n",
      "CommandNotFoundError: Your shell has not been properly configured to use 'conda activate'.\n",
      "To initialize your shell, run\n",
      "\n",
      "    $ conda init <SHELL_NAME>\n",
      "\n",
      "Currently supported shells are:\n",
      "  - bash\n",
      "  - fish\n",
      "  - tcsh\n",
      "  - xonsh\n",
      "  - zsh\n",
      "  - powershell\n",
      "\n",
      "See 'conda init --help' for more information and options.\n",
      "\n",
      "IMPORTANT: You may need to close and restart your shell after running 'conda init'.\n",
      "\n",
      "\n"
     ]
    }
   ],
   "source": [
    "!conda activate venv"
   ]
  },
  {
   "cell_type": "code",
   "execution_count": 3,
   "id": "7a3a461b-fe43-4ef9-a275-68fbc423b2f5",
   "metadata": {},
   "outputs": [
    {
     "name": "stdout",
     "output_type": "stream",
     "text": [
      "\n",
      "     active environment : None\n",
      "       user config file : /Users/jafarabdurrahmaan/.condarc\n",
      " populated config files : /Users/jafarabdurrahmaan/.condarc\n",
      "          conda version : 4.10.3\n",
      "    conda-build version : 3.21.5\n",
      "         python version : 3.9.7.final.0\n",
      "       virtual packages : __osx=10.16=0\n",
      "                          __unix=0=0\n",
      "                          __archspec=1=x86_64\n",
      "       base environment : /Users/jafarabdurrahmaan/opt/anaconda3  (writable)\n",
      "      conda av data dir : /Users/jafarabdurrahmaan/opt/anaconda3/etc/conda\n",
      "  conda av metadata url : None\n",
      "           channel URLs : https://conda.anaconda.org/conda-forge/osx-64\n",
      "                          https://conda.anaconda.org/conda-forge/noarch\n",
      "                          https://repo.anaconda.com/pkgs/main/osx-64\n",
      "                          https://repo.anaconda.com/pkgs/main/noarch\n",
      "                          https://repo.anaconda.com/pkgs/r/osx-64\n",
      "                          https://repo.anaconda.com/pkgs/r/noarch\n",
      "          package cache : /Users/jafarabdurrahmaan/opt/anaconda3/pkgs\n",
      "                          /Users/jafarabdurrahmaan/.conda/pkgs\n",
      "       envs directories : /Users/jafarabdurrahmaan/opt/anaconda3/envs\n",
      "                          /Users/jafarabdurrahmaan/.conda/envs\n",
      "               platform : osx-64\n",
      "             user-agent : conda/4.10.3 requests/2.26.0 CPython/3.9.7 Darwin/21.3.0 OSX/10.16\n",
      "                UID:GID : 0:0\n",
      "             netrc file : None\n",
      "           offline mode : False\n",
      "\n"
     ]
    }
   ],
   "source": [
    "!conda info"
   ]
  },
  {
   "cell_type": "code",
   "execution_count": 4,
   "id": "7d41631a-55a2-4013-996b-fe0027d2c046",
   "metadata": {},
   "outputs": [
    {
     "name": "stdout",
     "output_type": "stream",
     "text": [
      "\u001b[33mWARNING: The directory '/Users/jafarabdurrahmaan/Library/Caches/pip' or its parent directory is not owned or is not writable by the current user. The cache has been disabled. Check the permissions and owner of that directory. If executing pip with sudo, you should use sudo's -H flag.\u001b[0m\u001b[33m\n",
      "\u001b[0mRequirement already satisfied: couchbase in /Users/jafarabdurrahmaan/opt/anaconda3/envs/venv/lib/python3.11/site-packages (4.1.5)\n",
      "\u001b[33mWARNING: Running pip as the 'root' user can result in broken permissions and conflicting behaviour with the system package manager. It is recommended to use a virtual environment instead: https://pip.pypa.io/warnings/venv\u001b[0m\u001b[33m\n",
      "\u001b[0m"
     ]
    }
   ],
   "source": [
    "!pip install couchbase"
   ]
  },
  {
   "cell_type": "markdown",
   "id": "5371ab0d-2f9c-486d-9329-1837282601e0",
   "metadata": {},
   "source": [
    "# Import libraries"
   ]
  },
  {
   "cell_type": "code",
   "execution_count": 5,
   "id": "c77205c3-ad35-4488-8608-f167080a0143",
   "metadata": {},
   "outputs": [],
   "source": [
    "import couchbase\n",
    "from couchbase.cluster import Cluster, ClusterOptions\n",
    "from couchbase.auth import PasswordAuthenticator\n",
    "from couchbase.options import ClusterOptions\n",
    "from datetime import datetime\n",
    "import json\n",
    "import time"
   ]
  },
  {
   "cell_type": "markdown",
   "id": "793dfbbc-83f5-4b46-8f4c-134abe201343",
   "metadata": {},
   "source": [
    "# Data Insertion"
   ]
  },
  {
   "cell_type": "code",
   "execution_count": 13,
   "id": "f4c41b17-7ef1-4114-bb8b-16e886ecac5d",
   "metadata": {},
   "outputs": [
    {
     "name": "stderr",
     "output_type": "stream",
     "text": [
      "/tmp/ipykernel_78438/2956539155.py:10: CouchbaseDeprecationWarning: Importing ClusterOptions from couchbase.cluster is deprecated and will be removed in a future release.  Import ClusterOptions from couchbase.options instead.\n",
      "  ClusterOptions(PasswordAuthenticator(\"smartmeterbenchmark\", \"smartmeterbenchmark\")))\n"
     ]
    },
    {
     "name": "stdout",
     "output_type": "stream",
     "text": [
      "Data inserted successfully.\n",
      "Data insertion took: 10.368248701095581 seconds.\n"
     ]
    }
   ],
   "source": [
    "# Connect to cluster\n",
    "cluster = Cluster.connect(\n",
    "    \"couchbase://localhost\",\n",
    "    ClusterOptions(PasswordAuthenticator(\"smartmeterbenchmark\", \"smartmeterbenchmark\")))\n",
    "\n",
    "# Access bucket and collection\n",
    "bucket = cluster.bucket(\"smartmeterbenchmark\")\n",
    "collection = bucket.default_collection()\n",
    "\n",
    "# Read JSON file\n",
    "with open(\"/Users/jafarabdurrahmaan/Dropbox/00_Uni/Masterthesis/A_Thesis/1_Components/13_Benchmark_Study_Components/4_Document/Couchbase/iter2/daily_dataset_small.json\") as f:\n",
    "    data = json.load(f)\n",
    "\n",
    "# Start timer\n",
    "start_time = time.time()\n",
    "\n",
    "# Insert each document into collection\n",
    "for document in data:\n",
    "    document[\"LCLid\"] = str(document[\"LCLid\"])\n",
    "    document[\"day\"] = datetime.strptime(document[\"day\"], \"%Y-%m-%d\").strftime(\"%Y-%m-%d\")\n",
    "    document[\"energy_median\"] = float(document[\"energy_median\"])\n",
    "    document[\"energy_mean\"] = float(document[\"energy_mean\"])\n",
    "    document[\"energy_max\"] = float(document[\"energy_max\"])\n",
    "    document[\"energy_count\"] = int(document[\"energy_count\"])\n",
    "    document[\"energy_std\"] = float(document[\"energy_std\"])\n",
    "    document[\"energy_sum\"] = float(document[\"energy_sum\"])\n",
    "    document[\"energy_min\"] = float(document[\"energy_min\"])\n",
    "\n",
    "    collection.insert(str(document[\"id\"]), document)\n",
    "\n",
    "# End timer\n",
    "end_time = time.time()\n",
    "\n",
    "# Calculate execution time\n",
    "execution_time = end_time - start_time\n",
    "\n",
    "print(\"Data inserted successfully.\")\n",
    "print(f\"Data insertion took: {execution_time} seconds.\")"
   ]
  }
 ],
 "metadata": {
  "kernelspec": {
   "display_name": "Python 3 (ipykernel)",
   "language": "python",
   "name": "python3"
  },
  "language_info": {
   "codemirror_mode": {
    "name": "ipython",
    "version": 3
   },
   "file_extension": ".py",
   "mimetype": "text/x-python",
   "name": "python",
   "nbconvert_exporter": "python",
   "pygments_lexer": "ipython3",
   "version": "3.9.7"
  }
 },
 "nbformat": 4,
 "nbformat_minor": 5
}
