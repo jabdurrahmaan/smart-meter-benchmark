{
 "cells": [
  {
   "cell_type": "code",
   "execution_count": 1,
   "id": "3b08678c-abac-449c-b4fa-3452d6ed90b9",
   "metadata": {},
   "outputs": [],
   "source": [
    "import hazelcast\n",
    "import logging\n",
    "logging.basicConfig(level=logging.INFO)"
   ]
  },
  {
   "cell_type": "code",
   "execution_count": 5,
   "id": "31df5e76-ceea-4908-8f27-f5ae7d8cff41",
   "metadata": {},
   "outputs": [
    {
     "name": "stderr",
     "output_type": "stream",
     "text": [
      "INFO:hazelcast.lifecycle:HazelcastClient 5.3.0 is STARTING\n",
      "INFO:hazelcast.lifecycle:HazelcastClient 5.3.0 is STARTED\n",
      "INFO:hazelcast.connection:Trying to connect to Address(host=127.0.0.1, port=5701)\n",
      "INFO:hazelcast.lifecycle:HazelcastClient 5.3.0 is CONNECTED\n",
      "INFO:hazelcast.connection:Authenticated with server Address(host=127.0.0.1, port=5701):64d6a794-babf-4b5e-9798-90b31ccf0584, server version: 5.2.4, local address: Address(host=127.0.0.1, port=54417)\n",
      "INFO:hazelcast.cluster:\n",
      "\n",
      "Members [1] {\n",
      "\tMember [127.0.0.1]:5701 - 64d6a794-babf-4b5e-9798-90b31ccf0584\n",
      "}\n",
      "\n",
      "INFO:hazelcast.client:Client started\n"
     ]
    }
   ],
   "source": [
    "# Create a client using the configuration below\n",
    "\n",
    "client = hazelcast.HazelcastClient(\n",
    "    cluster_members=[\"127.0.0.1:5701\", \"127.0.0.1:5702\", ])"
   ]
  },
  {
   "cell_type": "code",
   "execution_count": 8,
   "id": "af958c1b-ef64-478c-8c2d-bd55f1d3a34c",
   "metadata": {},
   "outputs": [
    {
     "name": "stdout",
     "output_type": "stream",
     "text": [
      "Ingestion time: 0.9382271766662598 seconds\n"
     ]
    }
   ],
   "source": [
    "import hazelcast\n",
    "import json\n",
    "\n",
    "client = hazelcast.HazelcastClient()\n",
    "multi_map = client.get_multi_map(\"smart-meter-benchmark_mm\")\n",
    "\n",
    "# Load the JSON data from the file\n",
    "with open('/Users/jafarabdurrahmaan/Dropbox/00_Uni/Masterthesis/A_Thesis/1_Components/13_Benchmark_Study_Components/3_KVS/Hazelcast/iter2.2/daily_dataset_small_kv.json', 'r') as file:\n",
    "    json_data = json.load(file)\n",
    "\n",
    "# Measure the ingestion time\n",
    "start_time = time.time()\n",
    "\n",
    "# Iterate over the JSON data and insert into MultiMap\n",
    "for item in json_data:\n",
    "    key = item['id']\n",
    "    values = [\n",
    "        item['LCLid'],\n",
    "        item['day'],\n",
    "        item['energy_median'],\n",
    "        item['energy_mean'],\n",
    "        item['energy_max'],\n",
    "        item['energy_count'],\n",
    "        item['energy_std'],\n",
    "        item['energy_sum'],\n",
    "        item['energy_min']\n",
    "    ]\n",
    "    multi_map.put_all({key: values})\n",
    "\n",
    "# Calculate the ingestion time\n",
    "end_time = time.time()\n",
    "ingestion_time = end_time - start_time\n",
    "\n",
    "# Print the ingestion time\n",
    "print(\"Ingestion time:\", ingestion_time, \"seconds\")\n",
    "\n",
    "client.shutdown()"
   ]
  },
  {
   "cell_type": "markdown",
   "id": "85471563-669a-447c-9bb4-b5ff015d5cf8",
   "metadata": {},
   "source": [
    "Query 1"
   ]
  },
  {
   "cell_type": "code",
   "execution_count": 21,
   "id": "144cf3bb-eb57-438f-9e11-60ea5d79f997",
   "metadata": {},
   "outputs": [
    {
     "name": "stdout",
     "output_type": "stream",
     "text": [
      "Values for key 'MAC000131_2012-06-01': [48, 0.1105, 0.312, 'MAC000131', 0.0550555449697384, '2012-06-01', 0.1203124999999999, 5.774999999999998, 0.064]\n",
      "Values for key 'MAC000131_2012-06-02': [48, 0.0545717328369064, 5.459000000000001, 0.065, 0.299, 'MAC000131', 0.1137291666666667, '2012-06-02', 0.092]\n",
      "Values for key 'MAC000131_2012-06-03': [48, 0.1165, 'MAC000131', '2012-06-03', 0.1350208333333333, 0.7829999999999999, 0.1098601605491568, 6.481000000000001, 0.064]\n",
      "Query execution time: 5.22613525390625 milliseconds\n"
     ]
    }
   ],
   "source": [
    "import hazelcast\n",
    "\n",
    "client = hazelcast.HazelcastClient()\n",
    "multi_map = client.get_multi_map(\"smart-meter-benchmark_mm\")\n",
    "\n",
    "keys = [\"MAC000131_2012-06-01\", \"MAC000131_2012-06-02\", \"MAC000131_2012-06-03\"]\n",
    "\n",
    "# Measure the query execution time\n",
    "start_time = time.time()\n",
    "\n",
    "# Iterate over the keys and retrieve values\n",
    "for key in keys:\n",
    "    values_future = multi_map.get(key)\n",
    "    values = values_future.result()\n",
    "    print(f\"Values for key '{key}': {values}\")\n",
    "\n",
    "# Calculate the query execution time\n",
    "end_time = time.time()\n",
    "execution_time = end_time - start_time\n",
    "\n",
    "# Print the query execution time\n",
    "print(\"Query execution time:\", execution_time*1000, \"milliseconds\")\n",
    "\n",
    "client.shutdown()"
   ]
  },
  {
   "cell_type": "markdown",
   "id": "f562f9b4-d5e9-40ac-83fe-8743dc309934",
   "metadata": {},
   "source": [
    "Query 2"
   ]
  },
  {
   "cell_type": "code",
   "execution_count": 22,
   "id": "eb1b551b-e8dc-4f7f-8ac1-3f56703eea2c",
   "metadata": {},
   "outputs": [
    {
     "name": "stdout",
     "output_type": "stream",
     "text": [
      "Values for key 'MAC000131_2012-06-01': [48, 0.1105, 0.312, 'MAC000131', 0.0550555449697384, '2012-06-01', 0.1203124999999999, 5.774999999999998, 0.064]\n",
      "Values for key 'MAC000131_2012-06-02': [48, 0.0545717328369064, 5.459000000000001, 0.065, 0.299, 'MAC000131', 0.1137291666666667, '2012-06-02', 0.092]\n",
      "Values for key 'MAC000131_2012-06-03': [48, 0.1165, 'MAC000131', '2012-06-03', 0.1350208333333333, 0.7829999999999999, 0.1098601605491568, 6.481000000000001, 0.064]\n",
      "Query execution time: 3.0100345611572266 milliseconds\n"
     ]
    }
   ],
   "source": [
    "import hazelcast\n",
    "\n",
    "client = hazelcast.HazelcastClient()\n",
    "multi_map = client.get_multi_map(\"smart-meter-benchmark_mm\")\n",
    "\n",
    "keys = [\"MAC000131_2012-06-01\", \"MAC000131_2012-06-02\", \"MAC000131_2012-06-03\"]\n",
    "\n",
    "# Measure the query execution time\n",
    "start_time = time.time()\n",
    "\n",
    "# Iterate over the keys and retrieve values\n",
    "for key in keys:\n",
    "    values_future = multi_map.get(key)\n",
    "    values = values_future.result()\n",
    "    print(f\"Values for key '{key}': {values}\")\n",
    "\n",
    "# Calculate the query execution time\n",
    "end_time = time.time()\n",
    "execution_time = end_time - start_time\n",
    "\n",
    "# Print the query execution time\n",
    "print(\"Query execution time:\", execution_time*1000, \"milliseconds\")\n",
    "\n",
    "client.shutdown()"
   ]
  },
  {
   "cell_type": "markdown",
   "id": "c7d5be97-926f-47e5-aaca-b30259fd9278",
   "metadata": {},
   "source": [
    "Query 3"
   ]
  },
  {
   "cell_type": "code",
   "execution_count": 23,
   "id": "b266d963-bdd0-4aca-a28d-f677527961c1",
   "metadata": {},
   "outputs": [
    {
     "name": "stdout",
     "output_type": "stream",
     "text": [
      "Values for key 'MAC000131_2012-06-01': [48, 0.1105, 0.312, 'MAC000131', 0.0550555449697384, '2012-06-01', 0.1203124999999999, 5.774999999999998, 0.064]\n",
      "Values for key 'MAC000131_2012-06-02': [48, 0.0545717328369064, 5.459000000000001, 0.065, 0.299, 'MAC000131', 0.1137291666666667, '2012-06-02', 0.092]\n",
      "Values for key 'MAC000131_2012-06-03': [48, 0.1165, 'MAC000131', '2012-06-03', 0.1350208333333333, 0.7829999999999999, 0.1098601605491568, 6.481000000000001, 0.064]\n",
      "Query execution time: 2.988100051879883 milliseconds\n"
     ]
    }
   ],
   "source": [
    "import hazelcast\n",
    "\n",
    "client = hazelcast.HazelcastClient()\n",
    "multi_map = client.get_multi_map(\"smart-meter-benchmark_mm\")\n",
    "\n",
    "keys = [\"MAC000131_2012-06-01\", \"MAC000131_2012-06-02\", \"MAC000131_2012-06-03\"]\n",
    "\n",
    "# Measure the query execution time\n",
    "start_time = time.time()\n",
    "\n",
    "# Iterate over the keys and retrieve values\n",
    "for key in keys:\n",
    "    values_future = multi_map.get(key)\n",
    "    values = values_future.result()\n",
    "    print(f\"Values for key '{key}': {values}\")\n",
    "\n",
    "# Calculate the query execution time\n",
    "end_time = time.time()\n",
    "execution_time = end_time - start_time\n",
    "\n",
    "# Print the query execution time\n",
    "print(\"Query execution time:\", execution_time*1000, \"milliseconds\")\n",
    "\n",
    "client.shutdown()"
   ]
  },
  {
   "cell_type": "code",
   "execution_count": 24,
   "id": "37b756a6-2d6f-49e9-b3ab-e64a1ad3f463",
   "metadata": {},
   "outputs": [
    {
     "name": "stdout",
     "output_type": "stream",
     "text": [
      "Average Query Execution Time: 3.74 milliseconds\n"
     ]
    }
   ],
   "source": [
    "print(f\"Average Query Execution Time: {((5.22+3.01+2.99)/3)} milliseconds\")"
   ]
  },
  {
   "cell_type": "markdown",
   "id": "5e5b28f2-466f-4828-b492-80890ad1a246",
   "metadata": {},
   "source": [
    "Metadata"
   ]
  },
  {
   "cell_type": "code",
   "execution_count": null,
   "id": "4ea43388-48c0-45b4-bb63-fc685e95716b",
   "metadata": {},
   "outputs": [],
   "source": [
    "client = hazelcast.HazelcastClient()\n",
    "multi_map = client.get_multi_map(\"smart-meter-benchmark_mm\")\n",
    "\n",
    "# Get all keys in the MultiMap\n",
    "keys_future = multi_map.key_set()\n",
    "keys = keys_future.result()\n",
    "print(keys)"
   ]
  }
 ],
 "metadata": {
  "kernelspec": {
   "display_name": "Python 3 (ipykernel)",
   "language": "python",
   "name": "python3"
  },
  "language_info": {
   "codemirror_mode": {
    "name": "ipython",
    "version": 3
   },
   "file_extension": ".py",
   "mimetype": "text/x-python",
   "name": "python",
   "nbconvert_exporter": "python",
   "pygments_lexer": "ipython3",
   "version": "3.9.7"
  }
 },
 "nbformat": 4,
 "nbformat_minor": 5
}
