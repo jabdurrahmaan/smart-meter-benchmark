{
 "cells": [
  {
   "cell_type": "markdown",
   "id": "5411e2a4-a08e-4c43-9b2d-8dea938668ec",
   "metadata": {
    "tags": []
   },
   "source": [
    "# Import libraries"
   ]
  },
  {
   "cell_type": "code",
   "execution_count": null,
   "id": "a9f11007-4fdf-4c5e-91ae-ae9209512062",
   "metadata": {},
   "outputs": [],
   "source": [
    "import requests\n",
    "import json\n",
    "import time"
   ]
  },
  {
   "cell_type": "markdown",
   "id": "2acd693b-a0ab-4d6e-b980-e288528fdfe6",
   "metadata": {},
   "source": [
    "# Insert data"
   ]
  },
  {
   "cell_type": "code",
   "execution_count": 4,
   "id": "a47a2b12-29fa-41dc-9cce-85cf4581cad9",
   "metadata": {},
   "outputs": [
    {
     "name": "stdout",
     "output_type": "stream",
     "text": [
      "CSV file uploaded successfully.\n",
      "Execution time: 0.11 seconds\n"
     ]
    }
   ],
   "source": [
    "def main():\n",
    "    table_name = 'example'\n",
    "    table_csv = \"/Users/jafarabdurrahmaan/Dropbox/00_Uni/Masterthesis/A_Thesis/1_Thesis Components/13_Benchmark Study Components/2_TSDB/QuestDB/iter2/energy.csv\"\n",
    "    schema = json.dumps([\n",
    "        {'name': 'energy_date', 'type': 'DATE', 'pattern': 'yyyy-MM-dd'},\n",
    "        {'name': 'LCLid', 'type': 'STRING'},\n",
    "        {'name': 'energy_median', 'type': 'DOUBLE'},\n",
    "        {'name': 'energy_mean', 'type': 'DOUBLE'},\n",
    "        {'name': 'energy_max', 'type': 'DOUBLE'},\n",
    "        {'name': 'energy_count', 'type': 'DOUBLE'},\n",
    "        {'name': 'energy_std', 'type': 'DOUBLE'},\n",
    "        {'name': 'energy_sum', 'type': 'DOUBLE'},\n",
    "        {'name': 'energy_min', 'type': 'DOUBLE'}])\n",
    "\n",
    "    start_time = time.time()\n",
    "    \n",
    "    response = requests.post(\n",
    "        'http://localhost:9000/imp',\n",
    "        params={'fmt': 'csv'},\n",
    "        files={\n",
    "            'schema': schema,\n",
    "            'data': open(table_csv, 'rb')})\n",
    "    \n",
    "    end_time = time.time()\n",
    "\n",
    "    if response.ok:\n",
    "        print('CSV file uploaded successfully.')\n",
    "        print('Execution time: {:.2f} seconds'.format(end_time - start_time))\n",
    "    else:\n",
    "        print('Error uploading CSV file:')\n",
    "        print(response.content.decode())\n",
    "\n",
    "if __name__ == '__main__':\n",
    "    main()"
   ]
  }
 ],
 "metadata": {
  "kernelspec": {
   "display_name": "Python 3 (ipykernel)",
   "language": "python",
   "name": "python3"
  },
  "language_info": {
   "codemirror_mode": {
    "name": "ipython",
    "version": 3
   },
   "file_extension": ".py",
   "mimetype": "text/x-python",
   "name": "python",
   "nbconvert_exporter": "python",
   "pygments_lexer": "ipython3",
   "version": "3.9.7"
  }
 },
 "nbformat": 4,
 "nbformat_minor": 5
}
